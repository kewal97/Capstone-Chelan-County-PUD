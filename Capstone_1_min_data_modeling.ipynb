{
 "cells": [
  {
   "cell_type": "code",
   "execution_count": 1,
   "metadata": {
    "id": "NMxIxIsWtmUZ"
   },
   "outputs": [],
   "source": [
    "# import required libraries\n",
    "import numpy as np\n",
    "import pandas as pd\n",
    "import matplotlib.pyplot as plt\n",
    "import seaborn as sns\n",
    "\n",
    "from sklearn.preprocessing import StandardScaler\n",
    "from sklearn.model_selection import train_test_split, cross_val_score, KFold\n",
    "from sklearn.metrics import mean_squared_error, r2_score\n",
    "from sklearn.decomposition import PCA\n",
    "\n",
    "from sklearn.linear_model import LinearRegression\n",
    "from sklearn.ensemble import RandomForestRegressor\n",
    "\n",
    "from statsmodels.tsa.arima.model import ARIMA\n",
    "from statsmodels.tsa.stattools import adfuller\n",
    "from statsmodels.tsa.seasonal import seasonal_decompose"
   ]
  },
  {
   "cell_type": "code",
   "execution_count": 2,
   "metadata": {
    "colab": {
     "base_uri": "https://localhost:8080/"
    },
    "id": "T9qQnvkXwZSZ",
    "outputId": "92088724-0b95-49ec-e695-c67d080a01eb"
   },
   "outputs": [
    {
     "name": "stdout",
     "output_type": "stream",
     "text": [
      "Defaulting to user installation because normal site-packages is not writeable\n",
      "Requirement already satisfied: pyreadr in c:\\users\\lveganti\\appdata\\roaming\\python\\python39\\site-packages (0.5.0)\n",
      "Requirement already satisfied: pandas>=1.2.0 in c:\\programdata\\anaconda3\\lib\\site-packages (from pyreadr) (1.4.2)\n",
      "Requirement already satisfied: numpy>=1.18.5 in c:\\programdata\\anaconda3\\lib\\site-packages (from pandas>=1.2.0->pyreadr) (1.23.5)\n",
      "Requirement already satisfied: pytz>=2020.1 in c:\\programdata\\anaconda3\\lib\\site-packages (from pandas>=1.2.0->pyreadr) (2022.7)\n",
      "Requirement already satisfied: python-dateutil>=2.8.1 in c:\\programdata\\anaconda3\\lib\\site-packages (from pandas>=1.2.0->pyreadr) (2.8.2)\n",
      "Requirement already satisfied: six>=1.5 in c:\\programdata\\anaconda3\\lib\\site-packages (from python-dateutil>=2.8.1->pandas>=1.2.0->pyreadr) (1.16.0)\n"
     ]
    }
   ],
   "source": [
    "# Install pyreadr library\n",
    "!pip install pyreadr"
   ]
  },
  {
   "cell_type": "code",
   "execution_count": 3,
   "metadata": {
    "colab": {
     "base_uri": "https://localhost:8080/"
    },
    "id": "3ZODA-6bwVCD",
    "outputId": "ce2f7ae2-a294-45f4-c479-56eb600e289d"
   },
   "outputs": [
    {
     "data": {
      "text/plain": [
       "(2629440, 10)"
      ]
     },
     "execution_count": 3,
     "metadata": {},
     "output_type": "execute_result"
    }
   ],
   "source": [
    "# Read the data from .RDS files\n",
    "import pyreadr\n",
    "data =  pyreadr.read_r('2019_1min_df.RDS')\n",
    "df_2019 = data[None]\n",
    "data = pyreadr.read_r('2020_1min_df.RDS')\n",
    "df_2020 = data[None]\n",
    "data = pyreadr.read_r('2021_1min_df.RDS')\n",
    "df_2021 = data[None]\n",
    "data = pyreadr.read_r('2022_1min_df.RDS')\n",
    "df_2022 = data[None]\n",
    "data = pyreadr.read_r('2023_1min_df.RDS')\n",
    "df_2023 = data[None]\n",
    "\n",
    "# Merge all the dataframes to form one dataframe.\n",
    "df = pd.concat([df_2019, df_2020, df_2021, df_2022, df_2023], ignore_index=True)\n",
    "df.shape"
   ]
  },
  {
   "cell_type": "code",
   "execution_count": 4,
   "metadata": {
    "colab": {
     "base_uri": "https://localhost:8080/"
    },
    "id": "U_nm6iarxmT8",
    "outputId": "802297b5-d40c-4dbd-8cec-fa27fc21ec7d"
   },
   "outputs": [
    {
     "data": {
      "text/plain": [
       "datetime_utc                           0\n",
       "datetime_stamp                         0\n",
       "Wells_Total_Discharge                  3\n",
       "Chelan_Flow                          826\n",
       "Entiat_Flow                        29756\n",
       "Rocky_Reach_Total_Discharge          847\n",
       "Wenatchee_Flow                        26\n",
       "Rock_Island_Total_Discharge         1369\n",
       "Rock_Island_Headwater_Elevation     1378\n",
       "Rocky_Reach_Headwater_Elevation      893\n",
       "dtype: int64"
      ]
     },
     "execution_count": 4,
     "metadata": {},
     "output_type": "execute_result"
    }
   ],
   "source": [
    "df.isna().sum()"
   ]
  },
  {
   "cell_type": "code",
   "execution_count": 5,
   "metadata": {
    "id": "4didFgFZxmXT"
   },
   "outputs": [],
   "source": [
    "# Fill Null Values using foward fill and backward fill\n",
    "df.fillna(method='ffill', inplace=True)\n",
    "df.fillna(method='bfill', inplace=True)"
   ]
  },
  {
   "cell_type": "markdown",
   "metadata": {
    "id": "XkF92yfryfX0"
   },
   "source": [
    "# Modeling1 - Based on Calculations"
   ]
  },
  {
   "cell_type": "markdown",
   "metadata": {
    "id": "OEAI1vEXyot8"
   },
   "source": [
    "### Rocky Reach Inflow Calculation"
   ]
  },
  {
   "cell_type": "markdown",
   "metadata": {
    "id": "wrGjKWQwzAx5"
   },
   "source": [
    "Wells Flow Impact = flows averaged from previous 90-105 minutes\n",
    "\n",
    "Chelan Flow Impact = flows averaged from previous 62-77 minutes (60-75 should be fine)\n",
    "\n",
    "Entiat Flow Impact = flows averaged from previous 15-30 minutes\n",
    "\n",
    "Rocky Reach Inflow = Wells Flow Impact + Chelan Flow Impact + Entiat Flow Impact"
   ]
  },
  {
   "cell_type": "code",
   "execution_count": 6,
   "metadata": {
    "colab": {
     "base_uri": "https://localhost:8080/",
     "height": 206
    },
    "id": "dnoNQCDdxmar",
    "outputId": "9a41a756-e02d-410c-a138-f244e57c1389"
   },
   "outputs": [
    {
     "data": {
      "text/html": [
       "<div>\n",
       "<style scoped>\n",
       "    .dataframe tbody tr th:only-of-type {\n",
       "        vertical-align: middle;\n",
       "    }\n",
       "\n",
       "    .dataframe tbody tr th {\n",
       "        vertical-align: top;\n",
       "    }\n",
       "\n",
       "    .dataframe thead th {\n",
       "        text-align: right;\n",
       "    }\n",
       "</style>\n",
       "<table border=\"1\" class=\"dataframe\">\n",
       "  <thead>\n",
       "    <tr style=\"text-align: right;\">\n",
       "      <th></th>\n",
       "      <th>datetime_utc</th>\n",
       "      <th>Wells_Flow_Impact</th>\n",
       "      <th>Chelan_Flow_Impact</th>\n",
       "      <th>Entiat_Flow_Impact</th>\n",
       "      <th>Rocky_Reach_Inflow</th>\n",
       "    </tr>\n",
       "  </thead>\n",
       "  <tbody>\n",
       "    <tr>\n",
       "      <th>0</th>\n",
       "      <td>2019-01-01 08:00:00+00:00</td>\n",
       "      <td>56.139926</td>\n",
       "      <td>2.387459</td>\n",
       "      <td>0.0</td>\n",
       "      <td>58.527385</td>\n",
       "    </tr>\n",
       "    <tr>\n",
       "      <th>1</th>\n",
       "      <td>2019-01-01 08:01:00+00:00</td>\n",
       "      <td>56.139926</td>\n",
       "      <td>2.387459</td>\n",
       "      <td>0.0</td>\n",
       "      <td>58.527385</td>\n",
       "    </tr>\n",
       "    <tr>\n",
       "      <th>2</th>\n",
       "      <td>2019-01-01 08:02:00+00:00</td>\n",
       "      <td>56.139926</td>\n",
       "      <td>2.387459</td>\n",
       "      <td>0.0</td>\n",
       "      <td>58.527385</td>\n",
       "    </tr>\n",
       "    <tr>\n",
       "      <th>3</th>\n",
       "      <td>2019-01-01 08:03:00+00:00</td>\n",
       "      <td>56.139926</td>\n",
       "      <td>2.387459</td>\n",
       "      <td>0.0</td>\n",
       "      <td>58.527385</td>\n",
       "    </tr>\n",
       "    <tr>\n",
       "      <th>4</th>\n",
       "      <td>2019-01-01 08:04:00+00:00</td>\n",
       "      <td>56.139926</td>\n",
       "      <td>2.387459</td>\n",
       "      <td>0.0</td>\n",
       "      <td>58.527385</td>\n",
       "    </tr>\n",
       "  </tbody>\n",
       "</table>\n",
       "</div>"
      ],
      "text/plain": [
       "               datetime_utc  Wells_Flow_Impact  Chelan_Flow_Impact  \\\n",
       "0 2019-01-01 08:00:00+00:00          56.139926            2.387459   \n",
       "1 2019-01-01 08:01:00+00:00          56.139926            2.387459   \n",
       "2 2019-01-01 08:02:00+00:00          56.139926            2.387459   \n",
       "3 2019-01-01 08:03:00+00:00          56.139926            2.387459   \n",
       "4 2019-01-01 08:04:00+00:00          56.139926            2.387459   \n",
       "\n",
       "   Entiat_Flow_Impact  Rocky_Reach_Inflow  \n",
       "0                 0.0           58.527385  \n",
       "1                 0.0           58.527385  \n",
       "2                 0.0           58.527385  \n",
       "3                 0.0           58.527385  \n",
       "4                 0.0           58.527385  "
      ]
     },
     "execution_count": 6,
     "metadata": {},
     "output_type": "execute_result"
    }
   ],
   "source": [
    "# Convert 'datetime_utc' to datetime format\n",
    "df['datetime_utc'] = pd.to_datetime(df['datetime_utc'])\n",
    "\n",
    "# Sort DataFrame by 'datetime_utc'\n",
    "df.sort_values(by='datetime_utc', inplace=True)\n",
    "\n",
    "# Calculate Wells Flow Impact\n",
    "df['Wells_Flow_Impact'] = df['Wells_Total_Discharge'].shift(105).rolling(window=16).mean()\n",
    "df['Wells_Flow_Impact'].fillna(method='bfill', inplace=True)\n",
    "\n",
    "# Calculate Chelan Flow Impact\n",
    "df['Chelan_Flow_Impact'] = df['Chelan_Flow'].shift(77).rolling(window=16).mean()\n",
    "df['Chelan_Flow_Impact'].fillna(method='bfill', inplace=True)\n",
    "\n",
    "# Calculate Entiat Flow Impact\n",
    "df['Entiat_Flow_Impact'] = df['Entiat_Flow'].shift(30).rolling(window=16).mean()\n",
    "df['Entiat_Flow_Impact'].fillna(method='bfill', inplace=True)\n",
    "\n",
    "# Calculate Rocky Reach Inflow\n",
    "df['Rocky_Reach_Inflow'] = df['Wells_Flow_Impact'] + df['Chelan_Flow_Impact'] + df['Entiat_Flow_Impact']\n",
    "\n",
    "# Display the updated DataFrame\n",
    "df[['datetime_utc', 'Wells_Flow_Impact', 'Chelan_Flow_Impact', 'Entiat_Flow_Impact', 'Rocky_Reach_Inflow']].head()"
   ]
  },
  {
   "cell_type": "markdown",
   "metadata": {
    "id": "WQSSPIQuy6tX"
   },
   "source": [
    "### Rock Island Inflow Calculation"
   ]
  },
  {
   "cell_type": "markdown",
   "metadata": {
    "id": "EoVXt-cZzDnv"
   },
   "source": [
    "Rocky Reach Flow Impact = Depends on Rocky Reach Total Discharge (RRTD) at time (now)\n",
    "Wenatchee Flow Impact = flow from 22 minutes ago\n",
    "\n",
    "Rocky Reach Flow Timing Logic:\n",
    "\n",
    "If RRTD <= 50, then Rocky Reach Flow Impact = RRTD from 43 min ago\n",
    "\n",
    "If RRTD > 50 & RRTD <= 80, then Rocky Reach Flow Impact = RRTD from 45 min ago\n",
    "\n",
    "If RRTD > 80 & RRTD <= 120, then Rocky Reach Flow Impact = RRTD from 47 min ago\n",
    "\n",
    "If RRTD > 120 & RRTD <= 150, then Rocky Reach Flow Impact = RRTD from 48 min ago\n",
    "\n",
    "If RRTD > 150 & RRTD <= 220, then Rocky Reach Flow Impact = RRTD from 50 min ago\n",
    "\n",
    "If RRTD > 220, then Rocky Reach Flow Impact = RRTD from 50 min ago\n",
    "\n",
    "Rock Island Inflow = Rocky Reach Flow Impact + Wenatchee Flow Impact"
   ]
  },
  {
   "cell_type": "code",
   "execution_count": 7,
   "metadata": {
    "colab": {
     "base_uri": "https://localhost:8080/",
     "height": 206
    },
    "id": "3UtPY9OKxmdy",
    "outputId": "027e8e22-45bb-4915-9dd4-53b9bb651017"
   },
   "outputs": [
    {
     "data": {
      "text/html": [
       "<div>\n",
       "<style scoped>\n",
       "    .dataframe tbody tr th:only-of-type {\n",
       "        vertical-align: middle;\n",
       "    }\n",
       "\n",
       "    .dataframe tbody tr th {\n",
       "        vertical-align: top;\n",
       "    }\n",
       "\n",
       "    .dataframe thead th {\n",
       "        text-align: right;\n",
       "    }\n",
       "</style>\n",
       "<table border=\"1\" class=\"dataframe\">\n",
       "  <thead>\n",
       "    <tr style=\"text-align: right;\">\n",
       "      <th></th>\n",
       "      <th>datetime_utc</th>\n",
       "      <th>Rocky_Reach_Flow_Impact</th>\n",
       "      <th>Wenatchee_Flow_Impact</th>\n",
       "      <th>Rock_Island_Inflow</th>\n",
       "    </tr>\n",
       "  </thead>\n",
       "  <tbody>\n",
       "    <tr>\n",
       "      <th>0</th>\n",
       "      <td>2019-01-01 08:00:00+00:00</td>\n",
       "      <td>72.28602</td>\n",
       "      <td>1.823813</td>\n",
       "      <td>74.109834</td>\n",
       "    </tr>\n",
       "    <tr>\n",
       "      <th>1</th>\n",
       "      <td>2019-01-01 08:01:00+00:00</td>\n",
       "      <td>72.28602</td>\n",
       "      <td>1.823813</td>\n",
       "      <td>74.109834</td>\n",
       "    </tr>\n",
       "    <tr>\n",
       "      <th>2</th>\n",
       "      <td>2019-01-01 08:02:00+00:00</td>\n",
       "      <td>72.28602</td>\n",
       "      <td>1.823813</td>\n",
       "      <td>74.109834</td>\n",
       "    </tr>\n",
       "    <tr>\n",
       "      <th>3</th>\n",
       "      <td>2019-01-01 08:03:00+00:00</td>\n",
       "      <td>72.28602</td>\n",
       "      <td>1.823813</td>\n",
       "      <td>74.109834</td>\n",
       "    </tr>\n",
       "    <tr>\n",
       "      <th>4</th>\n",
       "      <td>2019-01-01 08:04:00+00:00</td>\n",
       "      <td>72.28602</td>\n",
       "      <td>1.823813</td>\n",
       "      <td>74.109834</td>\n",
       "    </tr>\n",
       "  </tbody>\n",
       "</table>\n",
       "</div>"
      ],
      "text/plain": [
       "               datetime_utc  Rocky_Reach_Flow_Impact  Wenatchee_Flow_Impact  \\\n",
       "0 2019-01-01 08:00:00+00:00                 72.28602               1.823813   \n",
       "1 2019-01-01 08:01:00+00:00                 72.28602               1.823813   \n",
       "2 2019-01-01 08:02:00+00:00                 72.28602               1.823813   \n",
       "3 2019-01-01 08:03:00+00:00                 72.28602               1.823813   \n",
       "4 2019-01-01 08:04:00+00:00                 72.28602               1.823813   \n",
       "\n",
       "   Rock_Island_Inflow  \n",
       "0           74.109834  \n",
       "1           74.109834  \n",
       "2           74.109834  \n",
       "3           74.109834  \n",
       "4           74.109834  "
      ]
     },
     "execution_count": 7,
     "metadata": {},
     "output_type": "execute_result"
    }
   ],
   "source": [
    "# Define the conditions and corresponding shifts\n",
    "conditions = [50, 80, 120, 150, 220]\n",
    "shifts = [43, 45, 47, 48, 50]\n",
    "\n",
    "# Calculate 'Rocky_Reach_Flow_Impact' in a vectorized way\n",
    "df['Rocky_Reach_Flow_Impact'] = np.select(\n",
    "    [df['Rocky_Reach_Total_Discharge'] <= condition for condition in conditions],\n",
    "    [df['Rocky_Reach_Total_Discharge'].shift(shift) for shift in shifts],\n",
    "    default=df['Rocky_Reach_Total_Discharge'].shift(50)\n",
    ")\n",
    "# For starting rows\n",
    "df['Rocky_Reach_Flow_Impact'].fillna(method='bfill', inplace=True)\n",
    "\n",
    "# Calculate 'Wenatchee_Flow_Impact' with backward filling\n",
    "df['Wenatchee_Flow_Impact'] = df['Wenatchee_Flow'].shift(22)\n",
    "# For starting rows\n",
    "df['Wenatchee_Flow_Impact'].fillna(method='bfill', inplace=True)\n",
    "\n",
    "# Calculate 'Rock Island Inflow'\n",
    "df['Rock_Island_Inflow'] = df['Rocky_Reach_Flow_Impact'] + df['Wenatchee_Flow_Impact']\n",
    "\n",
    "# Display the updated DataFrame\n",
    "df[['datetime_utc', 'Rocky_Reach_Flow_Impact', 'Wenatchee_Flow_Impact', 'Rock_Island_Inflow']].head()"
   ]
  },
  {
   "cell_type": "markdown",
   "metadata": {
    "id": "pl5arzP0zOuW"
   },
   "source": [
    "### Fill Rates"
   ]
  },
  {
   "cell_type": "code",
   "execution_count": 8,
   "metadata": {
    "colab": {
     "base_uri": "https://localhost:8080/",
     "height": 206
    },
    "id": "dBDQhyLRxmhE",
    "outputId": "2ec6c11d-c0cb-420d-c1cb-a4df503814ed"
   },
   "outputs": [
    {
     "data": {
      "text/html": [
       "<div>\n",
       "<style scoped>\n",
       "    .dataframe tbody tr th:only-of-type {\n",
       "        vertical-align: middle;\n",
       "    }\n",
       "\n",
       "    .dataframe tbody tr th {\n",
       "        vertical-align: top;\n",
       "    }\n",
       "\n",
       "    .dataframe thead th {\n",
       "        text-align: right;\n",
       "    }\n",
       "</style>\n",
       "<table border=\"1\" class=\"dataframe\">\n",
       "  <thead>\n",
       "    <tr style=\"text-align: right;\">\n",
       "      <th></th>\n",
       "      <th>Rocky_Reach_Fill_Rate</th>\n",
       "      <th>Rock_Island_Fill_Rate</th>\n",
       "    </tr>\n",
       "  </thead>\n",
       "  <tbody>\n",
       "    <tr>\n",
       "      <th>0</th>\n",
       "      <td>-13.758636</td>\n",
       "      <td>-21.462003</td>\n",
       "    </tr>\n",
       "    <tr>\n",
       "      <th>1</th>\n",
       "      <td>-10.294244</td>\n",
       "      <td>-21.565912</td>\n",
       "    </tr>\n",
       "    <tr>\n",
       "      <th>2</th>\n",
       "      <td>-7.975250</td>\n",
       "      <td>-19.918337</td>\n",
       "    </tr>\n",
       "    <tr>\n",
       "      <th>3</th>\n",
       "      <td>-5.349238</td>\n",
       "      <td>-18.965717</td>\n",
       "    </tr>\n",
       "    <tr>\n",
       "      <th>4</th>\n",
       "      <td>-3.843683</td>\n",
       "      <td>-19.507878</td>\n",
       "    </tr>\n",
       "  </tbody>\n",
       "</table>\n",
       "</div>"
      ],
      "text/plain": [
       "   Rocky_Reach_Fill_Rate  Rock_Island_Fill_Rate\n",
       "0             -13.758636             -21.462003\n",
       "1             -10.294244             -21.565912\n",
       "2              -7.975250             -19.918337\n",
       "3              -5.349238             -18.965717\n",
       "4              -3.843683             -19.507878"
      ]
     },
     "execution_count": 8,
     "metadata": {},
     "output_type": "execute_result"
    }
   ],
   "source": [
    "# Calculate fill rate at both dams\n",
    "df['Rocky_Reach_Fill_Rate'] = df['Rocky_Reach_Inflow'] - df['Rocky_Reach_Total_Discharge']\n",
    "df['Rock_Island_Fill_Rate'] = df['Rock_Island_Inflow'] - df['Rock_Island_Total_Discharge']\n",
    "\n",
    "# Display the updated DataFrame\n",
    "df[['Rocky_Reach_Fill_Rate','Rock_Island_Fill_Rate']].head()"
   ]
  },
  {
   "cell_type": "markdown",
   "metadata": {
    "id": "TAXASjApzZ98"
   },
   "source": [
    "### Headwater Elevation Change Vs Fill Rate"
   ]
  },
  {
   "cell_type": "code",
   "execution_count": 9,
   "metadata": {
    "colab": {
     "base_uri": "https://localhost:8080/"
    },
    "id": "oKUvfmD9xmkG",
    "outputId": "12f77b8a-cf47-41e6-9a33-646b79b08b1f"
   },
   "outputs": [
    {
     "name": "stdout",
     "output_type": "stream",
     "text": [
      "Correlation between Rocky Reach Fill Rate and Headwater Elevation Change: 0.04955411341279833\n"
     ]
    }
   ],
   "source": [
    "# Calculate the change in Rocky Reach headwater elevation\n",
    "df['Rocky_Reach_Headwater_Elevation_Change'] = df['Rocky_Reach_Headwater_Elevation'].diff()\n",
    "df['Rocky_Reach_Headwater_Elevation_Change'].fillna(method='ffill', inplace=True)\n",
    "df['Rocky_Reach_Headwater_Elevation_Change'].fillna(method='bfill', inplace=True)\n",
    "\n",
    "# Calculate the correlation between Rocky Reach Fill Rate and Headwater Elevation Change\n",
    "rocky_reach_correlation = df['Rocky_Reach_Fill_Rate'].corr(df['Rocky_Reach_Headwater_Elevation_Change'])\n",
    "print(f'Correlation between Rocky Reach Fill Rate and Headwater Elevation Change: {rocky_reach_correlation}')"
   ]
  },
  {
   "cell_type": "code",
   "execution_count": 10,
   "metadata": {
    "colab": {
     "base_uri": "https://localhost:8080/",
     "height": 323
    },
    "id": "OJVKyo7RxmnK",
    "outputId": "b2a56ced-735b-498d-d7df-e7620f71feac"
   },
   "outputs": [
    {
     "name": "stdout",
     "output_type": "stream",
     "text": [
      "Mean Squared Error for Rocky Reach Dam: 0.0013856120992723096\n",
      "R-squared for Rocky Reach Dam: 0.002592150329449594\n"
     ]
    },
    {
     "data": {
      "image/png": "[encoded data removed]",
      "text/plain": [
       "<Figure size 640x480 with 1 Axes>"
      ]
     },
     "metadata": {},
     "output_type": "display_data"
    }
   ],
   "source": [
    "# Prepare data for modeling for Rocky Reach Dam\n",
    "X_rocky_reach = df[['Rocky_Reach_Fill_Rate']]\n",
    "y_rocky_reach = df['Rocky_Reach_Headwater_Elevation_Change']\n",
    "\n",
    "# Split the data into training and testing sets\n",
    "X_train_rocky_reach, X_test_rocky_reach, y_train_rocky_reach, y_test_rocky_reach = train_test_split(\n",
    "    X_rocky_reach, y_rocky_reach, test_size=0.3,shuffle=False\n",
    ")\n",
    "\n",
    "# Create a linear regression model for Rocky Reach Dam\n",
    "model_rocky_reach = LinearRegression()\n",
    "\n",
    "# Train the model for Rocky Reach Dam\n",
    "model_rocky_reach.fit(X_train_rocky_reach, y_train_rocky_reach)\n",
    "\n",
    "# Make predictions on the test set for Rocky Reach Dam\n",
    "y_pred_rocky_reach = model_rocky_reach.predict(X_test_rocky_reach)\n",
    "\n",
    "# Evaluate the model for Rocky Reach Dam\n",
    "mse_rocky_reach = mean_squared_error(y_test_rocky_reach, y_pred_rocky_reach)\n",
    "r2_rocky_reach = r2_score(y_test_rocky_reach, y_pred_rocky_reach)\n",
    "\n",
    "print(f'Mean Squared Error for Rocky Reach Dam: {mse_rocky_reach}')\n",
    "print(f'R-squared for Rocky Reach Dam: {r2_rocky_reach}')\n",
    "\n",
    "# Plot the regression line for Rocky Reach Dam\n",
    "plt.subplot(2, 1, 2)\n",
    "plt.scatter(X_test_rocky_reach, y_test_rocky_reach, color='black')\n",
    "plt.plot(X_test_rocky_reach, y_pred_rocky_reach, color='blue', linewidth=3)\n",
    "plt.title('Linear Regression Model for Rocky Reach Dam')\n",
    "plt.xlabel('Rocky Reach Fill Rate')\n",
    "plt.ylabel('Rocky Reach Headwater Elevation Change')\n",
    "\n",
    "plt.tight_layout()\n",
    "plt.show()"
   ]
  },
  {
   "cell_type": "code",
   "execution_count": 11,
   "metadata": {
    "colab": {
     "base_uri": "https://localhost:8080/"
    },
    "id": "WuYBU3NZxmqM",
    "outputId": "43a38b9d-889f-4637-92fa-6f06795e5e41"
   },
   "outputs": [
    {
     "name": "stdout",
     "output_type": "stream",
     "text": [
      "Correlation between Rock Island Fill Rate and Headwater Elevation Change: 0.3351018220288469\n"
     ]
    }
   ],
   "source": [
    "# Calculate the change in headwater elevation\n",
    "df['Rock_Island_Headwater_Elevation_Change'] = df['Rock_Island_Headwater_Elevation'].diff()\n",
    "df['Rock_Island_Headwater_Elevation_Change'].fillna(method='ffill', inplace=True)\n",
    "df['Rock_Island_Headwater_Elevation_Change'].fillna(method='bfill', inplace=True)\n",
    "# Calculate the correlation between Fill Rate and Headwater Elevation Change\n",
    "correlation = df['Rock_Island_Fill_Rate'].corr(df['Rock_Island_Headwater_Elevation_Change'])\n",
    "print(f'Correlation between Rock Island Fill Rate and Headwater Elevation Change: {correlation}')"
   ]
  },
  {
   "cell_type": "code",
   "execution_count": 12,
   "metadata": {
    "colab": {
     "base_uri": "https://localhost:8080/",
     "height": 323
    },
    "id": "u93sfHQqxmtJ",
    "outputId": "8b49830e-da69-4141-afdf-6ddd82e8b260"
   },
   "outputs": [
    {
     "name": "stdout",
     "output_type": "stream",
     "text": [
      "Mean Squared Error for Rock Island Dam: 0.000442311208018728\n",
      "R-squared for Rock Island Dam: 0.1299462484932471\n"
     ]
    },
    {
     "data": {
      "image/png": "[encoded data removed]",
      "text/plain": [
       "<Figure size 640x480 with 1 Axes>"
      ]
     },
     "metadata": {},
     "output_type": "display_data"
    }
   ],
   "source": [
    "# Prepare data for modeling for Rock Island Dam\n",
    "X_rock_island = df[['Rock_Island_Fill_Rate']]\n",
    "y_rock_island = df['Rock_Island_Headwater_Elevation_Change']\n",
    "\n",
    "# Split the data into training and testing sets\n",
    "X_train_rock_island, X_test_rock_island, y_train_rock_island, y_test_rock_island = train_test_split(\n",
    "    X_rock_island, y_rock_island, test_size=0.3, shuffle=False\n",
    ")\n",
    "\n",
    "# Create a linear regression model for Rock Island Dam\n",
    "model_rock_island = LinearRegression()\n",
    "\n",
    "# Train the model for Rock Island Dam\n",
    "model_rock_island.fit(X_train_rock_island, y_train_rock_island)\n",
    "\n",
    "# Make predictions on the test set for Rock Island Dam\n",
    "y_pred_rock_island = model_rock_island.predict(X_test_rock_island)\n",
    "\n",
    "# Evaluate the model for Rock Island Dam\n",
    "mse_rock_island = mean_squared_error(y_test_rock_island, y_pred_rock_island)\n",
    "r2_rock_island = r2_score(y_test_rock_island, y_pred_rock_island)\n",
    "\n",
    "print(f'Mean Squared Error for Rock Island Dam: {mse_rock_island}')\n",
    "print(f'R-squared for Rock Island Dam: {r2_rock_island}')\n",
    "\n",
    "# Plot the regression line for Rock Island Dam\n",
    "plt.subplot(2, 1, 2)\n",
    "plt.scatter(X_test_rock_island, y_test_rock_island, color='black')\n",
    "plt.plot(X_test_rock_island, y_pred_rock_island, color='blue', linewidth=3)\n",
    "plt.title('Linear Regression Model for Rock Island Dam')\n",
    "plt.xlabel('Rock Island Fill Rate')\n",
    "plt.ylabel('Rock Island Headwater Elevation Change')\n",
    "\n",
    "plt.tight_layout()\n",
    "plt.show()"
   ]
  },
  {
   "cell_type": "markdown",
   "metadata": {
    "id": "2Y70CFLf0iNu"
   },
   "source": [
    "# Modeling2 - PCA"
   ]
  },
  {
   "cell_type": "code",
   "execution_count": 13,
   "metadata": {
    "id": "R1OAkv80mPVk"
   },
   "outputs": [],
   "source": [
    "# Read the data from .RDS files\n",
    "import pyreadr\n",
    "data =  pyreadr.read_r('2019_1min_df.RDS')\n",
    "df_2019 = data[None]\n",
    "data = pyreadr.read_r('2020_1min_df.RDS')\n",
    "df_2020 = data[None]\n",
    "data = pyreadr.read_r('2021_1min_df.RDS')\n",
    "df_2021 = data[None]\n",
    "data = pyreadr.read_r('2022_1min_df.RDS')\n",
    "df_2022 = data[None]\n",
    "data = pyreadr.read_r('2023_1min_df.RDS')\n",
    "df_2023 = data[None]\n",
    "\n",
    "# Merge all the dataframes to form one dataframe.\n",
    "df = pd.concat([df_2019, df_2020, df_2021, df_2022, df_2023], ignore_index=True)\n",
    "df['datetime_utc'] = pd.to_datetime(df['datetime_utc'])\n",
    "df.sort_values(by='datetime_utc', inplace=True)\n",
    "\n",
    "# Fill Null Values using foward fill and backward fill\n",
    "df.fillna(method='ffill', inplace=True)\n",
    "df.fillna(method='bfill', inplace=True)"
   ]
  },
  {
   "cell_type": "code",
   "execution_count": 14,
   "metadata": {
    "colab": {
     "base_uri": "https://localhost:8080/"
    },
    "id": "_OY0jqiRoZoq",
    "outputId": "b5d3970c-773f-4bfc-d691-362b354d3949"
   },
   "outputs": [
    {
     "data": {
      "text/plain": [
       "Index(['datetime_utc', 'datetime_stamp', 'Wells_Total_Discharge',\n",
       "       'Chelan_Flow', 'Entiat_Flow', 'Rocky_Reach_Total_Discharge',\n",
       "       'Wenatchee_Flow', 'Rock_Island_Total_Discharge',\n",
       "       'Rock_Island_Headwater_Elevation', 'Rocky_Reach_Headwater_Elevation'],\n",
       "      dtype='object')"
      ]
     },
     "execution_count": 14,
     "metadata": {},
     "output_type": "execute_result"
    }
   ],
   "source": [
    "df.columns"
   ]
  },
  {
   "cell_type": "markdown",
   "metadata": {},
   "source": [
    "## Rocky Reach"
   ]
  },
  {
   "cell_type": "markdown",
   "metadata": {
    "id": "igZxnhLDn1yc"
   },
   "source": [
    "### Data Processing and Feature Engineering"
   ]
  },
  {
   "cell_type": "code",
   "execution_count": 15,
   "metadata": {
    "colab": {
     "base_uri": "https://localhost:8080/"
    },
    "id": "H1e120lRmPZn",
    "outputId": "e1dbcb54-f57a-40c9-f033-9123814be8d5"
   },
   "outputs": [
    {
     "data": {
      "text/plain": [
       "Index(['datetime_utc', 'datetime_stamp', 'Wells_Total_Discharge',\n",
       "       'Chelan_Flow', 'Entiat_Flow', 'Rocky_Reach_Total_Discharge',\n",
       "       'Wenatchee_Flow', 'Rock_Island_Total_Discharge',\n",
       "       'Rock_Island_Headwater_Elevation', 'Rocky_Reach_Headwater_Elevation',\n",
       "       'Rocky_Reach_Headwater_Elevation_lag_1',\n",
       "       'Rocky_Reach_Headwater_Elevation_lag_2',\n",
       "       'Rocky_Reach_Total_Discharge_lag_1',\n",
       "       'Rocky_Reach_Total_Discharge_lag_2', 'Wells_Total_Discharge_lag_90',\n",
       "       'Wells_Total_Discharge_lag_91', 'Wells_Total_Discharge_lag_92',\n",
       "       'Wells_Total_Discharge_lag_93', 'Wells_Total_Discharge_lag_94',\n",
       "       'Wells_Total_Discharge_lag_95', 'Wells_Total_Discharge_lag_96',\n",
       "       'Wells_Total_Discharge_lag_97', 'Wells_Total_Discharge_lag_98',\n",
       "       'Wells_Total_Discharge_lag_99', 'Wells_Total_Discharge_lag_100',\n",
       "       'Wells_Total_Discharge_lag_101', 'Wells_Total_Discharge_lag_102',\n",
       "       'Wells_Total_Discharge_lag_103', 'Wells_Total_Discharge_lag_104',\n",
       "       'Wells_Total_Discharge_lag_105', 'Chelan_Flow_lag_62',\n",
       "       'Chelan_Flow_lag_63', 'Chelan_Flow_lag_64', 'Chelan_Flow_lag_65',\n",
       "       'Chelan_Flow_lag_66', 'Chelan_Flow_lag_67', 'Chelan_Flow_lag_68',\n",
       "       'Chelan_Flow_lag_69', 'Chelan_Flow_lag_70', 'Chelan_Flow_lag_71',\n",
       "       'Chelan_Flow_lag_72', 'Chelan_Flow_lag_73', 'Chelan_Flow_lag_74',\n",
       "       'Chelan_Flow_lag_75', 'Chelan_Flow_lag_76', 'Chelan_Flow_lag_77',\n",
       "       'Entiat_Flow_lag_15', 'Entiat_Flow_lag_16', 'Entiat_Flow_lag_17',\n",
       "       'Entiat_Flow_lag_18', 'Entiat_Flow_lag_19', 'Entiat_Flow_lag_20',\n",
       "       'Entiat_Flow_lag_21', 'Entiat_Flow_lag_22', 'Entiat_Flow_lag_23',\n",
       "       'Entiat_Flow_lag_24', 'Entiat_Flow_lag_25', 'Entiat_Flow_lag_26',\n",
       "       'Entiat_Flow_lag_27', 'Entiat_Flow_lag_28', 'Entiat_Flow_lag_29',\n",
       "       'Entiat_Flow_lag_30'],\n",
       "      dtype='object')"
      ]
     },
     "execution_count": 15,
     "metadata": {},
     "output_type": "execute_result"
    }
   ],
   "source": [
    "# Rocky Reach Headwater Elevation lag for last 2 minutes\n",
    "for lag in range(1, 3):\n",
    "  df[f'Rocky_Reach_Headwater_Elevation_lag_{lag}'] = df['Rocky_Reach_Headwater_Elevation'].shift(lag)\n",
    "\n",
    "# Rocky Reach Discharge lag for last 2 minutes\n",
    "for lag in range(1, 3):\n",
    "  df[f'Rocky_Reach_Total_Discharge_lag_{lag}'] = df['Rocky_Reach_Total_Discharge'].shift(lag)\n",
    "\n",
    "# Wells Flow Impact = flows averaged from previous 90-105 minutes\n",
    "for lag in range(90,106):\n",
    "  df[f'Wells_Total_Discharge_lag_{lag}'] = df['Wells_Total_Discharge'].shift(lag)\n",
    "\n",
    "# Chelan Flow Impact = flows averaged from previous 62-77 minutes (60-75 should be fine)\n",
    "for lag in range(62, 78):\n",
    "  df[f'Chelan_Flow_lag_{lag}'] = df['Chelan_Flow'].shift(lag)\n",
    "\n",
    "# Entiat Flow Impact = flows averaged from previous 15-30 minutes\n",
    "for lag in range(15, 31):\n",
    "  df[f'Entiat_Flow_lag_{lag}'] = df['Entiat_Flow'].shift(lag)\n",
    "\n",
    "df.columns"
   ]
  },
  {
   "cell_type": "code",
   "execution_count": 16,
   "metadata": {
    "colab": {
     "base_uri": "https://localhost:8080/"
    },
    "id": "765s0ndxnwD-",
    "outputId": "dde6d941-707d-444c-f385-344b56e8f9fc"
   },
   "outputs": [],
   "source": [
    "# List of unnecessary columns to drop\n",
    "columns_to_drop = ['datetime_utc', 'datetime_stamp', 'Wells_Total_Discharge','Chelan_Flow', 'Entiat_Flow', \n",
    "                   'Wenatchee_Flow', 'Rock_Island_Total_Discharge', 'Rock_Island_Headwater_Elevation']\n",
    "\n",
    "# Drop the unnecessary columns\n",
    "df_rr = df.drop(columns=columns_to_drop).copy()\n",
    "\n",
    "# Drop rows with missing values\n",
    "df_rr.dropna(inplace=True)\n"
   ]
  },
  {
   "cell_type": "code",
   "execution_count": 17,
   "metadata": {},
   "outputs": [
    {
     "data": {
      "text/plain": [
       "(2629335, 54)"
      ]
     },
     "execution_count": 17,
     "metadata": {},
     "output_type": "execute_result"
    }
   ],
   "source": [
    "df_rr.shape"
   ]
  },
  {
   "cell_type": "markdown",
   "metadata": {
    "id": "FNqI-nb8rHbx"
   },
   "source": [
    "### Principal Component Analysis (PCA) and Modeling"
   ]
  },
  {
   "cell_type": "code",
   "execution_count": 18,
   "metadata": {},
   "outputs": [
    {
     "data": {
      "text/plain": [
       "Index(['Rocky_Reach_Total_Discharge', 'Rocky_Reach_Headwater_Elevation',\n",
       "       'Rocky_Reach_Headwater_Elevation_lag_1',\n",
       "       'Rocky_Reach_Headwater_Elevation_lag_2',\n",
       "       'Rocky_Reach_Total_Discharge_lag_1',\n",
       "       'Rocky_Reach_Total_Discharge_lag_2', 'Wells_Total_Discharge_lag_90',\n",
       "       'Wells_Total_Discharge_lag_91', 'Wells_Total_Discharge_lag_92',\n",
       "       'Wells_Total_Discharge_lag_93', 'Wells_Total_Discharge_lag_94',\n",
       "       'Wells_Total_Discharge_lag_95', 'Wells_Total_Discharge_lag_96',\n",
       "       'Wells_Total_Discharge_lag_97', 'Wells_Total_Discharge_lag_98',\n",
       "       'Wells_Total_Discharge_lag_99', 'Wells_Total_Discharge_lag_100',\n",
       "       'Wells_Total_Discharge_lag_101', 'Wells_Total_Discharge_lag_102',\n",
       "       'Wells_Total_Discharge_lag_103', 'Wells_Total_Discharge_lag_104',\n",
       "       'Wells_Total_Discharge_lag_105', 'Chelan_Flow_lag_62',\n",
       "       'Chelan_Flow_lag_63', 'Chelan_Flow_lag_64', 'Chelan_Flow_lag_65',\n",
       "       'Chelan_Flow_lag_66', 'Chelan_Flow_lag_67', 'Chelan_Flow_lag_68',\n",
       "       'Chelan_Flow_lag_69', 'Chelan_Flow_lag_70', 'Chelan_Flow_lag_71',\n",
       "       'Chelan_Flow_lag_72', 'Chelan_Flow_lag_73', 'Chelan_Flow_lag_74',\n",
       "       'Chelan_Flow_lag_75', 'Chelan_Flow_lag_76', 'Chelan_Flow_lag_77',\n",
       "       'Entiat_Flow_lag_15', 'Entiat_Flow_lag_16', 'Entiat_Flow_lag_17',\n",
       "       'Entiat_Flow_lag_18', 'Entiat_Flow_lag_19', 'Entiat_Flow_lag_20',\n",
       "       'Entiat_Flow_lag_21', 'Entiat_Flow_lag_22', 'Entiat_Flow_lag_23',\n",
       "       'Entiat_Flow_lag_24', 'Entiat_Flow_lag_25', 'Entiat_Flow_lag_26',\n",
       "       'Entiat_Flow_lag_27', 'Entiat_Flow_lag_28', 'Entiat_Flow_lag_29',\n",
       "       'Entiat_Flow_lag_30'],\n",
       "      dtype='object')"
      ]
     },
     "execution_count": 18,
     "metadata": {},
     "output_type": "execute_result"
    }
   ],
   "source": [
    "df_rr.columns"
   ]
  },
  {
   "cell_type": "code",
   "execution_count": 19,
   "metadata": {},
   "outputs": [],
   "source": [
    "# Separate features and target\n",
    "target = 'Rocky_Reach_Headwater_Elevation'\n",
    "X = df_rr.drop(columns=[target]) \n",
    "y = df_rr[target]  # Target\n",
    "\n",
    "# Standardize the features\n",
    "scaler = StandardScaler()\n",
    "X_scaled = scaler.fit_transform(X)"
   ]
  },
  {
   "cell_type": "code",
   "execution_count": 20,
   "metadata": {},
   "outputs": [
    {
     "data": {
      "image/png": "[encoded data removed]",
      "text/plain": [
       "<Figure size 1000x600 with 1 Axes>"
      ]
     },
     "metadata": {},
     "output_type": "display_data"
    }
   ],
   "source": [
    "import matplotlib.pyplot as plt\n",
    "from sklearn.decomposition import PCA\n",
    "n_components = X.shape[1]\n",
    "\n",
    "pca = PCA(n_components=n_components).fit(X)\n",
    "cumulative_explained_variance = np.cumsum(pca.explained_variance_ratio_)\n",
    "\n",
    "plt.figure(figsize=(10, 6))\n",
    "plt.plot(range(1, n_components + 1), cumulative_explained_variance, marker='o', linestyle='--')\n",
    "plt.xlabel('Number of Components')\n",
    "plt.ylabel('Cumulative Explained Variance')\n",
    "plt.title('Elbow Method for Optimal Number of PCA Components')\n",
    "plt.grid(True)\n",
    "plt.show()"
   ]
  },
  {
   "cell_type": "code",
   "execution_count": 21,
   "metadata": {},
   "outputs": [
    {
     "data": {
      "image/png": "[encoded data removed]",
      "text/plain": [
       "<Figure size 1000x600 with 1 Axes>"
      ]
     },
     "metadata": {},
     "output_type": "display_data"
    },
    {
     "data": {
      "text/plain": [
       "24"
      ]
     },
     "execution_count": 21,
     "metadata": {},
     "output_type": "execute_result"
    }
   ],
   "source": [
    "# Define a range of components to test\n",
    "component_range = range(5, 25)\n",
    "\n",
    "# Store the average cross-validation score for each number of components\n",
    "cv_scores = []\n",
    "\n",
    "# Set up cross-validation scheme\n",
    "cv = KFold(n_splits=5, shuffle=True, random_state=42)\n",
    "\n",
    "# Perform grid search\n",
    "for n_components in component_range:\n",
    "    # Set up PCA with the current number of components\n",
    "    pca = PCA(n_components=n_components)\n",
    "    \n",
    "    # Transform X accordingly\n",
    "    X_pca = pca.fit_transform(X)\n",
    "    \n",
    "    # Set up the regression model\n",
    "    model = LinearRegression()\n",
    "    \n",
    "    # Perform cross-validation and store the average score\n",
    "    scores = cross_val_score(model, X_pca, y, cv=cv, scoring='r2')\n",
    "    cv_scores.append(np.mean(scores))\n",
    "\n",
    "# Find the number of components with the best average CV score\n",
    "optimal_components = component_range[np.argmax(cv_scores)]\n",
    "\n",
    "# Plot the scores\n",
    "plt.figure(figsize=(10, 6))\n",
    "plt.plot(component_range, cv_scores, marker='o', linestyle='--')\n",
    "plt.xlabel('Number of PCA Components')\n",
    "plt.ylabel('Average R2 Score')\n",
    "plt.title('PCA Components vs R2 Score')\n",
    "plt.grid(True)\n",
    "plt.show()\n",
    "\n",
    "optimal_components"
   ]
  },
  {
   "cell_type": "code",
   "execution_count": 22,
   "metadata": {},
   "outputs": [
    {
     "data": {
      "image/png": "[encoded data removed]",
      "text/plain": [
       "<Figure size 1000x600 with 1 Axes>"
      ]
     },
     "metadata": {},
     "output_type": "display_data"
    },
    {
     "data": {
      "text/plain": [
       "24"
      ]
     },
     "execution_count": 22,
     "metadata": {},
     "output_type": "execute_result"
    }
   ],
   "source": [
    "# Define a range of components to test\n",
    "component_range = range(5, 25)\n",
    "\n",
    "# Store the average cross-validation score for each number of components\n",
    "cv_scores = []\n",
    "\n",
    "# Set up cross-validation scheme\n",
    "cv = KFold(n_splits=5, shuffle=True, random_state=42)\n",
    "\n",
    "# Perform grid search\n",
    "for n_components in component_range:\n",
    "    # Set up PCA with the current number of components\n",
    "    pca = PCA(n_components=n_components)\n",
    "    \n",
    "    # Transform X accordingly\n",
    "    X_pca = pca.fit_transform(X_scaled)\n",
    "    \n",
    "    # Set up the regression model\n",
    "    model = LinearRegression()\n",
    "    \n",
    "    # Perform cross-validation and store the average score\n",
    "    scores = cross_val_score(model, X_pca, y, cv=cv, scoring='r2')\n",
    "    cv_scores.append(np.mean(scores))\n",
    "\n",
    "# Find the number of components with the best average CV score\n",
    "optimal_components = component_range[np.argmax(cv_scores)]\n",
    "\n",
    "# Plot the scores\n",
    "plt.figure(figsize=(10, 6))\n",
    "plt.plot(component_range, cv_scores, marker='o', linestyle='--')\n",
    "plt.xlabel('Number of PCA Components')\n",
    "plt.ylabel('Average R2 Score')\n",
    "plt.title('PCA Components vs R2 Score')\n",
    "plt.grid(True)\n",
    "plt.show()\n",
    "\n",
    "optimal_components"
   ]
  },
  {
   "cell_type": "markdown",
   "metadata": {},
   "source": [
    "### Optimal Components - 16"
   ]
  },
  {
   "cell_type": "code",
   "execution_count": 23,
   "metadata": {},
   "outputs": [
    {
     "name": "stdout",
     "output_type": "stream",
     "text": [
      "Mean Squared Error for Rocky Reach Dam: 0.002515953026137722\n",
      "R-Squared for Rocky Reach Dam: 0.9942786545677632\n"
     ]
    }
   ],
   "source": [
    "pca = PCA(n_components=16)\n",
    "X_pca = pca.fit_transform(X)\n",
    "\n",
    "# Splitting the data into train and test sets\n",
    "X_train, X_test, y_train, y_test = train_test_split(X_pca, y, test_size=0.3, shuffle=False)\n",
    "\n",
    "# Model training with Linear Regression\n",
    "model = LinearRegression()\n",
    "model.fit(X_train, y_train)\n",
    "\n",
    "# Predictions and evaluation\n",
    "y_pred = model.predict(X_test)\n",
    "print(\"Mean Squared Error for Rocky Reach Dam:\", mean_squared_error(y_test, y_pred))\n",
    "print(\"R-Squared for Rocky Reach Dam:\", r2_score(y_test, y_pred))"
   ]
  },
  {
   "cell_type": "code",
   "execution_count": 24,
   "metadata": {},
   "outputs": [
    {
     "name": "stdout",
     "output_type": "stream",
     "text": [
      "Most Influential Features in PCA:\n",
      "Wells_Total_Discharge_lag_101    10\n",
      "Wells_Total_Discharge_lag_98     10\n",
      "Wells_Total_Discharge_lag_97      9\n",
      "Wells_Total_Discharge_lag_105     9\n",
      "Wells_Total_Discharge_lag_90      9\n",
      "Wells_Total_Discharge_lag_102     9\n",
      "Wells_Total_Discharge_lag_93      9\n",
      "Wells_Total_Discharge_lag_96      9\n",
      "Wells_Total_Discharge_lag_94      8\n",
      "Wells_Total_Discharge_lag_100     8\n",
      "dtype: int64\n"
     ]
    }
   ],
   "source": [
    "# Features from the data\n",
    "feature_names = X.columns\n",
    "\n",
    "# Components given by pca\n",
    "components = pca.components_\n",
    "\n",
    "# Function to get top features for each component\n",
    "def get_top_features_for_component(component, num_features):\n",
    "    sorted_feature_indices = np.argsort(np.abs(component))[::-1][:num_features]\n",
    "    return feature_names[sorted_feature_indices]\n",
    "\n",
    "# Getting top 10 features for each component\n",
    "num_top_features = 10 \n",
    "top_features_per_component = {}\n",
    "\n",
    "for i, component in enumerate(components):\n",
    "    top_features = get_top_features_for_component(component, num_top_features)\n",
    "    top_features_per_component[f\"Component {i+1}\"] = top_features\n",
    "\n",
    "# Counting how often each feature appears in the top lists\n",
    "feature_counts = pd.Series(np.concatenate(list(top_features_per_component.values()))).value_counts()\n",
    "\n",
    "# Displaying the most frequently appearing features\n",
    "print(\"Most Influential Features in PCA:\")\n",
    "print(feature_counts.head(10))"
   ]
  },
  {
   "cell_type": "markdown",
   "metadata": {},
   "source": [
    "### Trying Manual Components 10,20,30,40"
   ]
  },
  {
   "cell_type": "markdown",
   "metadata": {},
   "source": [
    "#### 10 Components"
   ]
  },
  {
   "cell_type": "code",
   "execution_count": 25,
   "metadata": {},
   "outputs": [
    {
     "name": "stdout",
     "output_type": "stream",
     "text": [
      "Mean Squared Error for Rocky Reach Dam: 0.3563923823836388\n",
      "R-Squared for Rocky Reach Dam: 0.18955405452668916\n"
     ]
    }
   ],
   "source": [
    "pca = PCA(n_components=10)\n",
    "X_pca = pca.fit_transform(X)\n",
    "\n",
    "# Splitting the data into train and test sets\n",
    "X_train, X_test, y_train, y_test = train_test_split(X_pca, y, test_size=0.3, shuffle=False)\n",
    "\n",
    "# Model training with Linear Regression\n",
    "model = LinearRegression()\n",
    "model.fit(X_train, y_train)\n",
    "\n",
    "# Predictions and evaluation\n",
    "y_pred = model.predict(X_test)\n",
    "print(\"Mean Squared Error for Rocky Reach Dam:\", mean_squared_error(y_test, y_pred))\n",
    "print(\"R-Squared for Rocky Reach Dam:\", r2_score(y_test, y_pred))"
   ]
  },
  {
   "cell_type": "code",
   "execution_count": 26,
   "metadata": {},
   "outputs": [
    {
     "name": "stdout",
     "output_type": "stream",
     "text": [
      "Most Influential Features in PCA:\n",
      "Wells_Total_Discharge_lag_105    6\n",
      "Wells_Total_Discharge_lag_90     6\n",
      "Wells_Total_Discharge_lag_96     6\n",
      "Wells_Total_Discharge_lag_99     5\n",
      "Wells_Total_Discharge_lag_95     5\n",
      "Wells_Total_Discharge_lag_100    5\n",
      "Wells_Total_Discharge_lag_101    5\n",
      "Wells_Total_Discharge_lag_93     5\n",
      "Wells_Total_Discharge_lag_102    5\n",
      "Wells_Total_Discharge_lag_98     4\n",
      "dtype: int64\n"
     ]
    }
   ],
   "source": [
    "# Features from the data\n",
    "feature_names = X.columns\n",
    "\n",
    "# Components given by pca\n",
    "components = pca.components_\n",
    "\n",
    "# Function to get top features for each component\n",
    "def get_top_features_for_component(component, num_features):\n",
    "    sorted_feature_indices = np.argsort(np.abs(component))[::-1][:num_features]\n",
    "    return feature_names[sorted_feature_indices]\n",
    "\n",
    "# Getting top 10 features for each component\n",
    "num_top_features = 10 \n",
    "top_features_per_component = {}\n",
    "\n",
    "for i, component in enumerate(components):\n",
    "    top_features = get_top_features_for_component(component, num_top_features)\n",
    "    top_features_per_component[f\"Component {i+1}\"] = top_features\n",
    "\n",
    "# Counting how often each feature appears in the top lists\n",
    "feature_counts = pd.Series(np.concatenate(list(top_features_per_component.values()))).value_counts()\n",
    "\n",
    "# Displaying the most frequently appearing features\n",
    "print(\"Most Influential Features in PCA:\")\n",
    "print(feature_counts.head(10))\n"
   ]
  },
  {
   "cell_type": "markdown",
   "metadata": {},
   "source": [
    "#### 20 Components"
   ]
  },
  {
   "cell_type": "code",
   "execution_count": 27,
   "metadata": {},
   "outputs": [
    {
     "name": "stdout",
     "output_type": "stream",
     "text": [
      "Mean Squared Error for Rocky Reach Dam: 0.0017837666881755324\n",
      "R-Squared for Rocky Reach Dam: 0.9959436661624657\n"
     ]
    }
   ],
   "source": [
    "pca = PCA(n_components=20)\n",
    "X_pca = pca.fit_transform(X)\n",
    "\n",
    "# Splitting the data into train and test sets\n",
    "X_train, X_test, y_train, y_test = train_test_split(X_pca, y, test_size=0.3, shuffle=False)\n",
    "\n",
    "# Model training with Linear Regression\n",
    "model1 = LinearRegression()\n",
    "model1.fit(X_train, y_train)\n",
    "\n",
    "# Predictions and evaluation\n",
    "y_pred = model1.predict(X_test)\n",
    "print(\"Mean Squared Error for Rocky Reach Dam:\", mean_squared_error(y_test, y_pred))\n",
    "print(\"R-Squared for Rocky Reach Dam:\", r2_score(y_test, y_pred))"
   ]
  },
  {
   "cell_type": "code",
   "execution_count": 28,
   "metadata": {},
   "outputs": [
    {
     "name": "stdout",
     "output_type": "stream",
     "text": [
      "Most Influential Features in PCA:\n",
      "Wells_Total_Discharge_lag_101    12\n",
      "Wells_Total_Discharge_lag_96     12\n",
      "Wells_Total_Discharge_lag_98     12\n",
      "Wells_Total_Discharge_lag_97     11\n",
      "Wells_Total_Discharge_lag_102    11\n",
      "Wells_Total_Discharge_lag_93     11\n",
      "Wells_Total_Discharge_lag_100    11\n",
      "Wells_Total_Discharge_lag_95     11\n",
      "Wells_Total_Discharge_lag_99     11\n",
      "Wells_Total_Discharge_lag_94     10\n",
      "dtype: int64\n"
     ]
    }
   ],
   "source": [
    "# Features from the data\n",
    "feature_names = X.columns\n",
    "\n",
    "# Components given by pca\n",
    "components = pca.components_\n",
    "\n",
    "# Function to get top features for each component\n",
    "def get_top_features_for_component(component, num_features):\n",
    "    sorted_feature_indices = np.argsort(np.abs(component))[::-1][:num_features]\n",
    "    return feature_names[sorted_feature_indices]\n",
    "\n",
    "# Getting top 10 features for each component\n",
    "num_top_features = 10 \n",
    "top_features_per_component = {}\n",
    "\n",
    "for i, component in enumerate(components):\n",
    "    top_features = get_top_features_for_component(component, num_top_features)\n",
    "    top_features_per_component[f\"Component {i+1}\"] = top_features\n",
    "\n",
    "# Counting how often each feature appears in the top lists\n",
    "feature_counts = pd.Series(np.concatenate(list(top_features_per_component.values()))).value_counts()\n",
    "\n",
    "# Displaying the most frequently appearing features\n",
    "print(\"Most Influential Features in PCA:\")\n",
    "print(feature_counts.head(10))"
   ]
  },
  {
   "cell_type": "markdown",
   "metadata": {},
   "source": [
    "### 30 components"
   ]
  },
  {
   "cell_type": "code",
   "execution_count": 29,
   "metadata": {},
   "outputs": [
    {
     "name": "stdout",
     "output_type": "stream",
     "text": [
      "Mean Squared Error for Rocky Reach Dam: 0.0011116821184175333\n",
      "R-Squared for Rocky Reach Dam: 0.9974720047058783\n"
     ]
    }
   ],
   "source": [
    "pca = PCA(n_components=30)\n",
    "X_pca = pca.fit_transform(X)\n",
    "\n",
    "# Splitting the data into train and test sets\n",
    "X_train, X_test, y_train, y_test = train_test_split(X_pca, y, test_size=0.3, shuffle=False)\n",
    "\n",
    "# Model training with Linear Regression\n",
    "model2 = LinearRegression()\n",
    "model2.fit(X_train, y_train)\n",
    "\n",
    "# Predictions and evaluation\n",
    "y_pred = model2.predict(X_test)\n",
    "print(\"Mean Squared Error for Rocky Reach Dam:\", mean_squared_error(y_test, y_pred))\n",
    "print(\"R-Squared for Rocky Reach Dam:\", r2_score(y_test, y_pred))"
   ]
  },
  {
   "cell_type": "code",
   "execution_count": 30,
   "metadata": {},
   "outputs": [
    {
     "name": "stdout",
     "output_type": "stream",
     "text": [
      "Most Influential Features in PCA:\n",
      "Wells_Total_Discharge_lag_101    14\n",
      "Wells_Total_Discharge_lag_96     14\n",
      "Wells_Total_Discharge_lag_102    13\n",
      "Wells_Total_Discharge_lag_98     13\n",
      "Wells_Total_Discharge_lag_93     13\n",
      "Wells_Total_Discharge_lag_97     12\n",
      "Wells_Total_Discharge_lag_100    12\n",
      "Wells_Total_Discharge_lag_95     12\n",
      "Wells_Total_Discharge_lag_99     12\n",
      "Wells_Total_Discharge_lag_94     11\n",
      "dtype: int64\n"
     ]
    }
   ],
   "source": [
    "# Features from the data\n",
    "feature_names = X.columns\n",
    "\n",
    "# Components given by pca\n",
    "components = pca.components_\n",
    "\n",
    "# Function to get top features for each component\n",
    "def get_top_features_for_component(component, num_features):\n",
    "    sorted_feature_indices = np.argsort(np.abs(component))[::-1][:num_features]\n",
    "    return feature_names[sorted_feature_indices]\n",
    "\n",
    "# Getting top 10 features for each component\n",
    "num_top_features = 10 \n",
    "top_features_per_component = {}\n",
    "\n",
    "for i, component in enumerate(components):\n",
    "    top_features = get_top_features_for_component(component, num_top_features)\n",
    "    top_features_per_component[f\"Component {i+1}\"] = top_features\n",
    "\n",
    "# Counting how often each feature appears in the top lists\n",
    "feature_counts = pd.Series(np.concatenate(list(top_features_per_component.values()))).value_counts()\n",
    "\n",
    "# Displaying the most frequently appearing features\n",
    "print(\"Most Influential Features in PCA:\")\n",
    "print(feature_counts.head(10))"
   ]
  },
  {
   "cell_type": "markdown",
   "metadata": {},
   "source": [
    "### 40 Components"
   ]
  },
  {
   "cell_type": "code",
   "execution_count": 31,
   "metadata": {},
   "outputs": [
    {
     "name": "stdout",
     "output_type": "stream",
     "text": [
      "Mean Squared Error for Rocky Reach Dam: 0.0011116869619729654\n",
      "R-Squared for Rocky Reach Dam: 0.9974719936915019\n"
     ]
    }
   ],
   "source": [
    "pca = PCA(n_components=40)\n",
    "X_pca = pca.fit_transform(X)\n",
    "\n",
    "# Splitting the data into train and test sets\n",
    "X_train, X_test, y_train, y_test = train_test_split(X_pca, y, test_size=0.3, shuffle=False)\n",
    "\n",
    "# Model training with Linear Regression\n",
    "model3 = LinearRegression()\n",
    "model3.fit(X_train, y_train)\n",
    "\n",
    "# Predictions and evaluation\n",
    "y_pred = model3.predict(X_test)\n",
    "print(\"Mean Squared Error for Rocky Reach Dam:\", mean_squared_error(y_test, y_pred))\n",
    "print(\"R-Squared for Rocky Reach Dam:\", r2_score(y_test, y_pred))"
   ]
  },
  {
   "cell_type": "code",
   "execution_count": 32,
   "metadata": {},
   "outputs": [
    {
     "name": "stdout",
     "output_type": "stream",
     "text": [
      "Most Influential Features in PCA:\n",
      "Wells_Total_Discharge_lag_96     14\n",
      "Wells_Total_Discharge_lag_101    14\n",
      "Wells_Total_Discharge_lag_98     13\n",
      "Wells_Total_Discharge_lag_93     13\n",
      "Wells_Total_Discharge_lag_102    13\n",
      "Wells_Total_Discharge_lag_97     12\n",
      "Wells_Total_Discharge_lag_99     12\n",
      "Wells_Total_Discharge_lag_95     12\n",
      "Wells_Total_Discharge_lag_100    12\n",
      "Chelan_Flow_lag_70               12\n",
      "dtype: int64\n"
     ]
    }
   ],
   "source": [
    "# Features from the data\n",
    "feature_names = X.columns\n",
    "\n",
    "# Components given by pca\n",
    "components = pca.components_\n",
    "\n",
    "# Function to get top features for each component\n",
    "def get_top_features_for_component(component, num_features):\n",
    "    sorted_feature_indices = np.argsort(np.abs(component))[::-1][:num_features]\n",
    "    return feature_names[sorted_feature_indices]\n",
    "\n",
    "# Getting top 10 features for each component\n",
    "num_top_features = 10 \n",
    "top_features_per_component = {}\n",
    "\n",
    "for i, component in enumerate(components):\n",
    "    top_features = get_top_features_for_component(component, num_top_features)\n",
    "    top_features_per_component[f\"Component {i+1}\"] = top_features\n",
    "\n",
    "# Counting how often each feature appears in the top lists\n",
    "feature_counts = pd.Series(np.concatenate(list(top_features_per_component.values()))).value_counts()\n",
    "\n",
    "# Displaying the most frequently appearing features\n",
    "print(\"Most Influential Features in PCA:\")\n",
    "print(feature_counts.head(10))"
   ]
  },
  {
   "cell_type": "code",
   "execution_count": null,
   "metadata": {},
   "outputs": [],
   "source": []
  },
  {
   "cell_type": "code",
   "execution_count": null,
   "metadata": {},
   "outputs": [],
   "source": []
  },
  {
   "cell_type": "markdown",
   "metadata": {},
   "source": [
    "## Rock Island"
   ]
  },
  {
   "cell_type": "code",
   "execution_count": 33,
   "metadata": {},
   "outputs": [
    {
     "data": {
      "text/plain": [
       "Index(['datetime_utc', 'datetime_stamp', 'Wells_Total_Discharge',\n",
       "       'Chelan_Flow', 'Entiat_Flow', 'Rocky_Reach_Total_Discharge',\n",
       "       'Wenatchee_Flow', 'Rock_Island_Total_Discharge',\n",
       "       'Rock_Island_Headwater_Elevation', 'Rocky_Reach_Headwater_Elevation'],\n",
       "      dtype='object')"
      ]
     },
     "execution_count": 33,
     "metadata": {},
     "output_type": "execute_result"
    }
   ],
   "source": [
    "# Read the data from .RDS files\n",
    "import pyreadr\n",
    "data =  pyreadr.read_r('2019_1min_df.RDS')\n",
    "df_2019 = data[None]\n",
    "data = pyreadr.read_r('2020_1min_df.RDS')\n",
    "df_2020 = data[None]\n",
    "data = pyreadr.read_r('2021_1min_df.RDS')\n",
    "df_2021 = data[None]\n",
    "data = pyreadr.read_r('2022_1min_df.RDS')\n",
    "df_2022 = data[None]\n",
    "data = pyreadr.read_r('2023_1min_df.RDS')\n",
    "df_2023 = data[None]\n",
    "\n",
    "# Merge all the dataframes to form one dataframe.\n",
    "df = pd.concat([df_2019, df_2020, df_2021, df_2022, df_2023], ignore_index=True)\n",
    "df['datetime_utc'] = pd.to_datetime(df['datetime_utc'])\n",
    "df.sort_values(by='datetime_utc', inplace=True)\n",
    "\n",
    "# Fill Null Values using foward fill and backward fill\n",
    "df.fillna(method='ffill', inplace=True)\n",
    "df.fillna(method='bfill', inplace=True)\n",
    "df.columns"
   ]
  },
  {
   "cell_type": "markdown",
   "metadata": {},
   "source": [
    "### Data Processing and Feature Engineering"
   ]
  },
  {
   "cell_type": "code",
   "execution_count": 34,
   "metadata": {},
   "outputs": [],
   "source": [
    "# Create a list to hold all the new lagged feature DataFrames\n",
    "lagged_features = []\n",
    "\n",
    "# Rock Island Headwater Elevation lag for last 2 minutes\n",
    "for lag in range(1, 3):\n",
    "    lagged_feature = df['Rock_Island_Headwater_Elevation'].shift(lag).to_frame(f'Rocky_Island_Headwater_Elevation_lag_{lag}')\n",
    "    lagged_features.append(lagged_feature)\n",
    "\n",
    "# Rocky Island Discharge lag for last 2 minutes\n",
    "for lag in range(1, 3):\n",
    "    lagged_feature = df['Rock_Island_Total_Discharge'].shift(lag).to_frame(f'Rock_Island_Total_Discharge_lag_{lag}')\n",
    "    lagged_features.append(lagged_feature)\n",
    "\n",
    "# Wells Flow Impact = flows from last 15-30 minutes.\n",
    "for lag in range(15, 30):\n",
    "    lagged_feature = df['Wenatchee_Flow'].shift(lag).to_frame(f'Wenatchee_Flow_lag_{lag}')\n",
    "    lagged_features.append(lagged_feature)\n",
    "\n",
    "# Rocky Reach Discharge Impact = Discharge lags from last 10 to 30 minutes\n",
    "for lag in range(10, 30):\n",
    "    lagged_feature = df['Rocky_Reach_Total_Discharge'].shift(lag).to_frame(f'Rocky_Reach_Total_Discharge_lag_{lag}')\n",
    "    lagged_features.append(lagged_feature)\n",
    "\n",
    "# Concatenate all the lagged features with the original DataFrame\n",
    "df = pd.concat([df] + lagged_features, axis=1)"
   ]
  },
  {
   "cell_type": "code",
   "execution_count": 35,
   "metadata": {},
   "outputs": [
    {
     "data": {
      "text/plain": [
       "(2629440, 49)"
      ]
     },
     "execution_count": 35,
     "metadata": {},
     "output_type": "execute_result"
    }
   ],
   "source": [
    "df.shape"
   ]
  },
  {
   "cell_type": "code",
   "execution_count": 36,
   "metadata": {},
   "outputs": [
    {
     "data": {
      "text/plain": [
       "Index(['datetime_utc', 'datetime_stamp', 'Wells_Total_Discharge',\n",
       "       'Chelan_Flow', 'Entiat_Flow', 'Rocky_Reach_Total_Discharge',\n",
       "       'Wenatchee_Flow', 'Rock_Island_Total_Discharge',\n",
       "       'Rock_Island_Headwater_Elevation', 'Rocky_Reach_Headwater_Elevation',\n",
       "       'Rocky_Island_Headwater_Elevation_lag_1',\n",
       "       'Rocky_Island_Headwater_Elevation_lag_2',\n",
       "       'Rock_Island_Total_Discharge_lag_1',\n",
       "       'Rock_Island_Total_Discharge_lag_2', 'Wenatchee_Flow_lag_15',\n",
       "       'Wenatchee_Flow_lag_16', 'Wenatchee_Flow_lag_17',\n",
       "       'Wenatchee_Flow_lag_18', 'Wenatchee_Flow_lag_19',\n",
       "       'Wenatchee_Flow_lag_20', 'Wenatchee_Flow_lag_21',\n",
       "       'Wenatchee_Flow_lag_22', 'Wenatchee_Flow_lag_23',\n",
       "       'Wenatchee_Flow_lag_24', 'Wenatchee_Flow_lag_25',\n",
       "       'Wenatchee_Flow_lag_26', 'Wenatchee_Flow_lag_27',\n",
       "       'Wenatchee_Flow_lag_28', 'Wenatchee_Flow_lag_29',\n",
       "       'Rocky_Reach_Total_Discharge_lag_10',\n",
       "       'Rocky_Reach_Total_Discharge_lag_11',\n",
       "       'Rocky_Reach_Total_Discharge_lag_12',\n",
       "       'Rocky_Reach_Total_Discharge_lag_13',\n",
       "       'Rocky_Reach_Total_Discharge_lag_14',\n",
       "       'Rocky_Reach_Total_Discharge_lag_15',\n",
       "       'Rocky_Reach_Total_Discharge_lag_16',\n",
       "       'Rocky_Reach_Total_Discharge_lag_17',\n",
       "       'Rocky_Reach_Total_Discharge_lag_18',\n",
       "       'Rocky_Reach_Total_Discharge_lag_19',\n",
       "       'Rocky_Reach_Total_Discharge_lag_20',\n",
       "       'Rocky_Reach_Total_Discharge_lag_21',\n",
       "       'Rocky_Reach_Total_Discharge_lag_22',\n",
       "       'Rocky_Reach_Total_Discharge_lag_23',\n",
       "       'Rocky_Reach_Total_Discharge_lag_24',\n",
       "       'Rocky_Reach_Total_Discharge_lag_25',\n",
       "       'Rocky_Reach_Total_Discharge_lag_26',\n",
       "       'Rocky_Reach_Total_Discharge_lag_27',\n",
       "       'Rocky_Reach_Total_Discharge_lag_28',\n",
       "       'Rocky_Reach_Total_Discharge_lag_29'],\n",
       "      dtype='object')"
      ]
     },
     "execution_count": 36,
     "metadata": {},
     "output_type": "execute_result"
    }
   ],
   "source": [
    "df.columns"
   ]
  },
  {
   "cell_type": "code",
   "execution_count": 37,
   "metadata": {},
   "outputs": [
    {
     "data": {
      "text/plain": [
       "(2629411, 41)"
      ]
     },
     "execution_count": 37,
     "metadata": {},
     "output_type": "execute_result"
    }
   ],
   "source": [
    "# List of columns to drop\n",
    "columns_to_drop = ['datetime_utc', 'datetime_stamp', 'Wells_Total_Discharge',\n",
    "                   'Chelan_Flow', 'Entiat_Flow', 'Rocky_Reach_Total_Discharge',\n",
    "                   'Wenatchee_Flow', 'Rocky_Reach_Headwater_Elevation']\n",
    "\n",
    "# Create the DataFrame df_ri by dropping the specified columns\n",
    "df_ri = df.drop(columns=columns_to_drop).copy()\n",
    "\n",
    "# Drop rows with missing values\n",
    "df_ri.dropna(inplace=True)\n",
    "df_ri.shape"
   ]
  },
  {
   "cell_type": "markdown",
   "metadata": {},
   "source": [
    "### Principal Component Analysis (PCA) and Modeling"
   ]
  },
  {
   "cell_type": "code",
   "execution_count": 38,
   "metadata": {},
   "outputs": [],
   "source": [
    "# Separate features and target\n",
    "target = 'Rock_Island_Headwater_Elevation'\n",
    "X = df_ri.drop(columns=[target]) \n",
    "y = df_ri[target] #Target\n",
    "\n",
    "# Standardize the features\n",
    "scaler = StandardScaler()\n",
    "X_scaled = scaler.fit_transform(X)"
   ]
  },
  {
   "cell_type": "code",
   "execution_count": 39,
   "metadata": {},
   "outputs": [
    {
     "data": {
      "image/png": "[encoded data removed]",
      "text/plain": [
       "<Figure size 1000x600 with 1 Axes>"
      ]
     },
     "metadata": {},
     "output_type": "display_data"
    }
   ],
   "source": [
    "n_components = X.shape[1]\n",
    "\n",
    "pca = PCA(n_components=n_components).fit(X)\n",
    "cumulative_explained_variance = np.cumsum(pca.explained_variance_ratio_)\n",
    "\n",
    "plt.figure(figsize=(10, 6))\n",
    "plt.plot(range(1, n_components + 1), cumulative_explained_variance, marker='o', linestyle='--')\n",
    "plt.xlabel('Number of Components')\n",
    "plt.ylabel('Cumulative Explained Variance')\n",
    "plt.title('Elbow Method for Optimal Number of PCA Components')\n",
    "plt.grid(True)\n",
    "plt.show()"
   ]
  },
  {
   "cell_type": "code",
   "execution_count": 40,
   "metadata": {},
   "outputs": [
    {
     "data": {
      "image/png": "[encoded data removed]",
      "text/plain": [
       "<Figure size 1000x600 with 1 Axes>"
      ]
     },
     "metadata": {},
     "output_type": "display_data"
    },
    {
     "data": {
      "text/plain": [
       "24"
      ]
     },
     "execution_count": 40,
     "metadata": {},
     "output_type": "execute_result"
    }
   ],
   "source": [
    "# Define a range of components to test\n",
    "component_range = range(5, 25)\n",
    "\n",
    "# Store the average cross-validation score for each number of components\n",
    "cv_scores = []\n",
    "\n",
    "# Set up cross-validation scheme\n",
    "cv = KFold(n_splits=5, shuffle=True, random_state=42)\n",
    "\n",
    "# Perform grid search\n",
    "for n_components in component_range:\n",
    "    # Set up PCA with the current number of components\n",
    "    pca = PCA(n_components=n_components)\n",
    "    \n",
    "    # Transform X accordingly\n",
    "    X_pca = pca.fit_transform(X)\n",
    "    \n",
    "    # Set up the regression model\n",
    "    model = LinearRegression()\n",
    "    \n",
    "    # Perform cross-validation and store the average score\n",
    "    scores = cross_val_score(model, X_pca, y, cv=cv, scoring='r2')\n",
    "    cv_scores.append(np.mean(scores))\n",
    "\n",
    "# Find the number of components with the best average CV score\n",
    "optimal_components = component_range[np.argmax(cv_scores)]\n",
    "\n",
    "# Plot the scores\n",
    "plt.figure(figsize=(10, 6))\n",
    "plt.plot(component_range, cv_scores, marker='o', linestyle='--')\n",
    "plt.xlabel('Number of PCA Components')\n",
    "plt.ylabel('Average R2 Score')\n",
    "plt.title('PCA Components vs R2 Score')\n",
    "plt.grid(True)\n",
    "plt.show()\n",
    "\n",
    "optimal_components"
   ]
  },
  {
   "cell_type": "code",
   "execution_count": 41,
   "metadata": {},
   "outputs": [
    {
     "data": {
      "image/png": "[encoded data removed]",
      "text/plain": [
       "<Figure size 1000x600 with 1 Axes>"
      ]
     },
     "metadata": {},
     "output_type": "display_data"
    },
    {
     "data": {
      "text/plain": [
       "23"
      ]
     },
     "execution_count": 41,
     "metadata": {},
     "output_type": "execute_result"
    }
   ],
   "source": [
    "# Define a range of components to test\n",
    "component_range = range(5, 25)\n",
    "\n",
    "# Store the average cross-validation score for each number of components\n",
    "cv_scores = []\n",
    "\n",
    "# Set up cross-validation scheme\n",
    "cv = KFold(n_splits=5, shuffle=True, random_state=42)\n",
    "\n",
    "# Perform grid search\n",
    "for n_components in component_range:\n",
    "    # Set up PCA with the current number of components\n",
    "    pca = PCA(n_components=n_components)\n",
    "    \n",
    "    # Transform X accordingly\n",
    "    X_pca = pca.fit_transform(X_scaled)\n",
    "    \n",
    "    # Set up the regression model\n",
    "    model = LinearRegression()\n",
    "    \n",
    "    # Perform cross-validation and store the average score\n",
    "    scores = cross_val_score(model, X_pca, y, cv=cv, scoring='r2')\n",
    "    cv_scores.append(np.mean(scores))\n",
    "\n",
    "# Find the number of components with the best average CV score\n",
    "optimal_components = component_range[np.argmax(cv_scores)]\n",
    "\n",
    "# Plot the scores\n",
    "plt.figure(figsize=(10, 6))\n",
    "plt.plot(component_range, cv_scores, marker='o', linestyle='--')\n",
    "plt.xlabel('Number of PCA Components')\n",
    "plt.ylabel('Average R2 Score')\n",
    "plt.title('PCA Components vs R2 Score')\n",
    "plt.grid(True)\n",
    "plt.show()\n",
    "\n",
    "optimal_components"
   ]
  },
  {
   "cell_type": "markdown",
   "metadata": {},
   "source": [
    "### Optimal Components - 16"
   ]
  },
  {
   "cell_type": "code",
   "execution_count": 42,
   "metadata": {},
   "outputs": [
    {
     "name": "stdout",
     "output_type": "stream",
     "text": [
      "Mean Squared Error for Rock Island Dam: 0.000995625658721342\n",
      "R-Squared for Rock Island Dam: 0.9954434483586553\n"
     ]
    }
   ],
   "source": [
    "pca = PCA(n_components=16)\n",
    "X_pca = pca.fit_transform(X)\n",
    "\n",
    "# Splitting the data into train and test sets\n",
    "X_train, X_test, y_train, y_test = train_test_split(X_pca, y, test_size=0.3, shuffle=False)\n",
    "\n",
    "# Model training with Linear Regression\n",
    "model = LinearRegression()\n",
    "model.fit(X_train, y_train)\n",
    "\n",
    "# Predictions and evaluation\n",
    "y_pred = model.predict(X_test)\n",
    "print(\"Mean Squared Error for Rock Island Dam:\", mean_squared_error(y_test, y_pred))\n",
    "print(\"R-Squared for Rock Island Dam:\", r2_score(y_test, y_pred))"
   ]
  },
  {
   "cell_type": "code",
   "execution_count": 43,
   "metadata": {},
   "outputs": [
    {
     "name": "stdout",
     "output_type": "stream",
     "text": [
      "Most Influential Features in PCA:\n",
      "Rocky_Reach_Total_Discharge_lag_24    10\n",
      "Rocky_Reach_Total_Discharge_lag_20     9\n",
      "Rocky_Reach_Total_Discharge_lag_13     9\n",
      "Rocky_Reach_Total_Discharge_lag_26     8\n",
      "Rocky_Reach_Total_Discharge_lag_19     8\n",
      "Rocky_Reach_Total_Discharge_lag_17     8\n",
      "Rocky_Reach_Total_Discharge_lag_15     8\n",
      "Rocky_Reach_Total_Discharge_lag_10     8\n",
      "Rocky_Reach_Total_Discharge_lag_27     7\n",
      "Rocky_Reach_Total_Discharge_lag_25     7\n",
      "dtype: int64\n"
     ]
    }
   ],
   "source": [
    "# Features from the data\n",
    "feature_names = X.columns\n",
    "\n",
    "# Components given by pca\n",
    "components = pca.components_\n",
    "\n",
    "# Function to get top features for each component\n",
    "def get_top_features_for_component(component, num_features):\n",
    "    sorted_feature_indices = np.argsort(np.abs(component))[::-1][:num_features]\n",
    "    return feature_names[sorted_feature_indices]\n",
    "\n",
    "# Getting top 10 features for each component\n",
    "num_top_features = 10 \n",
    "top_features_per_component = {}\n",
    "\n",
    "for i, component in enumerate(components):\n",
    "    top_features = get_top_features_for_component(component, num_top_features)\n",
    "    top_features_per_component[f\"Component {i+1}\"] = top_features\n",
    "\n",
    "# Counting how often each feature appears in the top lists\n",
    "feature_counts = pd.Series(np.concatenate(list(top_features_per_component.values()))).value_counts()\n",
    "\n",
    "# Displaying the most frequently appearing features\n",
    "print(\"Most Influential Features in PCA:\")\n",
    "print(feature_counts.head(10))"
   ]
  },
  {
   "cell_type": "markdown",
   "metadata": {},
   "source": [
    "### Trying Manually Components 10,20,30"
   ]
  },
  {
   "cell_type": "markdown",
   "metadata": {},
   "source": [
    "#### 10 Components"
   ]
  },
  {
   "cell_type": "code",
   "execution_count": 44,
   "metadata": {},
   "outputs": [
    {
     "name": "stdout",
     "output_type": "stream",
     "text": [
      "Mean Squared Error for Rock Island Dam: 0.2653944532445425\n",
      "R-Squared for Rock Island Dam: -0.21459659154251698\n"
     ]
    }
   ],
   "source": [
    "pca = PCA(n_components=10)\n",
    "X_pca = pca.fit_transform(X)\n",
    "\n",
    "# Splitting the data into train and test sets\n",
    "X_train, X_test, y_train, y_test = train_test_split(X_pca, y, test_size=0.3, shuffle=False)\n",
    "\n",
    "# Model training with Linear Regression\n",
    "model = LinearRegression()\n",
    "model.fit(X_train, y_train)\n",
    "\n",
    "# Predictions and evaluation\n",
    "y_pred = model.predict(X_test)\n",
    "print(\"Mean Squared Error for Rock Island Dam:\", mean_squared_error(y_test, y_pred))\n",
    "print(\"R-Squared for Rock Island Dam:\", r2_score(y_test, y_pred))"
   ]
  },
  {
   "cell_type": "code",
   "execution_count": 45,
   "metadata": {},
   "outputs": [
    {
     "name": "stdout",
     "output_type": "stream",
     "text": [
      "Most Influential Features in PCA:\n",
      "Rocky_Reach_Total_Discharge_lag_10    7\n",
      "Rocky_Reach_Total_Discharge_lag_29    6\n",
      "Rocky_Reach_Total_Discharge_lag_13    5\n",
      "Rocky_Reach_Total_Discharge_lag_24    5\n",
      "Rocky_Reach_Total_Discharge_lag_20    5\n",
      "Rocky_Reach_Total_Discharge_lag_26    4\n",
      "Rocky_Reach_Total_Discharge_lag_19    4\n",
      "Rocky_Reach_Total_Discharge_lag_23    4\n",
      "Rocky_Reach_Total_Discharge_lag_27    4\n",
      "Rocky_Reach_Total_Discharge_lag_17    4\n",
      "dtype: int64\n"
     ]
    }
   ],
   "source": [
    "# Features from the data\n",
    "feature_names = X.columns\n",
    "\n",
    "# Components given by pca\n",
    "components = pca.components_\n",
    "\n",
    "# Function to get top features for each component\n",
    "def get_top_features_for_component(component, num_features):\n",
    "    sorted_feature_indices = np.argsort(np.abs(component))[::-1][:num_features]\n",
    "    return feature_names[sorted_feature_indices]\n",
    "\n",
    "# Getting top 10 features for each component\n",
    "num_top_features = 10 \n",
    "top_features_per_component = {}\n",
    "\n",
    "for i, component in enumerate(components):\n",
    "    top_features = get_top_features_for_component(component, num_top_features)\n",
    "    top_features_per_component[f\"Component {i+1}\"] = top_features\n",
    "\n",
    "# Counting how often each feature appears in the top lists\n",
    "feature_counts = pd.Series(np.concatenate(list(top_features_per_component.values()))).value_counts()\n",
    "\n",
    "# Displaying the most frequently appearing features\n",
    "print(\"Most Influential Features in PCA:\")\n",
    "print(feature_counts.head(10))"
   ]
  },
  {
   "cell_type": "markdown",
   "metadata": {},
   "source": [
    "#### 20 Components"
   ]
  },
  {
   "cell_type": "code",
   "execution_count": 46,
   "metadata": {},
   "outputs": [
    {
     "name": "stdout",
     "output_type": "stream",
     "text": [
      "Mean Squared Error for Rock Island Dam: 0.0004911480813517889\n",
      "R-Squared for Rock Island Dam: 0.9977522258726227\n"
     ]
    }
   ],
   "source": [
    "pca = PCA(n_components=20)\n",
    "X_pca = pca.fit_transform(X)\n",
    "\n",
    "# Splitting the data into train and test sets\n",
    "X_train, X_test, y_train, y_test = train_test_split(X_pca, y, test_size=0.3, shuffle=False)\n",
    "\n",
    "# Model training with Linear Regression\n",
    "model1 = LinearRegression()\n",
    "model1.fit(X_train, y_train)\n",
    "\n",
    "# Predictions and evaluation\n",
    "y_pred = model1.predict(X_test)\n",
    "print(\"Mean Squared Error for Rock Island Dam:\", mean_squared_error(y_test, y_pred))\n",
    "print(\"R-Squared for Rock Island Dam:\", r2_score(y_test, y_pred))"
   ]
  },
  {
   "cell_type": "code",
   "execution_count": 47,
   "metadata": {},
   "outputs": [
    {
     "name": "stdout",
     "output_type": "stream",
     "text": [
      "Most Influential Features in PCA:\n",
      "Rocky_Reach_Total_Discharge_lag_24    12\n",
      "Rocky_Reach_Total_Discharge_lag_20    10\n",
      "Rocky_Reach_Total_Discharge_lag_13    10\n",
      "Rocky_Reach_Total_Discharge_lag_26     9\n",
      "Rocky_Reach_Total_Discharge_lag_19     9\n",
      "Rocky_Reach_Total_Discharge_lag_15     9\n",
      "Rocky_Reach_Total_Discharge_lag_17     9\n",
      "Rocky_Reach_Total_Discharge_lag_21     8\n",
      "Rocky_Reach_Total_Discharge_lag_10     8\n",
      "Rocky_Reach_Total_Discharge_lag_11     8\n",
      "dtype: int64\n"
     ]
    }
   ],
   "source": [
    "# Features from the data\n",
    "feature_names = X.columns\n",
    "\n",
    "# Components given by pca\n",
    "components = pca.components_\n",
    "\n",
    "# Function to get top features for each component\n",
    "def get_top_features_for_component(component, num_features):\n",
    "    sorted_feature_indices = np.argsort(np.abs(component))[::-1][:num_features]\n",
    "    return feature_names[sorted_feature_indices]\n",
    "\n",
    "# Getting top 10 features for each component\n",
    "num_top_features = 10 \n",
    "top_features_per_component = {}\n",
    "\n",
    "for i, component in enumerate(components):\n",
    "    top_features = get_top_features_for_component(component, num_top_features)\n",
    "    top_features_per_component[f\"Component {i+1}\"] = top_features\n",
    "\n",
    "# Counting how often each feature appears in the top lists\n",
    "feature_counts = pd.Series(np.concatenate(list(top_features_per_component.values()))).value_counts()\n",
    "\n",
    "# Displaying the most frequently appearing features\n",
    "print(\"Most Influential Features in PCA:\")\n",
    "print(feature_counts.head(10))"
   ]
  },
  {
   "cell_type": "markdown",
   "metadata": {},
   "source": [
    "#### 30 Components"
   ]
  },
  {
   "cell_type": "code",
   "execution_count": 48,
   "metadata": {
    "id": "2Kr1nw8umPcr"
   },
   "outputs": [
    {
     "name": "stdout",
     "output_type": "stream",
     "text": [
      "Mean Squared Error for Rock Island Dam: 0.0004891557835176812\n",
      "R-Squared for Rock Island Dam: 0.9977613437653633\n"
     ]
    }
   ],
   "source": [
    "pca = PCA(n_components=30)\n",
    "X_pca = pca.fit_transform(X)\n",
    "\n",
    "# Splitting the data into train and test sets\n",
    "X_train, X_test, y_train, y_test = train_test_split(X_pca, y, test_size=0.3, shuffle=False)\n",
    "\n",
    "# Model training with Linear Regression\n",
    "model2 = LinearRegression()\n",
    "model2.fit(X_train, y_train)\n",
    "\n",
    "# Predictions and evaluation\n",
    "y_pred = model2.predict(X_test)\n",
    "print(\"Mean Squared Error for Rock Island Dam:\", mean_squared_error(y_test, y_pred))\n",
    "print(\"R-Squared for Rock Island Dam:\", r2_score(y_test, y_pred))"
   ]
  },
  {
   "cell_type": "code",
   "execution_count": 49,
   "metadata": {},
   "outputs": [
    {
     "name": "stdout",
     "output_type": "stream",
     "text": [
      "Most Influential Features in PCA:\n",
      "Rocky_Reach_Total_Discharge_lag_24    16\n",
      "Rocky_Reach_Total_Discharge_lag_20    13\n",
      "Rocky_Reach_Total_Discharge_lag_15    13\n",
      "Rocky_Reach_Total_Discharge_lag_17    13\n",
      "Rocky_Reach_Total_Discharge_lag_13    13\n",
      "Rocky_Reach_Total_Discharge_lag_26    12\n",
      "Rocky_Reach_Total_Discharge_lag_19    12\n",
      "Rocky_Reach_Total_Discharge_lag_16    12\n",
      "Rocky_Reach_Total_Discharge_lag_21    11\n",
      "Rocky_Reach_Total_Discharge_lag_11    11\n",
      "dtype: int64\n"
     ]
    }
   ],
   "source": [
    "# Features from the data\n",
    "feature_names = X.columns\n",
    "\n",
    "# Components given by pca\n",
    "components = pca.components_\n",
    "\n",
    "# Function to get top features for each component\n",
    "def get_top_features_for_component(component, num_features):\n",
    "    sorted_feature_indices = np.argsort(np.abs(component))[::-1][:num_features]\n",
    "    return feature_names[sorted_feature_indices]\n",
    "\n",
    "# Getting top 10 features for each component\n",
    "num_top_features = 10 \n",
    "top_features_per_component = {}\n",
    "\n",
    "for i, component in enumerate(components):\n",
    "    top_features = get_top_features_for_component(component, num_top_features)\n",
    "    top_features_per_component[f\"Component {i+1}\"] = top_features\n",
    "\n",
    "# Counting how often each feature appears in the top lists\n",
    "feature_counts = pd.Series(np.concatenate(list(top_features_per_component.values()))).value_counts()\n",
    "\n",
    "# Displaying the most frequently appearing features\n",
    "print(\"Most Influential Features in PCA:\")\n",
    "print(feature_counts.head(10))"
   ]
  },
  {
   "cell_type": "code",
   "execution_count": null,
   "metadata": {},
   "outputs": [],
   "source": []
  },
  {
   "cell_type": "code",
   "execution_count": null,
   "metadata": {},
   "outputs": [],
   "source": []
  },
  {
   "cell_type": "code",
   "execution_count": null,
   "metadata": {},
   "outputs": [],
   "source": []
  },
  {
   "cell_type": "code",
   "execution_count": null,
   "metadata": {},
   "outputs": [],
   "source": []
  },
  {
   "cell_type": "code",
   "execution_count": null,
   "metadata": {
    "id": "Vx5Hdh4qS1wO"
   },
   "outputs": [],
   "source": []
  },
  {
   "cell_type": "code",
   "execution_count": null,
   "metadata": {
    "id": "IAyGOA_10elQ"
   },
   "outputs": [],
   "source": []
  },
  {
   "cell_type": "code",
   "execution_count": null,
   "metadata": {
    "id": "9ZP7QnDPUhko"
   },
   "outputs": [],
   "source": []
  },
  {
   "cell_type": "code",
   "execution_count": null,
   "metadata": {
    "id": "AJs-osYpUhnu"
   },
   "outputs": [],
   "source": []
  },
  {
   "cell_type": "code",
   "execution_count": null,
   "metadata": {
    "id": "6DUhY6UjUhq0"
   },
   "outputs": [],
   "source": []
  },
  {
   "cell_type": "code",
   "execution_count": null,
   "metadata": {
    "id": "aaZTNyxfUhtx"
   },
   "outputs": [],
   "source": []
  },
  {
   "cell_type": "code",
   "execution_count": null,
   "metadata": {
    "id": "22nyt52NUhwV"
   },
   "outputs": [],
   "source": []
  },
  {
   "cell_type": "code",
   "execution_count": null,
   "metadata": {
    "id": "vONMswOh0eoS"
   },
   "outputs": [],
   "source": []
  }
 ],
 "metadata": {
  "colab": {
   "collapsed_sections": [
    "OEAI1vEXyot8",
    "WQSSPIQuy6tX",
    "pl5arzP0zOuW",
    "WLwPrNfVl-fC",
    "fdUfHoIu0fNT"
   ],
   "provenance": []
  },
  "kernelspec": {
   "display_name": "Python 3 (ipykernel)",
   "language": "python",
   "name": "python3"
  },
  "language_info": {
   "codemirror_mode": {
    "name": "ipython",
    "version": 3
   },
   "file_extension": ".py",
   "mimetype": "text/x-python",
   "name": "python",
   "nbconvert_exporter": "python",
   "pygments_lexer": "ipython3",
   "version": "3.9.12"
  }
 },
 "nbformat": 4,
 "nbformat_minor": 1
}
