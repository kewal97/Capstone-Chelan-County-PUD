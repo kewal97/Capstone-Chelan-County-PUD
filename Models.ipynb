{
 "cells": [
  {
   "cell_type": "code",
   "execution_count": 1,
   "id": "f0b13507",
   "metadata": {},
   "outputs": [],
   "source": [
    "# import required libraries\n",
    "import numpy as np\n",
    "import pandas as pd\n",
    "import matplotlib.pyplot as plt\n",
    "import seaborn as sns\n",
    "\n",
    "from sklearn.preprocessing import StandardScaler\n",
    "from sklearn.model_selection import train_test_split, cross_val_score, KFold\n",
    "from sklearn.metrics import mean_squared_error, r2_score\n",
    "from sklearn.decomposition import PCA\n",
    "\n",
    "from sklearn.linear_model import LinearRegression\n",
    "from sklearn.ensemble import RandomForestRegressor\n",
    "\n",
    "from statsmodels.tsa.arima.model import ARIMA\n",
    "from statsmodels.tsa.stattools import adfuller\n",
    "from statsmodels.tsa.seasonal import seasonal_decompose"
   ]
  },
  {
   "cell_type": "code",
   "execution_count": 2,
   "id": "ec636ef3",
   "metadata": {},
   "outputs": [
    {
     "name": "stdout",
     "output_type": "stream",
     "text": [
      "Defaulting to user installation because normal site-packages is not writeable\n",
      "Requirement already satisfied: pyreadr in c:\\users\\lveganti\\appdata\\roaming\\python\\python39\\site-packages (0.5.0)\n",
      "Requirement already satisfied: pandas>=1.2.0 in c:\\programdata\\anaconda3\\lib\\site-packages (from pyreadr) (1.4.2)\n",
      "Requirement already satisfied: python-dateutil>=2.8.1 in c:\\programdata\\anaconda3\\lib\\site-packages (from pandas>=1.2.0->pyreadr) (2.8.2)\n",
      "Requirement already satisfied: numpy>=1.18.5 in c:\\programdata\\anaconda3\\lib\\site-packages (from pandas>=1.2.0->pyreadr) (1.23.5)\n",
      "Requirement already satisfied: pytz>=2020.1 in c:\\programdata\\anaconda3\\lib\\site-packages (from pandas>=1.2.0->pyreadr) (2022.7)\n",
      "Requirement already satisfied: six>=1.5 in c:\\programdata\\anaconda3\\lib\\site-packages (from python-dateutil>=2.8.1->pandas>=1.2.0->pyreadr) (1.16.0)\n"
     ]
    }
   ],
   "source": [
    "# Install pyreadr library\n",
    "!pip install pyreadr"
   ]
  },
  {
   "cell_type": "code",
   "execution_count": 3,
   "id": "3711309f",
   "metadata": {},
   "outputs": [
    {
     "data": {
      "text/plain": [
       "(2629440, 10)"
      ]
     },
     "execution_count": 3,
     "metadata": {},
     "output_type": "execute_result"
    }
   ],
   "source": [
    "# Read the data from .RDS files\n",
    "import pyreadr\n",
    "data =  pyreadr.read_r('2019_1min_df.RDS')\n",
    "df_2019 = data[None]\n",
    "data = pyreadr.read_r('2020_1min_df.RDS')\n",
    "df_2020 = data[None]\n",
    "data = pyreadr.read_r('2021_1min_df.RDS')\n",
    "df_2021 = data[None]\n",
    "data = pyreadr.read_r('2022_1min_df.RDS')\n",
    "df_2022 = data[None]\n",
    "data = pyreadr.read_r('2023_1min_df.RDS')\n",
    "df_2023 = data[None]\n",
    "\n",
    "# Merge all the dataframes to form one dataframe.\n",
    "df = pd.concat([df_2019, df_2020, df_2021, df_2022, df_2023], ignore_index=True)\n",
    "\n",
    "df['datetime_utc'] = pd.to_datetime(df['datetime_utc'])\n",
    "\n",
    "df.shape"
   ]
  },
  {
   "cell_type": "code",
   "execution_count": 4,
   "id": "84d03733",
   "metadata": {},
   "outputs": [],
   "source": [
    "# Fill Null Values using foward fill and backward fill\n",
    "df.fillna(method='ffill', inplace=True)\n",
    "df.fillna(method='bfill', inplace=True)"
   ]
  },
  {
   "cell_type": "code",
   "execution_count": 5,
   "id": "c64ce544",
   "metadata": {},
   "outputs": [
    {
     "data": {
      "text/plain": [
       "Index(['datetime_utc', 'datetime_stamp', 'Wells_Total_Discharge',\n",
       "       'Chelan_Flow', 'Entiat_Flow', 'Rocky_Reach_Total_Discharge',\n",
       "       'Wenatchee_Flow', 'Rock_Island_Total_Discharge',\n",
       "       'Rock_Island_Headwater_Elevation', 'Rocky_Reach_Headwater_Elevation'],\n",
       "      dtype='object')"
      ]
     },
     "execution_count": 5,
     "metadata": {},
     "output_type": "execute_result"
    }
   ],
   "source": [
    "df.columns"
   ]
  },
  {
   "cell_type": "markdown",
   "id": "f2b629fd",
   "metadata": {},
   "source": [
    "# 1. Rocky Reach"
   ]
  },
  {
   "cell_type": "markdown",
   "id": "6dc9e1da",
   "metadata": {},
   "source": [
    "## 1. Feature Engineering"
   ]
  },
  {
   "cell_type": "code",
   "execution_count": 6,
   "id": "c56025e4",
   "metadata": {},
   "outputs": [
    {
     "data": {
      "text/plain": [
       "Index(['datetime_utc', 'datetime_stamp', 'Wells_Total_Discharge',\n",
       "       'Chelan_Flow', 'Entiat_Flow', 'Rocky_Reach_Total_Discharge',\n",
       "       'Wenatchee_Flow', 'Rock_Island_Total_Discharge',\n",
       "       'Rock_Island_Headwater_Elevation', 'Rocky_Reach_Headwater_Elevation',\n",
       "       'Rocky_Reach_Headwater_Elevation_lag_1',\n",
       "       'Rocky_Reach_Headwater_Elevation_lag_2',\n",
       "       'Rocky_Reach_Total_Discharge_lag_1',\n",
       "       'Rocky_Reach_Total_Discharge_lag_2', 'Wells_Total_Discharge_lag_90',\n",
       "       'Wells_Total_Discharge_lag_91', 'Wells_Total_Discharge_lag_92',\n",
       "       'Wells_Total_Discharge_lag_93', 'Wells_Total_Discharge_lag_94',\n",
       "       'Wells_Total_Discharge_lag_95', 'Wells_Total_Discharge_lag_96',\n",
       "       'Wells_Total_Discharge_lag_97', 'Wells_Total_Discharge_lag_98',\n",
       "       'Wells_Total_Discharge_lag_99', 'Wells_Total_Discharge_lag_100',\n",
       "       'Wells_Total_Discharge_lag_101', 'Wells_Total_Discharge_lag_102',\n",
       "       'Wells_Total_Discharge_lag_103', 'Wells_Total_Discharge_lag_104',\n",
       "       'Wells_Total_Discharge_lag_105', 'Chelan_Flow_lag_62',\n",
       "       'Chelan_Flow_lag_63', 'Chelan_Flow_lag_64', 'Chelan_Flow_lag_65',\n",
       "       'Chelan_Flow_lag_66', 'Chelan_Flow_lag_67', 'Chelan_Flow_lag_68',\n",
       "       'Chelan_Flow_lag_69', 'Chelan_Flow_lag_70', 'Chelan_Flow_lag_71',\n",
       "       'Chelan_Flow_lag_72', 'Chelan_Flow_lag_73', 'Chelan_Flow_lag_74',\n",
       "       'Chelan_Flow_lag_75', 'Chelan_Flow_lag_76', 'Chelan_Flow_lag_77',\n",
       "       'Entiat_Flow_lag_15', 'Entiat_Flow_lag_16', 'Entiat_Flow_lag_17',\n",
       "       'Entiat_Flow_lag_18', 'Entiat_Flow_lag_19', 'Entiat_Flow_lag_20',\n",
       "       'Entiat_Flow_lag_21', 'Entiat_Flow_lag_22', 'Entiat_Flow_lag_23',\n",
       "       'Entiat_Flow_lag_24', 'Entiat_Flow_lag_25', 'Entiat_Flow_lag_26',\n",
       "       'Entiat_Flow_lag_27', 'Entiat_Flow_lag_28', 'Entiat_Flow_lag_29',\n",
       "       'Entiat_Flow_lag_30'],\n",
       "      dtype='object')"
      ]
     },
     "execution_count": 6,
     "metadata": {},
     "output_type": "execute_result"
    }
   ],
   "source": [
    "df_rr_lagged = df.copy()\n",
    "\n",
    "# Rocky Reach Headwater Elevation lag for the last 2 minutes\n",
    "for lag in range(1, 3):\n",
    "    df_rr_lagged[f'Rocky_Reach_Headwater_Elevation_lag_{lag}'] = df['Rocky_Reach_Headwater_Elevation'].shift(lag)\n",
    "\n",
    "# Rocky Reach Discharge lag for the last 2 minutes\n",
    "for lag in range(1, 3):\n",
    "    df_rr_lagged[f'Rocky_Reach_Total_Discharge_lag_{lag}'] = df['Rocky_Reach_Total_Discharge'].shift(lag)\n",
    "\n",
    "# Wells Flow Impact = flows averaged from previous 90-105 minutes\n",
    "for lag in range(90, 106):\n",
    "    df_rr_lagged[f'Wells_Total_Discharge_lag_{lag}'] = df['Wells_Total_Discharge'].shift(lag)\n",
    "\n",
    "# Chelan Flow Impact = flows averaged from previous 62-77 minutes\n",
    "for lag in range(62, 78):\n",
    "    df_rr_lagged[f'Chelan_Flow_lag_{lag}'] = df['Chelan_Flow'].shift(lag)\n",
    "\n",
    "# Entiat Flow Impact = flows averaged from previous 15-30 minutes\n",
    "for lag in range(15, 31):\n",
    "    df_rr_lagged[f'Entiat_Flow_lag_{lag}'] = df['Entiat_Flow'].shift(lag)\n",
    "\n",
    "df_rr_lagged.columns"
   ]
  },
  {
   "cell_type": "code",
   "execution_count": 7,
   "id": "eac9b7c7",
   "metadata": {},
   "outputs": [
    {
     "data": {
      "text/plain": [
       "(2629335, 54)"
      ]
     },
     "execution_count": 7,
     "metadata": {},
     "output_type": "execute_result"
    }
   ],
   "source": [
    "# List of unnecessary columns to drop\n",
    "columns_to_drop = ['datetime_stamp', 'Wells_Total_Discharge','Chelan_Flow', 'Entiat_Flow', 'Rocky_Reach_Total_Discharge',\n",
    "                   'Wenatchee_Flow', 'Rock_Island_Total_Discharge', 'Rock_Island_Headwater_Elevation']\n",
    "\n",
    "# Drop the unnecessary columns\n",
    "df_rr = df_rr_lagged.drop(columns=columns_to_drop).copy()\n",
    "\n",
    "# Drop rows with missing values\n",
    "df_rr.dropna(inplace=True)\n",
    "\n",
    "df_rr.shape"
   ]
  },
  {
   "cell_type": "code",
   "execution_count": 8,
   "id": "35a62cfe",
   "metadata": {},
   "outputs": [
    {
     "data": {
      "text/plain": [
       "Index(['datetime_utc', 'Rocky_Reach_Headwater_Elevation',\n",
       "       'Rocky_Reach_Headwater_Elevation_lag_1',\n",
       "       'Rocky_Reach_Headwater_Elevation_lag_2',\n",
       "       'Rocky_Reach_Total_Discharge_lag_1',\n",
       "       'Rocky_Reach_Total_Discharge_lag_2', 'Wells_Total_Discharge_lag_90',\n",
       "       'Wells_Total_Discharge_lag_91', 'Wells_Total_Discharge_lag_92',\n",
       "       'Wells_Total_Discharge_lag_93', 'Wells_Total_Discharge_lag_94',\n",
       "       'Wells_Total_Discharge_lag_95', 'Wells_Total_Discharge_lag_96',\n",
       "       'Wells_Total_Discharge_lag_97', 'Wells_Total_Discharge_lag_98',\n",
       "       'Wells_Total_Discharge_lag_99', 'Wells_Total_Discharge_lag_100',\n",
       "       'Wells_Total_Discharge_lag_101', 'Wells_Total_Discharge_lag_102',\n",
       "       'Wells_Total_Discharge_lag_103', 'Wells_Total_Discharge_lag_104',\n",
       "       'Wells_Total_Discharge_lag_105', 'Chelan_Flow_lag_62',\n",
       "       'Chelan_Flow_lag_63', 'Chelan_Flow_lag_64', 'Chelan_Flow_lag_65',\n",
       "       'Chelan_Flow_lag_66', 'Chelan_Flow_lag_67', 'Chelan_Flow_lag_68',\n",
       "       'Chelan_Flow_lag_69', 'Chelan_Flow_lag_70', 'Chelan_Flow_lag_71',\n",
       "       'Chelan_Flow_lag_72', 'Chelan_Flow_lag_73', 'Chelan_Flow_lag_74',\n",
       "       'Chelan_Flow_lag_75', 'Chelan_Flow_lag_76', 'Chelan_Flow_lag_77',\n",
       "       'Entiat_Flow_lag_15', 'Entiat_Flow_lag_16', 'Entiat_Flow_lag_17',\n",
       "       'Entiat_Flow_lag_18', 'Entiat_Flow_lag_19', 'Entiat_Flow_lag_20',\n",
       "       'Entiat_Flow_lag_21', 'Entiat_Flow_lag_22', 'Entiat_Flow_lag_23',\n",
       "       'Entiat_Flow_lag_24', 'Entiat_Flow_lag_25', 'Entiat_Flow_lag_26',\n",
       "       'Entiat_Flow_lag_27', 'Entiat_Flow_lag_28', 'Entiat_Flow_lag_29',\n",
       "       'Entiat_Flow_lag_30'],\n",
       "      dtype='object')"
      ]
     },
     "execution_count": 8,
     "metadata": {},
     "output_type": "execute_result"
    }
   ],
   "source": [
    "df_rr.columns"
   ]
  },
  {
   "cell_type": "code",
   "execution_count": 9,
   "id": "027f8c98",
   "metadata": {},
   "outputs": [
    {
     "name": "stdout",
     "output_type": "stream",
     "text": [
      "(2103255, 54)\n",
      "(525600, 54)\n"
     ]
    }
   ],
   "source": [
    "# Create a new dataframe with the filtered data for years before 2023\n",
    "df_before_2023 = df_rr[df_rr['datetime_utc'].dt.year < 2023]\n",
    "\n",
    "# Create a new dataframe with 2023 data \n",
    "df_2023 = df_rr[df_rr['datetime_utc'].dt.year == 2023]\n",
    "\n",
    "# Check the results\n",
    "print(df_before_2023.shape)\n",
    "print(df_2023.shape)"
   ]
  },
  {
   "cell_type": "code",
   "execution_count": 10,
   "id": "e7637e4c",
   "metadata": {},
   "outputs": [
    {
     "data": {
      "text/plain": [
       "Index(['Rocky_Reach_Headwater_Elevation',\n",
       "       'Rocky_Reach_Headwater_Elevation_lag_1',\n",
       "       'Rocky_Reach_Headwater_Elevation_lag_2',\n",
       "       'Rocky_Reach_Total_Discharge_lag_1',\n",
       "       'Rocky_Reach_Total_Discharge_lag_2', 'Wells_Total_Discharge_lag_90',\n",
       "       'Wells_Total_Discharge_lag_91', 'Wells_Total_Discharge_lag_92',\n",
       "       'Wells_Total_Discharge_lag_93', 'Wells_Total_Discharge_lag_94',\n",
       "       'Wells_Total_Discharge_lag_95', 'Wells_Total_Discharge_lag_96',\n",
       "       'Wells_Total_Discharge_lag_97', 'Wells_Total_Discharge_lag_98',\n",
       "       'Wells_Total_Discharge_lag_99', 'Wells_Total_Discharge_lag_100',\n",
       "       'Wells_Total_Discharge_lag_101', 'Wells_Total_Discharge_lag_102',\n",
       "       'Wells_Total_Discharge_lag_103', 'Wells_Total_Discharge_lag_104',\n",
       "       'Wells_Total_Discharge_lag_105', 'Chelan_Flow_lag_62',\n",
       "       'Chelan_Flow_lag_63', 'Chelan_Flow_lag_64', 'Chelan_Flow_lag_65',\n",
       "       'Chelan_Flow_lag_66', 'Chelan_Flow_lag_67', 'Chelan_Flow_lag_68',\n",
       "       'Chelan_Flow_lag_69', 'Chelan_Flow_lag_70', 'Chelan_Flow_lag_71',\n",
       "       'Chelan_Flow_lag_72', 'Chelan_Flow_lag_73', 'Chelan_Flow_lag_74',\n",
       "       'Chelan_Flow_lag_75', 'Chelan_Flow_lag_76', 'Chelan_Flow_lag_77',\n",
       "       'Entiat_Flow_lag_15', 'Entiat_Flow_lag_16', 'Entiat_Flow_lag_17',\n",
       "       'Entiat_Flow_lag_18', 'Entiat_Flow_lag_19', 'Entiat_Flow_lag_20',\n",
       "       'Entiat_Flow_lag_21', 'Entiat_Flow_lag_22', 'Entiat_Flow_lag_23',\n",
       "       'Entiat_Flow_lag_24', 'Entiat_Flow_lag_25', 'Entiat_Flow_lag_26',\n",
       "       'Entiat_Flow_lag_27', 'Entiat_Flow_lag_28', 'Entiat_Flow_lag_29',\n",
       "       'Entiat_Flow_lag_30'],\n",
       "      dtype='object')"
      ]
     },
     "execution_count": 10,
     "metadata": {},
     "output_type": "execute_result"
    }
   ],
   "source": [
    "data = df_before_2023.drop(columns=['datetime_utc']).copy()\n",
    "data.columns"
   ]
  },
  {
   "cell_type": "code",
   "execution_count": 11,
   "id": "58f20104",
   "metadata": {},
   "outputs": [
    {
     "data": {
      "text/plain": [
       "(2103255, 53)"
      ]
     },
     "execution_count": 11,
     "metadata": {},
     "output_type": "execute_result"
    }
   ],
   "source": [
    "data.shape"
   ]
  },
  {
   "cell_type": "markdown",
   "id": "f5a2df11",
   "metadata": {},
   "source": [
    "## 2. PCA"
   ]
  },
  {
   "cell_type": "markdown",
   "id": "a37ebe73",
   "metadata": {},
   "source": [
    "## Modeling"
   ]
  },
  {
   "cell_type": "code",
   "execution_count": 12,
   "id": "8cf6aa1e",
   "metadata": {},
   "outputs": [],
   "source": [
    "# Separate features and target\n",
    "target = 'Rocky_Reach_Headwater_Elevation'\n",
    "X = data.drop(columns=[target]) \n",
    "y = data[target]  # Target"
   ]
  },
  {
   "cell_type": "raw",
   "id": "40969614",
   "metadata": {},
   "source": [
    "# Define a range of components to test\n",
    "component_range = range(5, 25)\n",
    "\n",
    "# Store the average cross-validation score for each number of components\n",
    "cv_scores = []\n",
    "\n",
    "# Set up cross-validation scheme\n",
    "cv = KFold(n_splits=5, shuffle=True, random_state=42)\n",
    "\n",
    "# Perform grid search\n",
    "for n_components in component_range:\n",
    "    # Set up PCA with the current number of components\n",
    "    pca = PCA(n_components=n_components)\n",
    "    \n",
    "    # Transform X accordingly\n",
    "    X_pca = pca.fit_transform(X)\n",
    "    \n",
    "    # Set up the regression model\n",
    "    model = LinearRegression()\n",
    "    \n",
    "    # Perform cross-validation and store the average score\n",
    "    scores = cross_val_score(model, X_pca, y, cv=cv, scoring='r2')\n",
    "    cv_scores.append(np.mean(scores))\n",
    "\n",
    "\n",
    "# Plot the scores\n",
    "plt.figure(figsize=(10, 6))\n",
    "plt.plot(component_range, cv_scores, marker='o', linestyle='--')\n",
    "plt.xlabel('Number of PCA Components')\n",
    "plt.ylabel('Average R2 Score')\n",
    "plt.title('PCA Components vs R2 Score')\n",
    "plt.grid(True)\n",
    "plt.show()"
   ]
  },
  {
   "cell_type": "markdown",
   "id": "ce8e4c56",
   "metadata": {},
   "source": [
    "**Optimal Components Found: 15**"
   ]
  },
  {
   "cell_type": "code",
   "execution_count": 13,
   "id": "73da66d9",
   "metadata": {},
   "outputs": [
    {
     "name": "stdout",
     "output_type": "stream",
     "text": [
      "Mean Squared Error for Rocky Reach Dam: 0.0019377738946997473\n",
      "R-Squared for Rocky Reach Dam: 0.9950734771411752\n"
     ]
    }
   ],
   "source": [
    "pca = PCA(n_components=15)\n",
    "X_pca = pca.fit_transform(X)\n",
    "\n",
    "# Splitting the data into train and test sets\n",
    "X_train, X_test, y_train, y_test = train_test_split(X_pca, y, test_size=0.3, shuffle=False)\n",
    "\n",
    "# Model training with Linear Regression\n",
    "model = LinearRegression()\n",
    "model.fit(X_train, y_train)\n",
    "\n",
    "# Predictions and evaluation\n",
    "y_pred = model.predict(X_test)\n",
    "print(\"Mean Squared Error for Rocky Reach Dam:\", mean_squared_error(y_test, y_pred))\n",
    "print(\"R-Squared for Rocky Reach Dam:\", r2_score(y_test, y_pred))"
   ]
  },
  {
   "cell_type": "code",
   "execution_count": 14,
   "id": "1374ae18",
   "metadata": {},
   "outputs": [
    {
     "name": "stdout",
     "output_type": "stream",
     "text": [
      "10 Most Influential Features in 15 Components PCA for Rocky Reach\n",
      "Wells_Total_Discharge_lag_105    10\n",
      "Wells_Total_Discharge_lag_95     10\n",
      "Wells_Total_Discharge_lag_98      9\n",
      "Wells_Total_Discharge_lag_100     9\n",
      "Wells_Total_Discharge_lag_97      8\n",
      "Wells_Total_Discharge_lag_90      8\n",
      "Wells_Total_Discharge_lag_94      8\n",
      "Wells_Total_Discharge_lag_101     8\n",
      "Wells_Total_Discharge_lag_93      8\n",
      "Wells_Total_Discharge_lag_102     7\n",
      "dtype: int64\n"
     ]
    }
   ],
   "source": [
    "# Features from the data\n",
    "feature_names = X.columns\n",
    "\n",
    "# Components given by pca\n",
    "components = pca.components_\n",
    "\n",
    "# Function to get top features for each component\n",
    "def get_top_features_for_component(component, num_features):\n",
    "    sorted_feature_indices = np.argsort(np.abs(component))[::-1][:num_features]\n",
    "    return feature_names[sorted_feature_indices]\n",
    "\n",
    "# Getting top 10 features for each component\n",
    "num_top_features = 10 \n",
    "top_features_per_component = {}\n",
    "\n",
    "for i, component in enumerate(components):\n",
    "    top_features = get_top_features_for_component(component, num_top_features)\n",
    "    top_features_per_component[f\"Component {i+1}\"] = top_features\n",
    "\n",
    "# Counting how often each feature appears in the top lists\n",
    "feature_counts = pd.Series(np.concatenate(list(top_features_per_component.values()))).value_counts()\n",
    "\n",
    "# Displaying the most frequently appearing features\n",
    "print(\"10 Most Influential Features in 15 Components PCA for Rocky Reach\")\n",
    "print(feature_counts.head(10))"
   ]
  },
  {
   "cell_type": "markdown",
   "id": "c22e953a",
   "metadata": {},
   "source": [
    "## Model Evaluation"
   ]
  },
  {
   "cell_type": "code",
   "execution_count": 15,
   "id": "33bc7d6f",
   "metadata": {},
   "outputs": [
    {
     "data": {
      "text/plain": [
       "(525600, 53)"
      ]
     },
     "execution_count": 15,
     "metadata": {},
     "output_type": "execute_result"
    }
   ],
   "source": [
    "data_2023 = df_2023.drop(columns=['datetime_utc']).copy()\n",
    "data_2023.shape"
   ]
  },
  {
   "cell_type": "code",
   "execution_count": 16,
   "id": "5913b3be",
   "metadata": {},
   "outputs": [],
   "source": [
    "target = 'Rocky_Reach_Headwater_Elevation'\n",
    "X_eval = data_2023.drop(columns=[target]) \n",
    "y_eval = data_2023[target]  # Target"
   ]
  },
  {
   "cell_type": "code",
   "execution_count": 17,
   "id": "b51bae8a",
   "metadata": {},
   "outputs": [
    {
     "name": "stdout",
     "output_type": "stream",
     "text": [
      "Mean Squared Error for Rocky Reach Dam: 0.0022323236157214274\n",
      "R-Squared for Rocky Reach Dam: 0.9949456667415721\n"
     ]
    }
   ],
   "source": [
    "X_eval_pca_corrected = pca.transform(X_eval)\n",
    "\n",
    "y_pred = model.predict(X_eval_pca_corrected)\n",
    "print(\"Mean Squared Error for Rocky Reach Dam:\", mean_squared_error(y_eval, y_pred))\n",
    "print(\"R-Squared for Rocky Reach Dam:\", r2_score(y_eval, y_pred))"
   ]
  },
  {
   "cell_type": "markdown",
   "id": "f7a09d61",
   "metadata": {},
   "source": [
    "## Feature Selection Using Other Methods"
   ]
  },
  {
   "cell_type": "markdown",
   "id": "17f30aff",
   "metadata": {},
   "source": [
    "## 3. Filter Methods: Using Correlation"
   ]
  },
  {
   "cell_type": "markdown",
   "id": "c5bcdb2c",
   "metadata": {},
   "source": [
    "## Modeling"
   ]
  },
  {
   "cell_type": "code",
   "execution_count": 18,
   "id": "73884850",
   "metadata": {},
   "outputs": [
    {
     "name": "stdout",
     "output_type": "stream",
     "text": [
      "Selected features: Index(['Rocky_Reach_Headwater_Elevation_lag_1',\n",
      "       'Rocky_Reach_Headwater_Elevation_lag_2', 'Wells_Total_Discharge_lag_93',\n",
      "       'Wells_Total_Discharge_lag_94', 'Wells_Total_Discharge_lag_95',\n",
      "       'Wells_Total_Discharge_lag_96', 'Wells_Total_Discharge_lag_97',\n",
      "       'Wells_Total_Discharge_lag_98', 'Wells_Total_Discharge_lag_99',\n",
      "       'Wells_Total_Discharge_lag_100', 'Wells_Total_Discharge_lag_101',\n",
      "       'Wells_Total_Discharge_lag_102', 'Wells_Total_Discharge_lag_103',\n",
      "       'Wells_Total_Discharge_lag_104', 'Wells_Total_Discharge_lag_105'],\n",
      "      dtype='object')\n"
     ]
    }
   ],
   "source": [
    "import pandas as pd\n",
    "from sklearn.model_selection import train_test_split\n",
    "from sklearn.feature_selection import SelectKBest, f_regression\n",
    "\n",
    "# Selecting the top k features that have the highest correlation with the target variable\n",
    "selector = SelectKBest(f_regression, k= 15)  # k = No of features wanted\n",
    "X_new = selector.fit_transform(X, y)\n",
    "\n",
    "# Getting the selected feature names\n",
    "selected_features = X.columns[selector.get_support()]\n",
    "\n",
    "print(\"Selected features:\", selected_features)"
   ]
  },
  {
   "cell_type": "code",
   "execution_count": 19,
   "id": "04abee31",
   "metadata": {},
   "outputs": [
    {
     "name": "stdout",
     "output_type": "stream",
     "text": [
      "Mean Squared Error for Rocky Reach Dam: 0.001191297160823114\n",
      "R-Squared for Rocky Reach Dam: 0.9969712912788736\n"
     ]
    }
   ],
   "source": [
    "# Splitting the data into train and test sets\n",
    "X_train, X_test, y_train, y_test = train_test_split(X_new, y, test_size=0.3, shuffle=False)\n",
    "\n",
    "# Model training with Linear Regression\n",
    "model = LinearRegression()\n",
    "model.fit(X_train, y_train)\n",
    "\n",
    "# Predictions and evaluation\n",
    "y_pred = model.predict(X_test)\n",
    "print(\"Mean Squared Error for Rocky Reach Dam:\", mean_squared_error(y_test, y_pred))\n",
    "print(\"R-Squared for Rocky Reach Dam:\", r2_score(y_test, y_pred))"
   ]
  },
  {
   "cell_type": "markdown",
   "id": "bd46a54a",
   "metadata": {},
   "source": [
    "### Model Evaluation"
   ]
  },
  {
   "cell_type": "code",
   "execution_count": 20,
   "id": "fcfe64d8",
   "metadata": {},
   "outputs": [
    {
     "name": "stdout",
     "output_type": "stream",
     "text": [
      "Mean Squared Error for Rocky Reach Dam: 0.0013033722877497417\n",
      "R-Squared for Rocky Reach Dam: 0.9970489592746804\n"
     ]
    }
   ],
   "source": [
    "X_eval_selector_corrected = selector.transform(X_eval)\n",
    "\n",
    "y_pred = model.predict(X_eval_selector_corrected)\n",
    "print(\"Mean Squared Error for Rocky Reach Dam:\", mean_squared_error(y_eval, y_pred))\n",
    "print(\"R-Squared for Rocky Reach Dam:\", r2_score(y_eval, y_pred))"
   ]
  },
  {
   "cell_type": "markdown",
   "id": "78e18b80",
   "metadata": {},
   "source": [
    "## 3. Wrapper Methods: Recursive Feature Elimination (RFE)"
   ]
  },
  {
   "cell_type": "markdown",
   "id": "dd1c1274",
   "metadata": {},
   "source": [
    "## Modeling"
   ]
  },
  {
   "cell_type": "code",
   "execution_count": 22,
   "id": "98961958",
   "metadata": {},
   "outputs": [
    {
     "name": "stdout",
     "output_type": "stream",
     "text": [
      "Selected features via RFE: Index(['Rocky_Reach_Headwater_Elevation_lag_1',\n",
      "       'Rocky_Reach_Headwater_Elevation_lag_2',\n",
      "       'Rocky_Reach_Total_Discharge_lag_2', 'Entiat_Flow_lag_15',\n",
      "       'Entiat_Flow_lag_16', 'Entiat_Flow_lag_17', 'Entiat_Flow_lag_18',\n",
      "       'Entiat_Flow_lag_19', 'Entiat_Flow_lag_20', 'Entiat_Flow_lag_21',\n",
      "       'Entiat_Flow_lag_23', 'Entiat_Flow_lag_24', 'Entiat_Flow_lag_26',\n",
      "       'Entiat_Flow_lag_28', 'Entiat_Flow_lag_30'],\n",
      "      dtype='object')\n"
     ]
    }
   ],
   "source": [
    "from sklearn.feature_selection import RFE\n",
    "from sklearn.linear_model import LinearRegression\n",
    "\n",
    "# Initialize the model you want to use\n",
    "model = LinearRegression()\n",
    "\n",
    "# Initialize RFE with the model and the number of features you want to select\n",
    "rfe = RFE(estimator=model, n_features_to_select=15)  # Adjust the number of features to select\n",
    "\n",
    "# Fit RFE\n",
    "rfe.fit(X, y)\n",
    "\n",
    "# Transform the data\n",
    "X_rfe = rfe.transform(X)\n",
    "\n",
    "# Getting the selected feature names\n",
    "selected_features_rfe = X.columns[rfe.get_support()]\n",
    "\n",
    "print(\"Selected features via RFE:\", selected_features_rfe)"
   ]
  },
  {
   "cell_type": "code",
   "execution_count": 23,
   "id": "7b2079ad",
   "metadata": {},
   "outputs": [
    {
     "name": "stdout",
     "output_type": "stream",
     "text": [
      "Mean Squared Error for Rocky Reach Dam: 0.0012028529977401435\n",
      "R-Squared for Rocky Reach Dam: 0.9969419121573567\n"
     ]
    }
   ],
   "source": [
    "# Splitting the data into train and test sets\n",
    "X_train, X_test, y_train, y_test = train_test_split(X_rfe, y, test_size=0.3, shuffle=False)\n",
    "\n",
    "# Model training with Linear Regression\n",
    "model = LinearRegression()\n",
    "model.fit(X_train, y_train)\n",
    "\n",
    "# Predictions and evaluation\n",
    "y_pred = model.predict(X_test)\n",
    "print(\"Mean Squared Error for Rocky Reach Dam:\", mean_squared_error(y_test, y_pred))\n",
    "print(\"R-Squared for Rocky Reach Dam:\", r2_score(y_test, y_pred))"
   ]
  },
  {
   "cell_type": "markdown",
   "id": "7953eed0",
   "metadata": {},
   "source": [
    "## Model Evaluation"
   ]
  },
  {
   "cell_type": "code",
   "execution_count": 24,
   "id": "5fbac819",
   "metadata": {},
   "outputs": [
    {
     "name": "stdout",
     "output_type": "stream",
     "text": [
      "Mean Squared Error for Rocky Reach Dam: 0.0013221480300501607\n",
      "R-Squared for Rocky Reach Dam: 0.9970064480285097\n"
     ]
    }
   ],
   "source": [
    "X_eval_rfe_corrected = rfe.transform(X_eval)\n",
    "\n",
    "y_pred = model.predict(X_eval_rfe_corrected)\n",
    "print(\"Mean Squared Error for Rocky Reach Dam:\", mean_squared_error(y_eval, y_pred))\n",
    "print(\"R-Squared for Rocky Reach Dam:\", r2_score(y_eval, y_pred))"
   ]
  },
  {
   "cell_type": "markdown",
   "id": "90b3f183",
   "metadata": {},
   "source": [
    "## 4. Embedded Methods: Lasso (L1 Regularization)"
   ]
  },
  {
   "cell_type": "markdown",
   "id": "1352da04",
   "metadata": {},
   "source": [
    "## Modeling"
   ]
  },
  {
   "cell_type": "code",
   "execution_count": 25,
   "id": "dd733433",
   "metadata": {},
   "outputs": [
    {
     "name": "stdout",
     "output_type": "stream",
     "text": [
      "Selected features via Lasso: Index(['Rocky_Reach_Headwater_Elevation_lag_1',\n",
      "       'Rocky_Reach_Total_Discharge_lag_1', 'Wells_Total_Discharge_lag_90',\n",
      "       'Wells_Total_Discharge_lag_91', 'Wells_Total_Discharge_lag_92',\n",
      "       'Wells_Total_Discharge_lag_93', 'Wells_Total_Discharge_lag_94',\n",
      "       'Wells_Total_Discharge_lag_95', 'Wells_Total_Discharge_lag_96',\n",
      "       'Wells_Total_Discharge_lag_97'],\n",
      "      dtype='object')\n"
     ]
    }
   ],
   "source": [
    "from sklearn.linear_model import LassoCV\n",
    "\n",
    "# LassoCV automatically selects the best regularization parameter via cross-validation\n",
    "lasso = LassoCV(cv=5, random_state=0, max_iter=10000)\n",
    "\n",
    "# Fit Lasso model\n",
    "lasso.fit(X, y)\n",
    "\n",
    "# Select features where the coefficient is non-zero\n",
    "selected_features_lasso = X.columns[(lasso.coef_ != 0)]\n",
    "\n",
    "print(\"Selected features via Lasso:\", selected_features_lasso)"
   ]
  },
  {
   "cell_type": "code",
   "execution_count": 26,
   "id": "28a34a32",
   "metadata": {},
   "outputs": [
    {
     "name": "stdout",
     "output_type": "stream",
     "text": [
      "Mean Squared Error for Rocky Reach Dam: 0.0012781725814497438\n",
      "R-Squared for Rocky Reach Dam: 0.9967504225042669\n"
     ]
    }
   ],
   "source": [
    "# Manual feature selection based on Lasso's non-zero coefficients\n",
    "X_lasso = X[selected_features_lasso]\n",
    "\n",
    "# Splitting the data into train and test sets\n",
    "X_train, X_test, y_train, y_test = train_test_split(X_lasso, y, test_size=0.3, shuffle=False)\n",
    "\n",
    "# Model training with Linear Regression\n",
    "model = LinearRegression()\n",
    "model.fit(X_train, y_train)\n",
    "\n",
    "# Predictions and evaluation\n",
    "y_pred = model.predict(X_test)\n",
    "print(\"Mean Squared Error for Rocky Reach Dam:\", mean_squared_error(y_test, y_pred))\n",
    "print(\"R-Squared for Rocky Reach Dam:\", r2_score(y_test, y_pred))"
   ]
  },
  {
   "cell_type": "markdown",
   "id": "9840513f",
   "metadata": {},
   "source": [
    "## Model Evaluation"
   ]
  },
  {
   "cell_type": "code",
   "execution_count": 27,
   "id": "7333a796",
   "metadata": {},
   "outputs": [
    {
     "name": "stdout",
     "output_type": "stream",
     "text": [
      "Mean Squared Error for Rocky Reach Dam: 0.0014168289209845544\n",
      "R-Squared for Rocky Reach Dam: 0.9967920755367181\n"
     ]
    }
   ],
   "source": [
    "X_eval_lasso_corrected = X_eval[selected_features_lasso]\n",
    "\n",
    "y_pred = model.predict(X_eval_lasso_corrected)\n",
    "print(\"Mean Squared Error for Rocky Reach Dam:\", mean_squared_error(y_eval, y_pred))\n",
    "print(\"R-Squared for Rocky Reach Dam:\", r2_score(y_eval, y_pred))"
   ]
  },
  {
   "cell_type": "markdown",
   "id": "20ae9348",
   "metadata": {},
   "source": [
    "## 5. Autoencoders"
   ]
  },
  {
   "cell_type": "code",
   "execution_count": 28,
   "id": "393faecb",
   "metadata": {},
   "outputs": [],
   "source": [
    "import numpy as np\n",
    "import pandas as pd\n",
    "from tensorflow import keras\n",
    "from tensorflow.keras import layers\n",
    "from sklearn.model_selection import train_test_split\n",
    "from sklearn.preprocessing import StandardScaler"
   ]
  },
  {
   "cell_type": "code",
   "execution_count": 29,
   "id": "2836c2f2",
   "metadata": {},
   "outputs": [],
   "source": [
    "# X is the features matrix\n",
    "scaler = StandardScaler()\n",
    "X_scaled = scaler.fit_transform(X)"
   ]
  },
  {
   "cell_type": "markdown",
   "id": "e7efe3d8",
   "metadata": {},
   "source": [
    "### Build the Autoencoder"
   ]
  },
  {
   "cell_type": "code",
   "execution_count": 33,
   "id": "45bda975",
   "metadata": {},
   "outputs": [],
   "source": [
    "input_dim = X_scaled.shape[1]  # Number of features\n",
    "encoding_dim = 32  # Set the size of the encoded representations\n",
    "\n",
    "# This is the input layer\n",
    "input_layer = keras.Input(shape=(input_dim,))\n",
    "\n",
    "# \"encoded\" is the encoded representation of the input\n",
    "encoded = layers.Dense(encoding_dim, activation='relu')(input_layer)\n",
    "\n",
    "# \"decoded\" is the lossy reconstruction of the input\n",
    "decoded = layers.Dense(input_dim, activation='sigmoid')(encoded)\n",
    "\n",
    "# This model maps an input to its reconstruction\n",
    "autoencoder = keras.Model(input_layer, decoded)\n",
    "\n",
    "# This model maps an input to its encoded representation\n",
    "encoder = keras.Model(input_layer, encoded)"
   ]
  },
  {
   "cell_type": "markdown",
   "id": "6d683d3d",
   "metadata": {},
   "source": [
    "### Compile and Train the Encoder"
   ]
  },
  {
   "cell_type": "code",
   "execution_count": 38,
   "id": "cd41f208",
   "metadata": {},
   "outputs": [
    {
     "name": "stdout",
     "output_type": "stream",
     "text": [
      "Epoch 1/50\n",
      "6573/6573 [==============================] - 3s 464us/step - loss: 1.9996 - val_loss: 2.0014\n",
      "Epoch 2/50\n",
      "6573/6573 [==============================] - 3s 442us/step - loss: 1.9996 - val_loss: 2.0014\n",
      "Epoch 3/50\n",
      "6573/6573 [==============================] - 3s 444us/step - loss: 1.9996 - val_loss: 2.0014\n",
      "Epoch 4/50\n",
      "6573/6573 [==============================] - 3s 445us/step - loss: 1.9996 - val_loss: 2.0014\n",
      "Epoch 5/50\n",
      "6573/6573 [==============================] - 3s 455us/step - loss: 1.9996 - val_loss: 2.0014\n",
      "Epoch 6/50\n",
      "6573/6573 [==============================] - 3s 458us/step - loss: 1.9996 - val_loss: 2.0014\n",
      "Epoch 7/50\n",
      "6573/6573 [==============================] - 3s 459us/step - loss: 1.9996 - val_loss: 2.0014\n",
      "Epoch 8/50\n",
      "6573/6573 [==============================] - 3s 459us/step - loss: 1.9996 - val_loss: 2.0014\n",
      "Epoch 9/50\n",
      "6573/6573 [==============================] - 3s 460us/step - loss: 1.9996 - val_loss: 2.0014\n",
      "Epoch 10/50\n",
      "6573/6573 [==============================] - 3s 458us/step - loss: 1.9996 - val_loss: 2.0014\n",
      "Epoch 11/50\n",
      "6573/6573 [==============================] - 3s 460us/step - loss: 1.9996 - val_loss: 2.0014\n",
      "Epoch 12/50\n",
      "6573/6573 [==============================] - 3s 464us/step - loss: 1.9996 - val_loss: 2.0014\n",
      "Epoch 13/50\n",
      "6573/6573 [==============================] - 3s 466us/step - loss: 1.9996 - val_loss: 2.0014\n",
      "Epoch 14/50\n",
      "6573/6573 [==============================] - 3s 459us/step - loss: 1.9996 - val_loss: 2.0014\n",
      "Epoch 15/50\n",
      "6573/6573 [==============================] - 3s 461us/step - loss: 1.9996 - val_loss: 2.0014\n",
      "Epoch 16/50\n",
      "6573/6573 [==============================] - 3s 459us/step - loss: 1.9996 - val_loss: 2.0014\n",
      "Epoch 17/50\n",
      "6573/6573 [==============================] - 3s 464us/step - loss: 1.9996 - val_loss: 2.0014\n",
      "Epoch 18/50\n",
      "6573/6573 [==============================] - 3s 456us/step - loss: 1.9996 - val_loss: 2.0014\n",
      "Epoch 19/50\n",
      "6573/6573 [==============================] - 3s 457us/step - loss: 1.9996 - val_loss: 2.0014\n",
      "Epoch 20/50\n",
      "6573/6573 [==============================] - 3s 461us/step - loss: 1.9996 - val_loss: 2.0014\n",
      "Epoch 21/50\n",
      "6573/6573 [==============================] - 3s 458us/step - loss: 1.9996 - val_loss: 2.0014\n",
      "Epoch 22/50\n",
      "6573/6573 [==============================] - 3s 460us/step - loss: 1.9996 - val_loss: 2.0014\n",
      "Epoch 23/50\n",
      "6573/6573 [==============================] - 3s 461us/step - loss: 1.9996 - val_loss: 2.0014\n",
      "Epoch 24/50\n",
      "6573/6573 [==============================] - 3s 458us/step - loss: 1.9996 - val_loss: 2.0014\n",
      "Epoch 25/50\n",
      "6573/6573 [==============================] - 3s 458us/step - loss: 1.9996 - val_loss: 2.0014\n",
      "Epoch 26/50\n",
      "6573/6573 [==============================] - 3s 445us/step - loss: 1.9996 - val_loss: 2.0014\n",
      "Epoch 27/50\n",
      "6573/6573 [==============================] - 3s 445us/step - loss: 1.9996 - val_loss: 2.0014\n",
      "Epoch 28/50\n",
      "6573/6573 [==============================] - 3s 447us/step - loss: 1.9996 - val_loss: 2.0014\n",
      "Epoch 29/50\n",
      "6573/6573 [==============================] - 3s 445us/step - loss: 1.9996 - val_loss: 2.0014\n",
      "Epoch 30/50\n",
      "6573/6573 [==============================] - 3s 447us/step - loss: 1.9996 - val_loss: 2.0014\n",
      "Epoch 31/50\n",
      "6573/6573 [==============================] - 3s 445us/step - loss: 1.9996 - val_loss: 2.0014\n",
      "Epoch 32/50\n",
      "6573/6573 [==============================] - 3s 457us/step - loss: 1.9996 - val_loss: 2.0014\n",
      "Epoch 33/50\n",
      "6573/6573 [==============================] - 3s 446us/step - loss: 1.9996 - val_loss: 2.0014\n",
      "Epoch 34/50\n",
      "6573/6573 [==============================] - 3s 459us/step - loss: 1.9996 - val_loss: 2.0014\n",
      "Epoch 35/50\n",
      "6573/6573 [==============================] - 3s 458us/step - loss: 1.9996 - val_loss: 2.0014\n",
      "Epoch 36/50\n",
      "6573/6573 [==============================] - 3s 460us/step - loss: 1.9996 - val_loss: 2.0014\n",
      "Epoch 37/50\n",
      "6573/6573 [==============================] - 3s 456us/step - loss: 1.9996 - val_loss: 2.0014\n",
      "Epoch 38/50\n",
      "6573/6573 [==============================] - 3s 457us/step - loss: 1.9996 - val_loss: 2.0014\n",
      "Epoch 39/50\n",
      "6573/6573 [==============================] - 3s 460us/step - loss: 1.9996 - val_loss: 2.0014\n",
      "Epoch 40/50\n",
      "6573/6573 [==============================] - 3s 457us/step - loss: 1.9996 - val_loss: 2.0014\n",
      "Epoch 41/50\n",
      "6573/6573 [==============================] - 3s 462us/step - loss: 1.9996 - val_loss: 2.0014\n",
      "Epoch 42/50\n",
      "6573/6573 [==============================] - 3s 456us/step - loss: 1.9996 - val_loss: 2.0014\n",
      "Epoch 43/50\n",
      "6573/6573 [==============================] - 3s 457us/step - loss: 1.9996 - val_loss: 2.0014\n",
      "Epoch 44/50\n",
      "6573/6573 [==============================] - 3s 459us/step - loss: 1.9996 - val_loss: 2.0014\n",
      "Epoch 45/50\n",
      "6573/6573 [==============================] - 3s 459us/step - loss: 1.9996 - val_loss: 2.0014\n",
      "Epoch 46/50\n",
      "6573/6573 [==============================] - 3s 460us/step - loss: 1.9996 - val_loss: 2.0014\n",
      "Epoch 47/50\n",
      "6573/6573 [==============================] - 3s 459us/step - loss: 1.9996 - val_loss: 2.0014\n",
      "Epoch 48/50\n",
      "6573/6573 [==============================] - 3s 458us/step - loss: 1.9996 - val_loss: 2.0014\n",
      "Epoch 49/50\n",
      "6573/6573 [==============================] - 3s 459us/step - loss: 1.9996 - val_loss: 2.0014\n",
      "Epoch 50/50\n",
      "6573/6573 [==============================] - 3s 458us/step - loss: 1.9996 - val_loss: 2.0014\n"
     ]
    },
    {
     "data": {
      "text/plain": [
       "<keras.src.callbacks.History at 0x4569c1650>"
      ]
     },
     "execution_count": 38,
     "metadata": {},
     "output_type": "execute_result"
    }
   ],
   "source": [
    "autoencoder.compile(optimizer='adam', loss='mean_squared_error')\n",
    "\n",
    "# Split your data into training and testing sets\n",
    "X_train, X_test = train_test_split(X_scaled, test_size=0.2, random_state=42)\n",
    "\n",
    "autoencoder.fit(X_train, X_train,\n",
    "                epochs=50,\n",
    "                batch_size=256,\n",
    "                shuffle=True,\n",
    "                validation_data=(X_test, X_test))"
   ]
  },
  {
   "cell_type": "code",
   "execution_count": 39,
   "id": "6b523e4b",
   "metadata": {},
   "outputs": [
    {
     "name": "stdout",
     "output_type": "stream",
     "text": [
      "65727/65727 [==============================] - 12s 186us/step\n",
      "Mean Squared Error for Rocky Reach Dam: 0.008261297834840151\n",
      "R-Squared for Rocky Reach Dam: 0.9789967896986218\n"
     ]
    }
   ],
   "source": [
    "# Use encoder to transform the data\n",
    "X_encoded = encoder.predict(X_scaled)\n",
    "\n",
    "# Splitting the data into train and test sets\n",
    "X_train, X_test, y_train, y_test = train_test_split(X_encoded, y, test_size=0.3, shuffle=False)\n",
    "\n",
    "# Model training with Linear Regression\n",
    "model = LinearRegression()\n",
    "model.fit(X_train, y_train)\n",
    "\n",
    "# Predictions and evaluation\n",
    "y_pred = model.predict(X_test)\n",
    "print(\"Mean Squared Error for Rocky Reach Dam:\", mean_squared_error(y_test, y_pred))\n",
    "print(\"R-Squared for Rocky Reach Dam:\", r2_score(y_test, y_pred))"
   ]
  },
  {
   "cell_type": "markdown",
   "id": "fabbdd8d",
   "metadata": {},
   "source": [
    "### Model Evaluation"
   ]
  },
  {
   "cell_type": "code",
   "execution_count": 40,
   "id": "54c21fa9",
   "metadata": {},
   "outputs": [
    {
     "name": "stdout",
     "output_type": "stream",
     "text": [
      "16425/16425 [==============================] - 3s 179us/step\n",
      "Mean Squared Error for Rocky Reach Dam: 0.0767339313613493\n",
      "R-Squared for Rocky Reach Dam: 0.8262622593793392\n"
     ]
    }
   ],
   "source": [
    "scaler = StandardScaler()\n",
    "X_eval_scaled = scaler.fit_transform(X_eval)\n",
    "\n",
    "X_eval_encoder_corrected = encoder.predict(X_eval_scaled)\n",
    "\n",
    "y_pred = model.predict(X_eval_encoder_corrected)\n",
    "print(\"Mean Squared Error for Rocky Reach Dam:\", mean_squared_error(y_eval, y_pred))\n",
    "print(\"R-Squared for Rocky Reach Dam:\", r2_score(y_eval, y_pred))"
   ]
  },
  {
   "cell_type": "markdown",
   "id": "3c58ec4b",
   "metadata": {},
   "source": [
    "# Using LSTM instead of Feature Engineering and Feature Selection"
   ]
  },
  {
   "cell_type": "code",
   "execution_count": 43,
   "id": "00d4b5f4",
   "metadata": {},
   "outputs": [],
   "source": [
    "from tensorflow.keras.preprocessing.sequence import TimeseriesGenerator\n",
    "from sklearn.preprocessing import MinMaxScaler\n",
    "\n",
    "from tensorflow.keras.models import Sequential\n",
    "from tensorflow.keras.layers import LSTM, Dense, Dropout"
   ]
  },
  {
   "cell_type": "markdown",
   "id": "e5920496",
   "metadata": {},
   "source": [
    "## 1. Data Preparation"
   ]
  },
  {
   "cell_type": "code",
   "execution_count": 44,
   "id": "c298df7b",
   "metadata": {},
   "outputs": [
    {
     "data": {
      "text/plain": [
       "Index(['datetime_utc', 'datetime_stamp', 'Wells_Total_Discharge',\n",
       "       'Chelan_Flow', 'Entiat_Flow', 'Rocky_Reach_Total_Discharge',\n",
       "       'Wenatchee_Flow', 'Rock_Island_Total_Discharge',\n",
       "       'Rock_Island_Headwater_Elevation', 'Rocky_Reach_Headwater_Elevation'],\n",
       "      dtype='object')"
      ]
     },
     "execution_count": 44,
     "metadata": {},
     "output_type": "execute_result"
    }
   ],
   "source": [
    "df.columns"
   ]
  },
  {
   "cell_type": "code",
   "execution_count": 46,
   "id": "5dfd292e",
   "metadata": {},
   "outputs": [
    {
     "data": {
      "text/plain": [
       "(2629440, 10)"
      ]
     },
     "execution_count": 46,
     "metadata": {},
     "output_type": "execute_result"
    }
   ],
   "source": [
    "df.shape"
   ]
  },
  {
   "cell_type": "code",
   "execution_count": 45,
   "id": "8a13127d",
   "metadata": {},
   "outputs": [
    {
     "data": {
      "text/plain": [
       "(2103360, 10)"
      ]
     },
     "execution_count": 45,
     "metadata": {},
     "output_type": "execute_result"
    }
   ],
   "source": [
    "# Filter the data from 2022 to 2023, excluding 2023 for now\n",
    "df_filtered = df[df['datetime_utc'].dt.year < 2023]\n",
    "df_filtered.shape"
   ]
  },
  {
   "cell_type": "code",
   "execution_count": 51,
   "id": "462e34cd",
   "metadata": {},
   "outputs": [],
   "source": [
    "target = 'Rocky_Reach_Headwater_Elevation'\n",
    "X = df_filtered.drop(['datetime_utc','datetime_stamp', target], axis=1)\n",
    "y = df_filtered[target]\n",
    "\n",
    "# Normalize the features\n",
    "scaler_x = MinMaxScaler()\n",
    "scaler_y = MinMaxScaler()\n",
    "\n",
    "X_scaled = scaler_x.fit_transform(X)\n",
    "y_scaled = scaler_y.fit_transform(y.values.reshape(-1, 1))\n",
    "\n",
    "# Define the sequence length\n",
    "sequence_length = 100  # For example, 100 minutes of data to predict the next minute\n",
    "\n",
    "# Define batch size\n",
    "batch_size = 64\n",
    "\n",
    "# Splitting data into training and testing sets\n",
    "X_train, X_test, y_train, y_test = train_test_split(X_scaled, y_scaled, test_size=0.3, shuffle=False)\n",
    "\n",
    "# Create TimeseriesGenerator for training and testing\n",
    "train_generator = TimeseriesGenerator(X_train, y_train,\n",
    "                                      length=sequence_length,\n",
    "                                      batch_size=batch_size)\n",
    "\n",
    "test_generator = TimeseriesGenerator(X_test, y_test,\n",
    "                                     length=sequence_length,\n",
    "                                     batch_size=batch_size)"
   ]
  },
  {
   "cell_type": "markdown",
   "id": "caf17f0c",
   "metadata": {},
   "source": [
    "## 2. Building and training the LSTM Model"
   ]
  },
  {
   "cell_type": "code",
   "execution_count": 52,
   "id": "e143db03",
   "metadata": {},
   "outputs": [
    {
     "name": "stdout",
     "output_type": "stream",
     "text": [
      "Epoch 1/10\n",
      "23004/23004 [==============================] - 865s 38ms/step - loss: 0.0189 - val_loss: 0.0167\n",
      "Epoch 2/10\n",
      "23004/23004 [==============================] - 821s 36ms/step - loss: 0.0172 - val_loss: 0.0144\n",
      "Epoch 3/10\n",
      "23004/23004 [==============================] - 814s 35ms/step - loss: 0.0169 - val_loss: 0.0156\n",
      "Epoch 4/10\n",
      "23004/23004 [==============================] - 837s 36ms/step - loss: 0.0168 - val_loss: 0.0150\n",
      "Epoch 5/10\n",
      "23004/23004 [==============================] - 854s 37ms/step - loss: 0.0167 - val_loss: 0.0151\n",
      "Epoch 6/10\n",
      "23004/23004 [==============================] - 841s 37ms/step - loss: nan - val_loss: nan\n",
      "Epoch 7/10\n",
      "23004/23004 [==============================] - 841s 37ms/step - loss: nan - val_loss: nan\n",
      "Epoch 8/10\n",
      " 1221/23004 [>.............................] - ETA: 11:33 - loss: nan"
     ]
    },
    {
     "ename": "KeyboardInterrupt",
     "evalue": "",
     "output_type": "error",
     "traceback": [
      "\u001b[0;31m---------------------------------------------------------------------------\u001b[0m",
      "\u001b[0;31mKeyboardInterrupt\u001b[0m                         Traceback (most recent call last)",
      "Cell \u001b[0;32mIn[52], line 10\u001b[0m\n\u001b[1;32m      7\u001b[0m model\u001b[38;5;241m.\u001b[39mcompile(optimizer\u001b[38;5;241m=\u001b[39m\u001b[38;5;124m'\u001b[39m\u001b[38;5;124madam\u001b[39m\u001b[38;5;124m'\u001b[39m, loss\u001b[38;5;241m=\u001b[39m\u001b[38;5;124m'\u001b[39m\u001b[38;5;124mmean_squared_error\u001b[39m\u001b[38;5;124m'\u001b[39m)\n\u001b[1;32m      9\u001b[0m \u001b[38;5;66;03m# Training the model with validation data\u001b[39;00m\n\u001b[0;32m---> 10\u001b[0m model\u001b[38;5;241m.\u001b[39mfit(train_generator, epochs\u001b[38;5;241m=\u001b[39m\u001b[38;5;241m10\u001b[39m, validation_data\u001b[38;5;241m=\u001b[39mtest_generator)\n",
      "File \u001b[0;32m~/anaconda3/lib/python3.11/site-packages/keras/src/utils/traceback_utils.py:65\u001b[0m, in \u001b[0;36mfilter_traceback.<locals>.error_handler\u001b[0;34m(*args, **kwargs)\u001b[0m\n\u001b[1;32m     63\u001b[0m filtered_tb \u001b[38;5;241m=\u001b[39m \u001b[38;5;28;01mNone\u001b[39;00m\n\u001b[1;32m     64\u001b[0m \u001b[38;5;28;01mtry\u001b[39;00m:\n\u001b[0;32m---> 65\u001b[0m     \u001b[38;5;28;01mreturn\u001b[39;00m fn(\u001b[38;5;241m*\u001b[39margs, \u001b[38;5;241m*\u001b[39m\u001b[38;5;241m*\u001b[39mkwargs)\n\u001b[1;32m     66\u001b[0m \u001b[38;5;28;01mexcept\u001b[39;00m \u001b[38;5;167;01mException\u001b[39;00m \u001b[38;5;28;01mas\u001b[39;00m e:\n\u001b[1;32m     67\u001b[0m     filtered_tb \u001b[38;5;241m=\u001b[39m _process_traceback_frames(e\u001b[38;5;241m.\u001b[39m__traceback__)\n",
      "File \u001b[0;32m~/anaconda3/lib/python3.11/site-packages/keras/src/engine/training.py:1807\u001b[0m, in \u001b[0;36mModel.fit\u001b[0;34m(self, x, y, batch_size, epochs, verbose, callbacks, validation_split, validation_data, shuffle, class_weight, sample_weight, initial_epoch, steps_per_epoch, validation_steps, validation_batch_size, validation_freq, max_queue_size, workers, use_multiprocessing)\u001b[0m\n\u001b[1;32m   1799\u001b[0m \u001b[38;5;28;01mwith\u001b[39;00m tf\u001b[38;5;241m.\u001b[39mprofiler\u001b[38;5;241m.\u001b[39mexperimental\u001b[38;5;241m.\u001b[39mTrace(\n\u001b[1;32m   1800\u001b[0m     \u001b[38;5;124m\"\u001b[39m\u001b[38;5;124mtrain\u001b[39m\u001b[38;5;124m\"\u001b[39m,\n\u001b[1;32m   1801\u001b[0m     epoch_num\u001b[38;5;241m=\u001b[39mepoch,\n\u001b[0;32m   (...)\u001b[0m\n\u001b[1;32m   1804\u001b[0m     _r\u001b[38;5;241m=\u001b[39m\u001b[38;5;241m1\u001b[39m,\n\u001b[1;32m   1805\u001b[0m ):\n\u001b[1;32m   1806\u001b[0m     callbacks\u001b[38;5;241m.\u001b[39mon_train_batch_begin(step)\n\u001b[0;32m-> 1807\u001b[0m     tmp_logs \u001b[38;5;241m=\u001b[39m \u001b[38;5;28mself\u001b[39m\u001b[38;5;241m.\u001b[39mtrain_function(iterator)\n\u001b[1;32m   1808\u001b[0m     \u001b[38;5;28;01mif\u001b[39;00m data_handler\u001b[38;5;241m.\u001b[39mshould_sync:\n\u001b[1;32m   1809\u001b[0m         context\u001b[38;5;241m.\u001b[39masync_wait()\n",
      "File \u001b[0;32m~/anaconda3/lib/python3.11/site-packages/tensorflow/python/util/traceback_utils.py:150\u001b[0m, in \u001b[0;36mfilter_traceback.<locals>.error_handler\u001b[0;34m(*args, **kwargs)\u001b[0m\n\u001b[1;32m    148\u001b[0m filtered_tb \u001b[38;5;241m=\u001b[39m \u001b[38;5;28;01mNone\u001b[39;00m\n\u001b[1;32m    149\u001b[0m \u001b[38;5;28;01mtry\u001b[39;00m:\n\u001b[0;32m--> 150\u001b[0m   \u001b[38;5;28;01mreturn\u001b[39;00m fn(\u001b[38;5;241m*\u001b[39margs, \u001b[38;5;241m*\u001b[39m\u001b[38;5;241m*\u001b[39mkwargs)\n\u001b[1;32m    151\u001b[0m \u001b[38;5;28;01mexcept\u001b[39;00m \u001b[38;5;167;01mException\u001b[39;00m \u001b[38;5;28;01mas\u001b[39;00m e:\n\u001b[1;32m    152\u001b[0m   filtered_tb \u001b[38;5;241m=\u001b[39m _process_traceback_frames(e\u001b[38;5;241m.\u001b[39m__traceback__)\n",
      "File \u001b[0;32m~/anaconda3/lib/python3.11/site-packages/tensorflow/python/eager/polymorphic_function/polymorphic_function.py:832\u001b[0m, in \u001b[0;36mFunction.__call__\u001b[0;34m(self, *args, **kwds)\u001b[0m\n\u001b[1;32m    829\u001b[0m compiler \u001b[38;5;241m=\u001b[39m \u001b[38;5;124m\"\u001b[39m\u001b[38;5;124mxla\u001b[39m\u001b[38;5;124m\"\u001b[39m \u001b[38;5;28;01mif\u001b[39;00m \u001b[38;5;28mself\u001b[39m\u001b[38;5;241m.\u001b[39m_jit_compile \u001b[38;5;28;01melse\u001b[39;00m \u001b[38;5;124m\"\u001b[39m\u001b[38;5;124mnonXla\u001b[39m\u001b[38;5;124m\"\u001b[39m\n\u001b[1;32m    831\u001b[0m \u001b[38;5;28;01mwith\u001b[39;00m OptionalXlaContext(\u001b[38;5;28mself\u001b[39m\u001b[38;5;241m.\u001b[39m_jit_compile):\n\u001b[0;32m--> 832\u001b[0m   result \u001b[38;5;241m=\u001b[39m \u001b[38;5;28mself\u001b[39m\u001b[38;5;241m.\u001b[39m_call(\u001b[38;5;241m*\u001b[39margs, \u001b[38;5;241m*\u001b[39m\u001b[38;5;241m*\u001b[39mkwds)\n\u001b[1;32m    834\u001b[0m new_tracing_count \u001b[38;5;241m=\u001b[39m \u001b[38;5;28mself\u001b[39m\u001b[38;5;241m.\u001b[39mexperimental_get_tracing_count()\n\u001b[1;32m    835\u001b[0m without_tracing \u001b[38;5;241m=\u001b[39m (tracing_count \u001b[38;5;241m==\u001b[39m new_tracing_count)\n",
      "File \u001b[0;32m~/anaconda3/lib/python3.11/site-packages/tensorflow/python/eager/polymorphic_function/polymorphic_function.py:868\u001b[0m, in \u001b[0;36mFunction._call\u001b[0;34m(self, *args, **kwds)\u001b[0m\n\u001b[1;32m    865\u001b[0m   \u001b[38;5;28mself\u001b[39m\u001b[38;5;241m.\u001b[39m_lock\u001b[38;5;241m.\u001b[39mrelease()\n\u001b[1;32m    866\u001b[0m   \u001b[38;5;66;03m# In this case we have created variables on the first call, so we run the\u001b[39;00m\n\u001b[1;32m    867\u001b[0m   \u001b[38;5;66;03m# defunned version which is guaranteed to never create variables.\u001b[39;00m\n\u001b[0;32m--> 868\u001b[0m   \u001b[38;5;28;01mreturn\u001b[39;00m tracing_compilation\u001b[38;5;241m.\u001b[39mcall_function(\n\u001b[1;32m    869\u001b[0m       args, kwds, \u001b[38;5;28mself\u001b[39m\u001b[38;5;241m.\u001b[39m_no_variable_creation_config\n\u001b[1;32m    870\u001b[0m   )\n\u001b[1;32m    871\u001b[0m \u001b[38;5;28;01melif\u001b[39;00m \u001b[38;5;28mself\u001b[39m\u001b[38;5;241m.\u001b[39m_variable_creation_config \u001b[38;5;129;01mis\u001b[39;00m \u001b[38;5;129;01mnot\u001b[39;00m \u001b[38;5;28;01mNone\u001b[39;00m:\n\u001b[1;32m    872\u001b[0m   \u001b[38;5;66;03m# Release the lock early so that multiple threads can perform the call\u001b[39;00m\n\u001b[1;32m    873\u001b[0m   \u001b[38;5;66;03m# in parallel.\u001b[39;00m\n\u001b[1;32m    874\u001b[0m   \u001b[38;5;28mself\u001b[39m\u001b[38;5;241m.\u001b[39m_lock\u001b[38;5;241m.\u001b[39mrelease()\n",
      "File \u001b[0;32m~/anaconda3/lib/python3.11/site-packages/tensorflow/python/eager/polymorphic_function/tracing_compilation.py:139\u001b[0m, in \u001b[0;36mcall_function\u001b[0;34m(args, kwargs, tracing_options)\u001b[0m\n\u001b[1;32m    137\u001b[0m bound_args \u001b[38;5;241m=\u001b[39m function\u001b[38;5;241m.\u001b[39mfunction_type\u001b[38;5;241m.\u001b[39mbind(\u001b[38;5;241m*\u001b[39margs, \u001b[38;5;241m*\u001b[39m\u001b[38;5;241m*\u001b[39mkwargs)\n\u001b[1;32m    138\u001b[0m flat_inputs \u001b[38;5;241m=\u001b[39m function\u001b[38;5;241m.\u001b[39mfunction_type\u001b[38;5;241m.\u001b[39munpack_inputs(bound_args)\n\u001b[0;32m--> 139\u001b[0m \u001b[38;5;28;01mreturn\u001b[39;00m function\u001b[38;5;241m.\u001b[39m_call_flat(  \u001b[38;5;66;03m# pylint: disable=protected-access\u001b[39;00m\n\u001b[1;32m    140\u001b[0m     flat_inputs, captured_inputs\u001b[38;5;241m=\u001b[39mfunction\u001b[38;5;241m.\u001b[39mcaptured_inputs\n\u001b[1;32m    141\u001b[0m )\n",
      "File \u001b[0;32m~/anaconda3/lib/python3.11/site-packages/tensorflow/python/eager/polymorphic_function/concrete_function.py:1323\u001b[0m, in \u001b[0;36mConcreteFunction._call_flat\u001b[0;34m(self, tensor_inputs, captured_inputs)\u001b[0m\n\u001b[1;32m   1319\u001b[0m possible_gradient_type \u001b[38;5;241m=\u001b[39m gradients_util\u001b[38;5;241m.\u001b[39mPossibleTapeGradientTypes(args)\n\u001b[1;32m   1320\u001b[0m \u001b[38;5;28;01mif\u001b[39;00m (possible_gradient_type \u001b[38;5;241m==\u001b[39m gradients_util\u001b[38;5;241m.\u001b[39mPOSSIBLE_GRADIENT_TYPES_NONE\n\u001b[1;32m   1321\u001b[0m     \u001b[38;5;129;01mand\u001b[39;00m executing_eagerly):\n\u001b[1;32m   1322\u001b[0m   \u001b[38;5;66;03m# No tape is watching; skip to running the function.\u001b[39;00m\n\u001b[0;32m-> 1323\u001b[0m   \u001b[38;5;28;01mreturn\u001b[39;00m \u001b[38;5;28mself\u001b[39m\u001b[38;5;241m.\u001b[39m_inference_function\u001b[38;5;241m.\u001b[39mcall_preflattened(args)\n\u001b[1;32m   1324\u001b[0m forward_backward \u001b[38;5;241m=\u001b[39m \u001b[38;5;28mself\u001b[39m\u001b[38;5;241m.\u001b[39m_select_forward_and_backward_functions(\n\u001b[1;32m   1325\u001b[0m     args,\n\u001b[1;32m   1326\u001b[0m     possible_gradient_type,\n\u001b[1;32m   1327\u001b[0m     executing_eagerly)\n\u001b[1;32m   1328\u001b[0m forward_function, args_with_tangents \u001b[38;5;241m=\u001b[39m forward_backward\u001b[38;5;241m.\u001b[39mforward()\n",
      "File \u001b[0;32m~/anaconda3/lib/python3.11/site-packages/tensorflow/python/eager/polymorphic_function/atomic_function.py:216\u001b[0m, in \u001b[0;36mAtomicFunction.call_preflattened\u001b[0;34m(self, args)\u001b[0m\n\u001b[1;32m    214\u001b[0m \u001b[38;5;28;01mdef\u001b[39;00m \u001b[38;5;21mcall_preflattened\u001b[39m(\u001b[38;5;28mself\u001b[39m, args: Sequence[core\u001b[38;5;241m.\u001b[39mTensor]) \u001b[38;5;241m-\u001b[39m\u001b[38;5;241m>\u001b[39m Any:\n\u001b[1;32m    215\u001b[0m \u001b[38;5;250m  \u001b[39m\u001b[38;5;124;03m\"\"\"Calls with flattened tensor inputs and returns the structured output.\"\"\"\u001b[39;00m\n\u001b[0;32m--> 216\u001b[0m   flat_outputs \u001b[38;5;241m=\u001b[39m \u001b[38;5;28mself\u001b[39m\u001b[38;5;241m.\u001b[39mcall_flat(\u001b[38;5;241m*\u001b[39margs)\n\u001b[1;32m    217\u001b[0m   \u001b[38;5;28;01mreturn\u001b[39;00m \u001b[38;5;28mself\u001b[39m\u001b[38;5;241m.\u001b[39mfunction_type\u001b[38;5;241m.\u001b[39mpack_output(flat_outputs)\n",
      "File \u001b[0;32m~/anaconda3/lib/python3.11/site-packages/tensorflow/python/eager/polymorphic_function/atomic_function.py:251\u001b[0m, in \u001b[0;36mAtomicFunction.call_flat\u001b[0;34m(self, *args)\u001b[0m\n\u001b[1;32m    249\u001b[0m \u001b[38;5;28;01mwith\u001b[39;00m record\u001b[38;5;241m.\u001b[39mstop_recording():\n\u001b[1;32m    250\u001b[0m   \u001b[38;5;28;01mif\u001b[39;00m \u001b[38;5;28mself\u001b[39m\u001b[38;5;241m.\u001b[39m_bound_context\u001b[38;5;241m.\u001b[39mexecuting_eagerly():\n\u001b[0;32m--> 251\u001b[0m     outputs \u001b[38;5;241m=\u001b[39m \u001b[38;5;28mself\u001b[39m\u001b[38;5;241m.\u001b[39m_bound_context\u001b[38;5;241m.\u001b[39mcall_function(\n\u001b[1;32m    252\u001b[0m         \u001b[38;5;28mself\u001b[39m\u001b[38;5;241m.\u001b[39mname,\n\u001b[1;32m    253\u001b[0m         \u001b[38;5;28mlist\u001b[39m(args),\n\u001b[1;32m    254\u001b[0m         \u001b[38;5;28mlen\u001b[39m(\u001b[38;5;28mself\u001b[39m\u001b[38;5;241m.\u001b[39mfunction_type\u001b[38;5;241m.\u001b[39mflat_outputs),\n\u001b[1;32m    255\u001b[0m     )\n\u001b[1;32m    256\u001b[0m   \u001b[38;5;28;01melse\u001b[39;00m:\n\u001b[1;32m    257\u001b[0m     outputs \u001b[38;5;241m=\u001b[39m make_call_op_in_graph(\n\u001b[1;32m    258\u001b[0m         \u001b[38;5;28mself\u001b[39m,\n\u001b[1;32m    259\u001b[0m         \u001b[38;5;28mlist\u001b[39m(args),\n\u001b[1;32m    260\u001b[0m         \u001b[38;5;28mself\u001b[39m\u001b[38;5;241m.\u001b[39m_bound_context\u001b[38;5;241m.\u001b[39mfunction_call_options\u001b[38;5;241m.\u001b[39mas_attrs(),\n\u001b[1;32m    261\u001b[0m     )\n",
      "File \u001b[0;32m~/anaconda3/lib/python3.11/site-packages/tensorflow/python/eager/context.py:1486\u001b[0m, in \u001b[0;36mContext.call_function\u001b[0;34m(self, name, tensor_inputs, num_outputs)\u001b[0m\n\u001b[1;32m   1484\u001b[0m cancellation_context \u001b[38;5;241m=\u001b[39m cancellation\u001b[38;5;241m.\u001b[39mcontext()\n\u001b[1;32m   1485\u001b[0m \u001b[38;5;28;01mif\u001b[39;00m cancellation_context \u001b[38;5;129;01mis\u001b[39;00m \u001b[38;5;28;01mNone\u001b[39;00m:\n\u001b[0;32m-> 1486\u001b[0m   outputs \u001b[38;5;241m=\u001b[39m execute\u001b[38;5;241m.\u001b[39mexecute(\n\u001b[1;32m   1487\u001b[0m       name\u001b[38;5;241m.\u001b[39mdecode(\u001b[38;5;124m\"\u001b[39m\u001b[38;5;124mutf-8\u001b[39m\u001b[38;5;124m\"\u001b[39m),\n\u001b[1;32m   1488\u001b[0m       num_outputs\u001b[38;5;241m=\u001b[39mnum_outputs,\n\u001b[1;32m   1489\u001b[0m       inputs\u001b[38;5;241m=\u001b[39mtensor_inputs,\n\u001b[1;32m   1490\u001b[0m       attrs\u001b[38;5;241m=\u001b[39mattrs,\n\u001b[1;32m   1491\u001b[0m       ctx\u001b[38;5;241m=\u001b[39m\u001b[38;5;28mself\u001b[39m,\n\u001b[1;32m   1492\u001b[0m   )\n\u001b[1;32m   1493\u001b[0m \u001b[38;5;28;01melse\u001b[39;00m:\n\u001b[1;32m   1494\u001b[0m   outputs \u001b[38;5;241m=\u001b[39m execute\u001b[38;5;241m.\u001b[39mexecute_with_cancellation(\n\u001b[1;32m   1495\u001b[0m       name\u001b[38;5;241m.\u001b[39mdecode(\u001b[38;5;124m\"\u001b[39m\u001b[38;5;124mutf-8\u001b[39m\u001b[38;5;124m\"\u001b[39m),\n\u001b[1;32m   1496\u001b[0m       num_outputs\u001b[38;5;241m=\u001b[39mnum_outputs,\n\u001b[0;32m   (...)\u001b[0m\n\u001b[1;32m   1500\u001b[0m       cancellation_manager\u001b[38;5;241m=\u001b[39mcancellation_context,\n\u001b[1;32m   1501\u001b[0m   )\n",
      "File \u001b[0;32m~/anaconda3/lib/python3.11/site-packages/tensorflow/python/eager/execute.py:53\u001b[0m, in \u001b[0;36mquick_execute\u001b[0;34m(op_name, num_outputs, inputs, attrs, ctx, name)\u001b[0m\n\u001b[1;32m     51\u001b[0m \u001b[38;5;28;01mtry\u001b[39;00m:\n\u001b[1;32m     52\u001b[0m   ctx\u001b[38;5;241m.\u001b[39mensure_initialized()\n\u001b[0;32m---> 53\u001b[0m   tensors \u001b[38;5;241m=\u001b[39m pywrap_tfe\u001b[38;5;241m.\u001b[39mTFE_Py_Execute(ctx\u001b[38;5;241m.\u001b[39m_handle, device_name, op_name,\n\u001b[1;32m     54\u001b[0m                                       inputs, attrs, num_outputs)\n\u001b[1;32m     55\u001b[0m \u001b[38;5;28;01mexcept\u001b[39;00m core\u001b[38;5;241m.\u001b[39m_NotOkStatusException \u001b[38;5;28;01mas\u001b[39;00m e:\n\u001b[1;32m     56\u001b[0m   \u001b[38;5;28;01mif\u001b[39;00m name \u001b[38;5;129;01mis\u001b[39;00m \u001b[38;5;129;01mnot\u001b[39;00m \u001b[38;5;28;01mNone\u001b[39;00m:\n",
      "\u001b[0;31mKeyboardInterrupt\u001b[0m: "
     ]
    }
   ],
   "source": [
    "model = Sequential([\n",
    "    LSTM(100, activation='relu', input_shape=(sequence_length, X_scaled.shape[1])),\n",
    "    Dropout(0.2),\n",
    "    Dense(1)\n",
    "])\n",
    "\n",
    "model.compile(optimizer='adam', loss='mean_squared_error')\n",
    "\n",
    "# Training the model with validation data\n",
    "model.fit(train_generator, epochs=10, validation_data=test_generator)"
   ]
  },
  {
   "cell_type": "markdown",
   "id": "e8c9494b",
   "metadata": {},
   "source": [
    "## 3. Model Evaluation"
   ]
  },
  {
   "cell_type": "code",
   "execution_count": 53,
   "id": "0680bb98",
   "metadata": {},
   "outputs": [
    {
     "name": "stdout",
     "output_type": "stream",
     "text": [
      "16422/16422 [==============================] - 130s 8ms/step\n"
     ]
    },
    {
     "ename": "ValueError",
     "evalue": "Input contains NaN.",
     "output_type": "error",
     "traceback": [
      "\u001b[0;31m---------------------------------------------------------------------------\u001b[0m",
      "\u001b[0;31mValueError\u001b[0m                                Traceback (most recent call last)",
      "Cell \u001b[0;32mIn[53], line 22\u001b[0m\n\u001b[1;32m     19\u001b[0m \u001b[38;5;28;01mfrom\u001b[39;00m \u001b[38;5;21;01msklearn\u001b[39;00m\u001b[38;5;21;01m.\u001b[39;00m\u001b[38;5;21;01mmetrics\u001b[39;00m \u001b[38;5;28;01mimport\u001b[39;00m mean_squared_error, r2_score\n\u001b[1;32m     21\u001b[0m y_eval_true \u001b[38;5;241m=\u001b[39m y_eval[sequence_length:]\n\u001b[0;32m---> 22\u001b[0m \u001b[38;5;28mprint\u001b[39m(\u001b[38;5;124m\"\u001b[39m\u001b[38;5;124mMean Squared Error:\u001b[39m\u001b[38;5;124m\"\u001b[39m, mean_squared_error(y_eval_true, predictions))\n\u001b[1;32m     23\u001b[0m \u001b[38;5;28mprint\u001b[39m(\u001b[38;5;124m\"\u001b[39m\u001b[38;5;124mR2 Score:\u001b[39m\u001b[38;5;124m\"\u001b[39m, r2_score(y_eval_true, predictions))\n",
      "File \u001b[0;32m~/anaconda3/lib/python3.11/site-packages/sklearn/utils/_param_validation.py:211\u001b[0m, in \u001b[0;36mvalidate_params.<locals>.decorator.<locals>.wrapper\u001b[0;34m(*args, **kwargs)\u001b[0m\n\u001b[1;32m    205\u001b[0m \u001b[38;5;28;01mtry\u001b[39;00m:\n\u001b[1;32m    206\u001b[0m     \u001b[38;5;28;01mwith\u001b[39;00m config_context(\n\u001b[1;32m    207\u001b[0m         skip_parameter_validation\u001b[38;5;241m=\u001b[39m(\n\u001b[1;32m    208\u001b[0m             prefer_skip_nested_validation \u001b[38;5;129;01mor\u001b[39;00m global_skip_validation\n\u001b[1;32m    209\u001b[0m         )\n\u001b[1;32m    210\u001b[0m     ):\n\u001b[0;32m--> 211\u001b[0m         \u001b[38;5;28;01mreturn\u001b[39;00m func(\u001b[38;5;241m*\u001b[39margs, \u001b[38;5;241m*\u001b[39m\u001b[38;5;241m*\u001b[39mkwargs)\n\u001b[1;32m    212\u001b[0m \u001b[38;5;28;01mexcept\u001b[39;00m InvalidParameterError \u001b[38;5;28;01mas\u001b[39;00m e:\n\u001b[1;32m    213\u001b[0m     \u001b[38;5;66;03m# When the function is just a wrapper around an estimator, we allow\u001b[39;00m\n\u001b[1;32m    214\u001b[0m     \u001b[38;5;66;03m# the function to delegate validation to the estimator, but we replace\u001b[39;00m\n\u001b[1;32m    215\u001b[0m     \u001b[38;5;66;03m# the name of the estimator by the name of the function in the error\u001b[39;00m\n\u001b[1;32m    216\u001b[0m     \u001b[38;5;66;03m# message to avoid confusion.\u001b[39;00m\n\u001b[1;32m    217\u001b[0m     msg \u001b[38;5;241m=\u001b[39m re\u001b[38;5;241m.\u001b[39msub(\n\u001b[1;32m    218\u001b[0m         \u001b[38;5;124mr\u001b[39m\u001b[38;5;124m\"\u001b[39m\u001b[38;5;124mparameter of \u001b[39m\u001b[38;5;124m\\\u001b[39m\u001b[38;5;124mw+ must be\u001b[39m\u001b[38;5;124m\"\u001b[39m,\n\u001b[1;32m    219\u001b[0m         \u001b[38;5;124mf\u001b[39m\u001b[38;5;124m\"\u001b[39m\u001b[38;5;124mparameter of \u001b[39m\u001b[38;5;132;01m{\u001b[39;00mfunc\u001b[38;5;241m.\u001b[39m\u001b[38;5;18m__qualname__\u001b[39m\u001b[38;5;132;01m}\u001b[39;00m\u001b[38;5;124m must be\u001b[39m\u001b[38;5;124m\"\u001b[39m,\n\u001b[1;32m    220\u001b[0m         \u001b[38;5;28mstr\u001b[39m(e),\n\u001b[1;32m    221\u001b[0m     )\n",
      "File \u001b[0;32m~/anaconda3/lib/python3.11/site-packages/sklearn/metrics/_regression.py:474\u001b[0m, in \u001b[0;36mmean_squared_error\u001b[0;34m(y_true, y_pred, sample_weight, multioutput, squared)\u001b[0m\n\u001b[1;32m    404\u001b[0m \u001b[38;5;129m@validate_params\u001b[39m(\n\u001b[1;32m    405\u001b[0m     {\n\u001b[1;32m    406\u001b[0m         \u001b[38;5;124m\"\u001b[39m\u001b[38;5;124my_true\u001b[39m\u001b[38;5;124m\"\u001b[39m: [\u001b[38;5;124m\"\u001b[39m\u001b[38;5;124marray-like\u001b[39m\u001b[38;5;124m\"\u001b[39m],\n\u001b[0;32m   (...)\u001b[0m\n\u001b[1;32m    415\u001b[0m     y_true, y_pred, \u001b[38;5;241m*\u001b[39m, sample_weight\u001b[38;5;241m=\u001b[39m\u001b[38;5;28;01mNone\u001b[39;00m, multioutput\u001b[38;5;241m=\u001b[39m\u001b[38;5;124m\"\u001b[39m\u001b[38;5;124muniform_average\u001b[39m\u001b[38;5;124m\"\u001b[39m, squared\u001b[38;5;241m=\u001b[39m\u001b[38;5;28;01mTrue\u001b[39;00m\n\u001b[1;32m    416\u001b[0m ):\n\u001b[1;32m    417\u001b[0m \u001b[38;5;250m    \u001b[39m\u001b[38;5;124;03m\"\"\"Mean squared error regression loss.\u001b[39;00m\n\u001b[1;32m    418\u001b[0m \n\u001b[1;32m    419\u001b[0m \u001b[38;5;124;03m    Read more in the :ref:`User Guide <mean_squared_error>`.\u001b[39;00m\n\u001b[0;32m   (...)\u001b[0m\n\u001b[1;32m    472\u001b[0m \u001b[38;5;124;03m    0.825...\u001b[39;00m\n\u001b[1;32m    473\u001b[0m \u001b[38;5;124;03m    \"\"\"\u001b[39;00m\n\u001b[0;32m--> 474\u001b[0m     y_type, y_true, y_pred, multioutput \u001b[38;5;241m=\u001b[39m _check_reg_targets(\n\u001b[1;32m    475\u001b[0m         y_true, y_pred, multioutput\n\u001b[1;32m    476\u001b[0m     )\n\u001b[1;32m    477\u001b[0m     check_consistent_length(y_true, y_pred, sample_weight)\n\u001b[1;32m    478\u001b[0m     output_errors \u001b[38;5;241m=\u001b[39m np\u001b[38;5;241m.\u001b[39maverage((y_true \u001b[38;5;241m-\u001b[39m y_pred) \u001b[38;5;241m*\u001b[39m\u001b[38;5;241m*\u001b[39m \u001b[38;5;241m2\u001b[39m, axis\u001b[38;5;241m=\u001b[39m\u001b[38;5;241m0\u001b[39m, weights\u001b[38;5;241m=\u001b[39msample_weight)\n",
      "File \u001b[0;32m~/anaconda3/lib/python3.11/site-packages/sklearn/metrics/_regression.py:101\u001b[0m, in \u001b[0;36m_check_reg_targets\u001b[0;34m(y_true, y_pred, multioutput, dtype)\u001b[0m\n\u001b[1;32m     99\u001b[0m check_consistent_length(y_true, y_pred)\n\u001b[1;32m    100\u001b[0m y_true \u001b[38;5;241m=\u001b[39m check_array(y_true, ensure_2d\u001b[38;5;241m=\u001b[39m\u001b[38;5;28;01mFalse\u001b[39;00m, dtype\u001b[38;5;241m=\u001b[39mdtype)\n\u001b[0;32m--> 101\u001b[0m y_pred \u001b[38;5;241m=\u001b[39m check_array(y_pred, ensure_2d\u001b[38;5;241m=\u001b[39m\u001b[38;5;28;01mFalse\u001b[39;00m, dtype\u001b[38;5;241m=\u001b[39mdtype)\n\u001b[1;32m    103\u001b[0m \u001b[38;5;28;01mif\u001b[39;00m y_true\u001b[38;5;241m.\u001b[39mndim \u001b[38;5;241m==\u001b[39m \u001b[38;5;241m1\u001b[39m:\n\u001b[1;32m    104\u001b[0m     y_true \u001b[38;5;241m=\u001b[39m y_true\u001b[38;5;241m.\u001b[39mreshape((\u001b[38;5;241m-\u001b[39m\u001b[38;5;241m1\u001b[39m, \u001b[38;5;241m1\u001b[39m))\n",
      "File \u001b[0;32m~/anaconda3/lib/python3.11/site-packages/sklearn/utils/validation.py:959\u001b[0m, in \u001b[0;36mcheck_array\u001b[0;34m(array, accept_sparse, accept_large_sparse, dtype, order, copy, force_all_finite, ensure_2d, allow_nd, ensure_min_samples, ensure_min_features, estimator, input_name)\u001b[0m\n\u001b[1;32m    953\u001b[0m         \u001b[38;5;28;01mraise\u001b[39;00m \u001b[38;5;167;01mValueError\u001b[39;00m(\n\u001b[1;32m    954\u001b[0m             \u001b[38;5;124m\"\u001b[39m\u001b[38;5;124mFound array with dim \u001b[39m\u001b[38;5;132;01m%d\u001b[39;00m\u001b[38;5;124m. \u001b[39m\u001b[38;5;132;01m%s\u001b[39;00m\u001b[38;5;124m expected <= 2.\u001b[39m\u001b[38;5;124m\"\u001b[39m\n\u001b[1;32m    955\u001b[0m             \u001b[38;5;241m%\u001b[39m (array\u001b[38;5;241m.\u001b[39mndim, estimator_name)\n\u001b[1;32m    956\u001b[0m         )\n\u001b[1;32m    958\u001b[0m     \u001b[38;5;28;01mif\u001b[39;00m force_all_finite:\n\u001b[0;32m--> 959\u001b[0m         _assert_all_finite(\n\u001b[1;32m    960\u001b[0m             array,\n\u001b[1;32m    961\u001b[0m             input_name\u001b[38;5;241m=\u001b[39minput_name,\n\u001b[1;32m    962\u001b[0m             estimator_name\u001b[38;5;241m=\u001b[39mestimator_name,\n\u001b[1;32m    963\u001b[0m             allow_nan\u001b[38;5;241m=\u001b[39mforce_all_finite \u001b[38;5;241m==\u001b[39m \u001b[38;5;124m\"\u001b[39m\u001b[38;5;124mallow-nan\u001b[39m\u001b[38;5;124m\"\u001b[39m,\n\u001b[1;32m    964\u001b[0m         )\n\u001b[1;32m    966\u001b[0m \u001b[38;5;28;01mif\u001b[39;00m ensure_min_samples \u001b[38;5;241m>\u001b[39m \u001b[38;5;241m0\u001b[39m:\n\u001b[1;32m    967\u001b[0m     n_samples \u001b[38;5;241m=\u001b[39m _num_samples(array)\n",
      "File \u001b[0;32m~/anaconda3/lib/python3.11/site-packages/sklearn/utils/validation.py:124\u001b[0m, in \u001b[0;36m_assert_all_finite\u001b[0;34m(X, allow_nan, msg_dtype, estimator_name, input_name)\u001b[0m\n\u001b[1;32m    121\u001b[0m \u001b[38;5;28;01mif\u001b[39;00m first_pass_isfinite:\n\u001b[1;32m    122\u001b[0m     \u001b[38;5;28;01mreturn\u001b[39;00m\n\u001b[0;32m--> 124\u001b[0m _assert_all_finite_element_wise(\n\u001b[1;32m    125\u001b[0m     X,\n\u001b[1;32m    126\u001b[0m     xp\u001b[38;5;241m=\u001b[39mxp,\n\u001b[1;32m    127\u001b[0m     allow_nan\u001b[38;5;241m=\u001b[39mallow_nan,\n\u001b[1;32m    128\u001b[0m     msg_dtype\u001b[38;5;241m=\u001b[39mmsg_dtype,\n\u001b[1;32m    129\u001b[0m     estimator_name\u001b[38;5;241m=\u001b[39mestimator_name,\n\u001b[1;32m    130\u001b[0m     input_name\u001b[38;5;241m=\u001b[39minput_name,\n\u001b[1;32m    131\u001b[0m )\n",
      "File \u001b[0;32m~/anaconda3/lib/python3.11/site-packages/sklearn/utils/validation.py:173\u001b[0m, in \u001b[0;36m_assert_all_finite_element_wise\u001b[0;34m(X, xp, allow_nan, msg_dtype, estimator_name, input_name)\u001b[0m\n\u001b[1;32m    156\u001b[0m \u001b[38;5;28;01mif\u001b[39;00m estimator_name \u001b[38;5;129;01mand\u001b[39;00m input_name \u001b[38;5;241m==\u001b[39m \u001b[38;5;124m\"\u001b[39m\u001b[38;5;124mX\u001b[39m\u001b[38;5;124m\"\u001b[39m \u001b[38;5;129;01mand\u001b[39;00m has_nan_error:\n\u001b[1;32m    157\u001b[0m     \u001b[38;5;66;03m# Improve the error message on how to handle missing values in\u001b[39;00m\n\u001b[1;32m    158\u001b[0m     \u001b[38;5;66;03m# scikit-learn.\u001b[39;00m\n\u001b[1;32m    159\u001b[0m     msg_err \u001b[38;5;241m+\u001b[39m\u001b[38;5;241m=\u001b[39m (\n\u001b[1;32m    160\u001b[0m         \u001b[38;5;124mf\u001b[39m\u001b[38;5;124m\"\u001b[39m\u001b[38;5;130;01m\\n\u001b[39;00m\u001b[38;5;132;01m{\u001b[39;00mestimator_name\u001b[38;5;132;01m}\u001b[39;00m\u001b[38;5;124m does not accept missing values\u001b[39m\u001b[38;5;124m\"\u001b[39m\n\u001b[1;32m    161\u001b[0m         \u001b[38;5;124m\"\u001b[39m\u001b[38;5;124m encoded as NaN natively. For supervised learning, you might want\u001b[39m\u001b[38;5;124m\"\u001b[39m\n\u001b[0;32m   (...)\u001b[0m\n\u001b[1;32m    171\u001b[0m         \u001b[38;5;124m\"\u001b[39m\u001b[38;5;124m#estimators-that-handle-nan-values\u001b[39m\u001b[38;5;124m\"\u001b[39m\n\u001b[1;32m    172\u001b[0m     )\n\u001b[0;32m--> 173\u001b[0m \u001b[38;5;28;01mraise\u001b[39;00m \u001b[38;5;167;01mValueError\u001b[39;00m(msg_err)\n",
      "\u001b[0;31mValueError\u001b[0m: Input contains NaN."
     ]
    }
   ],
   "source": [
    "# Prepare the 2023 data\n",
    "df_eval = df[df['datetime_utc'].dt.year == 2023]\n",
    "X_eval = df_eval.drop(['datetime_utc','datetime_stamp', target], axis=1)\n",
    "y_eval = df_eval[target]\n",
    "\n",
    "X_eval_scaled = scaler_x.transform(X_eval)\n",
    "y_eval_scaled = scaler_y.transform(y_eval.values.reshape(-1, 1))\n",
    "\n",
    "# Prepare the generator for evaluation\n",
    "eval_generator = TimeseriesGenerator(X_eval_scaled, y_eval_scaled,\n",
    "                                     length=sequence_length,\n",
    "                                     batch_size=32)\n",
    "\n",
    "# Predict\n",
    "predictions_scaled = model.predict(eval_generator)\n",
    "predictions = scaler_y.inverse_transform(predictions_scaled)\n",
    "\n",
    "# Evaluate (assuming you transform predictions back to the original scale)\n",
    "from sklearn.metrics import mean_squared_error, r2_score\n",
    "\n",
    "y_eval_true = y_eval[sequence_length:]\n",
    "print(\"Mean Squared Error:\", mean_squared_error(y_eval_true, predictions))\n",
    "print(\"R2 Score:\", r2_score(y_eval_true, predictions))"
   ]
  },
  {
   "cell_type": "code",
   "execution_count": null,
   "id": "fef93d5a",
   "metadata": {},
   "outputs": [],
   "source": []
  },
  {
   "cell_type": "markdown",
   "id": "5654b7ac",
   "metadata": {},
   "source": [
    "# Modeling Headwater Elevation Changes instead of Absolute Headwater Elevation"
   ]
  },
  {
   "cell_type": "markdown",
   "id": "1ffb89ed",
   "metadata": {},
   "source": [
    "## Feature Engineering"
   ]
  },
  {
   "cell_type": "code",
   "execution_count": 30,
   "id": "40069546",
   "metadata": {},
   "outputs": [
    {
     "data": {
      "text/plain": [
       "datetime_utc                              0\n",
       "datetime_stamp                            0\n",
       "Wells_Total_Discharge                     0\n",
       "Chelan_Flow                               0\n",
       "Entiat_Flow                               0\n",
       "Rocky_Reach_Total_Discharge               0\n",
       "Wenatchee_Flow                            0\n",
       "Rock_Island_Total_Discharge               0\n",
       "Rock_Island_Headwater_Elevation           0\n",
       "Rocky_Reach_Headwater_Elevation           0\n",
       "Rocky_Reach_Headwater_Elevation_Change    0\n",
       "dtype: int64"
      ]
     },
     "execution_count": 30,
     "metadata": {},
     "output_type": "execute_result"
    }
   ],
   "source": [
    "df1 = df.copy()\n",
    "\n",
    "# Calculate change in headwater elevation for all data\n",
    "df1['Rocky_Reach_Headwater_Elevation_Change'] = df1['Rocky_Reach_Headwater_Elevation'].diff()\n",
    "\n",
    "df1.fillna(method='bfill', inplace=True)\n",
    "\n",
    "df1.isna().sum()"
   ]
  },
  {
   "cell_type": "code",
   "execution_count": 31,
   "id": "721ad032",
   "metadata": {},
   "outputs": [
    {
     "data": {
      "text/plain": [
       "Index(['datetime_utc', 'datetime_stamp', 'Wells_Total_Discharge',\n",
       "       'Chelan_Flow', 'Entiat_Flow', 'Rocky_Reach_Total_Discharge',\n",
       "       'Wenatchee_Flow', 'Rock_Island_Total_Discharge',\n",
       "       'Rock_Island_Headwater_Elevation', 'Rocky_Reach_Headwater_Elevation',\n",
       "       'Rocky_Reach_Headwater_Elevation_Change',\n",
       "       'Rocky_Reach_Headwater_Elevation_lag_1',\n",
       "       'Rocky_Reach_Headwater_Elevation_lag_2',\n",
       "       'Rocky_Reach_Headwater_Elevation_lag_3',\n",
       "       'Rocky_Reach_Total_Discharge_lag_1',\n",
       "       'Rocky_Reach_Total_Discharge_lag_2',\n",
       "       'Rocky_Reach_Total_Discharge_lag_3', 'Wells_Total_Discharge_lag_90',\n",
       "       'Wells_Total_Discharge_lag_91', 'Wells_Total_Discharge_lag_92',\n",
       "       'Wells_Total_Discharge_lag_93', 'Wells_Total_Discharge_lag_94',\n",
       "       'Wells_Total_Discharge_lag_95', 'Wells_Total_Discharge_lag_96',\n",
       "       'Wells_Total_Discharge_lag_97', 'Wells_Total_Discharge_lag_98',\n",
       "       'Wells_Total_Discharge_lag_99', 'Wells_Total_Discharge_lag_100',\n",
       "       'Wells_Total_Discharge_lag_101', 'Wells_Total_Discharge_lag_102',\n",
       "       'Wells_Total_Discharge_lag_103', 'Wells_Total_Discharge_lag_104',\n",
       "       'Wells_Total_Discharge_lag_105', 'Chelan_Flow_lag_62',\n",
       "       'Chelan_Flow_lag_63', 'Chelan_Flow_lag_64', 'Chelan_Flow_lag_65',\n",
       "       'Chelan_Flow_lag_66', 'Chelan_Flow_lag_67', 'Chelan_Flow_lag_68',\n",
       "       'Chelan_Flow_lag_69', 'Chelan_Flow_lag_70', 'Chelan_Flow_lag_71',\n",
       "       'Chelan_Flow_lag_72', 'Chelan_Flow_lag_73', 'Chelan_Flow_lag_74',\n",
       "       'Chelan_Flow_lag_75', 'Chelan_Flow_lag_76', 'Chelan_Flow_lag_77',\n",
       "       'Entiat_Flow_lag_15', 'Entiat_Flow_lag_16', 'Entiat_Flow_lag_17',\n",
       "       'Entiat_Flow_lag_18', 'Entiat_Flow_lag_19', 'Entiat_Flow_lag_20',\n",
       "       'Entiat_Flow_lag_21', 'Entiat_Flow_lag_22', 'Entiat_Flow_lag_23',\n",
       "       'Entiat_Flow_lag_24', 'Entiat_Flow_lag_25', 'Entiat_Flow_lag_26',\n",
       "       'Entiat_Flow_lag_27', 'Entiat_Flow_lag_28', 'Entiat_Flow_lag_29',\n",
       "       'Entiat_Flow_lag_30'],\n",
       "      dtype='object')"
      ]
     },
     "execution_count": 31,
     "metadata": {},
     "output_type": "execute_result"
    }
   ],
   "source": [
    "# Rocky Reach Headwater Elevation lag for the last 3 minutes\n",
    "for lag in range(1, 4):\n",
    "    df1[f'Rocky_Reach_Headwater_Elevation_lag_{lag}'] = df['Rocky_Reach_Headwater_Elevation'].shift(lag)\n",
    "\n",
    "# Rocky Reach Discharge lag for the last 3 minutes\n",
    "for lag in range(1, 4):\n",
    "    df1[f'Rocky_Reach_Total_Discharge_lag_{lag}'] = df['Rocky_Reach_Total_Discharge'].shift(lag)\n",
    "\n",
    "# Wells Flow Impact = flows averaged from previous 90-105 minutes\n",
    "for lag in range(90, 106):\n",
    "    df1[f'Wells_Total_Discharge_lag_{lag}'] = df['Wells_Total_Discharge'].shift(lag)\n",
    "\n",
    "# Chelan Flow Impact = flows averaged from previous 62-77 minutes\n",
    "for lag in range(62, 78):\n",
    "    df1[f'Chelan_Flow_lag_{lag}'] = df['Chelan_Flow'].shift(lag)\n",
    "\n",
    "# Entiat Flow Impact = flows averaged from previous 15-30 minutes\n",
    "for lag in range(15, 31):\n",
    "    df1[f'Entiat_Flow_lag_{lag}'] = df['Entiat_Flow'].shift(lag)\n",
    "\n",
    "df1.columns"
   ]
  },
  {
   "cell_type": "code",
   "execution_count": 32,
   "id": "f2d0e0f9",
   "metadata": {},
   "outputs": [
    {
     "data": {
      "text/plain": [
       "(2629335, 56)"
      ]
     },
     "execution_count": 32,
     "metadata": {},
     "output_type": "execute_result"
    }
   ],
   "source": [
    "# List of unnecessary columns to drop\n",
    "columns_to_drop = ['datetime_stamp', 'Wells_Total_Discharge','Chelan_Flow', 'Entiat_Flow',\n",
    "                   'Rocky_Reach_Headwater_Elevation', 'Rocky_Reach_Total_Discharge',\n",
    "                   'Wenatchee_Flow', 'Rock_Island_Total_Discharge', 'Rock_Island_Headwater_Elevation']\n",
    "\n",
    "# Drop the unnecessary columns\n",
    "df1_rr = df1.drop(columns=columns_to_drop).copy()\n",
    "\n",
    "# Drop rows with missing values\n",
    "df1_rr.dropna(inplace=True)\n",
    "\n",
    "df1_rr.shape"
   ]
  },
  {
   "cell_type": "code",
   "execution_count": 33,
   "id": "ad119de8",
   "metadata": {},
   "outputs": [
    {
     "name": "stdout",
     "output_type": "stream",
     "text": [
      "(2103255, 56)\n",
      "(525600, 56)\n"
     ]
    }
   ],
   "source": [
    "# Create a new dataframe with the filtered data for years before 2023\n",
    "df1_before_2023 = df1_rr[df1_rr['datetime_utc'].dt.year < 2023]\n",
    "\n",
    "# Create a new dataframe with 2023 data \n",
    "df1_2023 = df1_rr[df1_rr['datetime_utc'].dt.year == 2023]\n",
    "\n",
    "# Check the results\n",
    "print(df1_before_2023.shape)\n",
    "print(df1_2023.shape)"
   ]
  },
  {
   "cell_type": "code",
   "execution_count": 34,
   "id": "0b5da957",
   "metadata": {},
   "outputs": [
    {
     "data": {
      "text/plain": [
       "Index(['Rocky_Reach_Headwater_Elevation_Change',\n",
       "       'Rocky_Reach_Headwater_Elevation_lag_1',\n",
       "       'Rocky_Reach_Headwater_Elevation_lag_2',\n",
       "       'Rocky_Reach_Headwater_Elevation_lag_3',\n",
       "       'Rocky_Reach_Total_Discharge_lag_1',\n",
       "       'Rocky_Reach_Total_Discharge_lag_2',\n",
       "       'Rocky_Reach_Total_Discharge_lag_3', 'Wells_Total_Discharge_lag_90',\n",
       "       'Wells_Total_Discharge_lag_91', 'Wells_Total_Discharge_lag_92',\n",
       "       'Wells_Total_Discharge_lag_93', 'Wells_Total_Discharge_lag_94',\n",
       "       'Wells_Total_Discharge_lag_95', 'Wells_Total_Discharge_lag_96',\n",
       "       'Wells_Total_Discharge_lag_97', 'Wells_Total_Discharge_lag_98',\n",
       "       'Wells_Total_Discharge_lag_99', 'Wells_Total_Discharge_lag_100',\n",
       "       'Wells_Total_Discharge_lag_101', 'Wells_Total_Discharge_lag_102',\n",
       "       'Wells_Total_Discharge_lag_103', 'Wells_Total_Discharge_lag_104',\n",
       "       'Wells_Total_Discharge_lag_105', 'Chelan_Flow_lag_62',\n",
       "       'Chelan_Flow_lag_63', 'Chelan_Flow_lag_64', 'Chelan_Flow_lag_65',\n",
       "       'Chelan_Flow_lag_66', 'Chelan_Flow_lag_67', 'Chelan_Flow_lag_68',\n",
       "       'Chelan_Flow_lag_69', 'Chelan_Flow_lag_70', 'Chelan_Flow_lag_71',\n",
       "       'Chelan_Flow_lag_72', 'Chelan_Flow_lag_73', 'Chelan_Flow_lag_74',\n",
       "       'Chelan_Flow_lag_75', 'Chelan_Flow_lag_76', 'Chelan_Flow_lag_77',\n",
       "       'Entiat_Flow_lag_15', 'Entiat_Flow_lag_16', 'Entiat_Flow_lag_17',\n",
       "       'Entiat_Flow_lag_18', 'Entiat_Flow_lag_19', 'Entiat_Flow_lag_20',\n",
       "       'Entiat_Flow_lag_21', 'Entiat_Flow_lag_22', 'Entiat_Flow_lag_23',\n",
       "       'Entiat_Flow_lag_24', 'Entiat_Flow_lag_25', 'Entiat_Flow_lag_26',\n",
       "       'Entiat_Flow_lag_27', 'Entiat_Flow_lag_28', 'Entiat_Flow_lag_29',\n",
       "       'Entiat_Flow_lag_30'],\n",
       "      dtype='object')"
      ]
     },
     "execution_count": 34,
     "metadata": {},
     "output_type": "execute_result"
    }
   ],
   "source": [
    "data1 = df1_before_2023.drop(columns=['datetime_utc']).copy()\n",
    "data1.columns"
   ]
  },
  {
   "cell_type": "code",
   "execution_count": 35,
   "id": "601033a4",
   "metadata": {},
   "outputs": [
    {
     "data": {
      "text/plain": [
       "(2103255, 55)"
      ]
     },
     "execution_count": 35,
     "metadata": {},
     "output_type": "execute_result"
    }
   ],
   "source": [
    "data1.shape"
   ]
  },
  {
   "cell_type": "markdown",
   "id": "f9ab23f6",
   "metadata": {},
   "source": [
    "## Feature Selection Using PCA"
   ]
  },
  {
   "cell_type": "code",
   "execution_count": 36,
   "id": "c4fe5f1b",
   "metadata": {},
   "outputs": [],
   "source": [
    "# Separate features and target\n",
    "target = 'Rocky_Reach_Headwater_Elevation_Change'\n",
    "X = data1.drop(columns=[target]) \n",
    "y = data1[target]  # Target"
   ]
  },
  {
   "cell_type": "code",
   "execution_count": 37,
   "id": "bbcdcba5",
   "metadata": {},
   "outputs": [
    {
     "data": {
      "image/png": "[encoded data removed]",
      "text/plain": [
       "<Figure size 1000x600 with 1 Axes>"
      ]
     },
     "metadata": {},
     "output_type": "display_data"
    }
   ],
   "source": [
    "# Define a range of components to test\n",
    "component_range = range(25, 55)\n",
    "\n",
    "# Store the average cross-validation score for each number of components\n",
    "cv_scores = []\n",
    "\n",
    "# Set up cross-validation scheme\n",
    "cv = KFold(n_splits=5, shuffle=True, random_state=42)\n",
    "\n",
    "# Perform grid search\n",
    "for n_components in component_range:\n",
    "    # Set up PCA with the current number of components\n",
    "    pca = PCA(n_components=n_components)\n",
    "    \n",
    "    # Transform X accordingly\n",
    "    X_pca = pca.fit_transform(X)\n",
    "    \n",
    "    # Set up the regression model\n",
    "    model = LinearRegression()\n",
    "    \n",
    "    # Perform cross-validation and store the average score\n",
    "    scores = cross_val_score(model, X_pca, y, cv=cv, scoring='r2')\n",
    "    cv_scores.append(np.mean(scores))\n",
    "\n",
    "\n",
    "# Plot the scores\n",
    "plt.figure(figsize=(10, 6))\n",
    "plt.plot(component_range, cv_scores, marker='o', linestyle='--')\n",
    "plt.xlabel('Number of PCA Components')\n",
    "plt.ylabel('Average R2 Score')\n",
    "plt.title('PCA Components vs R2 Score')\n",
    "plt.grid(True)\n",
    "plt.show()"
   ]
  },
  {
   "cell_type": "markdown",
   "id": "2d7da8b0",
   "metadata": {},
   "source": [
    "## Modeling"
   ]
  },
  {
   "cell_type": "code",
   "execution_count": 38,
   "id": "15453c4d",
   "metadata": {},
   "outputs": [
    {
     "name": "stdout",
     "output_type": "stream",
     "text": [
      "Mean Squared Error for Rocky Reach Dam: 0.001109115854478554\n",
      "R-Squared for Rocky Reach Dam: 0.14341573794181706\n"
     ]
    }
   ],
   "source": [
    "pca = PCA(n_components=30)\n",
    "X_pca = pca.fit_transform(X)\n",
    "\n",
    "# Splitting the data into train and test sets\n",
    "X_train, X_test, y_train, y_test = train_test_split(X_pca, y, test_size=0.3, shuffle=False)\n",
    "\n",
    "# Model training with Linear Regression\n",
    "model = LinearRegression()\n",
    "model.fit(X_train, y_train)\n",
    "\n",
    "# Predictions and evaluation\n",
    "y_pred = model.predict(X_test)\n",
    "print(\"Mean Squared Error for Rocky Reach Dam:\", mean_squared_error(y_test, y_pred))\n",
    "print(\"R-Squared for Rocky Reach Dam:\", r2_score(y_test, y_pred))"
   ]
  },
  {
   "cell_type": "code",
   "execution_count": 39,
   "id": "585c0efe",
   "metadata": {},
   "outputs": [
    {
     "name": "stdout",
     "output_type": "stream",
     "text": [
      "10 Most Influential Features in _ Components PCA for Rocky Reach\n",
      "Wells_Total_Discharge_lag_101    14\n",
      "Wells_Total_Discharge_lag_96     13\n",
      "Wells_Total_Discharge_lag_95     13\n",
      "Wells_Total_Discharge_lag_100    13\n",
      "Wells_Total_Discharge_lag_94     13\n",
      "Wells_Total_Discharge_lag_97     12\n",
      "Wells_Total_Discharge_lag_99     12\n",
      "Wells_Total_Discharge_lag_93     12\n",
      "Wells_Total_Discharge_lag_102    12\n",
      "Wells_Total_Discharge_lag_98     12\n",
      "dtype: int64\n"
     ]
    }
   ],
   "source": [
    "# Features from the data\n",
    "feature_names = X.columns\n",
    "\n",
    "# Components given by pca\n",
    "components = pca.components_\n",
    "\n",
    "# Function to get top features for each component\n",
    "def get_top_features_for_component(component, num_features):\n",
    "    sorted_feature_indices = np.argsort(np.abs(component))[::-1][:num_features]\n",
    "    return feature_names[sorted_feature_indices]\n",
    "\n",
    "# Getting top 10 features for each component\n",
    "num_top_features = 10 \n",
    "top_features_per_component = {}\n",
    "\n",
    "for i, component in enumerate(components):\n",
    "    top_features = get_top_features_for_component(component, num_top_features)\n",
    "    top_features_per_component[f\"Component {i+1}\"] = top_features\n",
    "\n",
    "# Counting how often each feature appears in the top lists\n",
    "feature_counts = pd.Series(np.concatenate(list(top_features_per_component.values()))).value_counts()\n",
    "\n",
    "# Displaying the most frequently appearing features\n",
    "print(\"10 Most Influential Features in _ Components PCA for Rocky Reach\")\n",
    "print(feature_counts.head(10))"
   ]
  },
  {
   "cell_type": "markdown",
   "id": "4f96bf5a",
   "metadata": {},
   "source": [
    "## Model Evaluation"
   ]
  },
  {
   "cell_type": "code",
   "execution_count": 40,
   "id": "e5482299",
   "metadata": {},
   "outputs": [
    {
     "data": {
      "text/plain": [
       "(525600, 55)"
      ]
     },
     "execution_count": 40,
     "metadata": {},
     "output_type": "execute_result"
    }
   ],
   "source": [
    "data1_2023 = df1_2023.drop(columns=['datetime_utc']).copy()\n",
    "data1_2023.shape"
   ]
  },
  {
   "cell_type": "code",
   "execution_count": 41,
   "id": "848cd805",
   "metadata": {},
   "outputs": [],
   "source": [
    "target = 'Rocky_Reach_Headwater_Elevation_Change'\n",
    "X_eval = data1_2023.drop(columns=[target]) \n",
    "y_eval = data1_2023[target]  # Target"
   ]
  },
  {
   "cell_type": "code",
   "execution_count": 42,
   "id": "50ad0f99",
   "metadata": {},
   "outputs": [
    {
     "name": "stdout",
     "output_type": "stream",
     "text": [
      "Mean Squared Error for Rocky Reach Dam: 0.0012216799665308827\n",
      "R-Squared for Rocky Reach Dam: 0.15034642601121062\n"
     ]
    }
   ],
   "source": [
    "X_eval_pca_corrected = pca.transform(X_eval)\n",
    "y_pred = model.predict(X_eval_pca_corrected)\n",
    "\n",
    "print(\"Mean Squared Error for Rocky Reach Dam:\", mean_squared_error(y_eval, y_pred))\n",
    "print(\"R-Squared for Rocky Reach Dam:\", r2_score(y_eval, y_pred))"
   ]
  },
  {
   "cell_type": "code",
   "execution_count": null,
   "id": "f66e5e77",
   "metadata": {},
   "outputs": [],
   "source": []
  },
  {
   "cell_type": "code",
   "execution_count": null,
   "id": "6810ec02",
   "metadata": {},
   "outputs": [],
   "source": []
  },
  {
   "cell_type": "code",
   "execution_count": null,
   "id": "fc6356b3",
   "metadata": {},
   "outputs": [],
   "source": []
  },
  {
   "cell_type": "code",
   "execution_count": null,
   "id": "18ca0946",
   "metadata": {},
   "outputs": [],
   "source": []
  },
  {
   "cell_type": "code",
   "execution_count": null,
   "id": "98801220",
   "metadata": {},
   "outputs": [],
   "source": []
  },
  {
   "cell_type": "code",
   "execution_count": null,
   "id": "abae60f7",
   "metadata": {},
   "outputs": [],
   "source": []
  },
  {
   "cell_type": "code",
   "execution_count": null,
   "id": "a6631713",
   "metadata": {},
   "outputs": [],
   "source": []
  },
  {
   "cell_type": "code",
   "execution_count": null,
   "id": "c64bf48c",
   "metadata": {},
   "outputs": [],
   "source": []
  },
  {
   "cell_type": "code",
   "execution_count": null,
   "id": "f93bf16b",
   "metadata": {},
   "outputs": [],
   "source": []
  },
  {
   "cell_type": "code",
   "execution_count": null,
   "id": "a1dbc4e8",
   "metadata": {},
   "outputs": [],
   "source": []
  },
  {
   "cell_type": "code",
   "execution_count": null,
   "id": "cc05be45",
   "metadata": {},
   "outputs": [],
   "source": []
  },
  {
   "cell_type": "code",
   "execution_count": null,
   "id": "11a77f79",
   "metadata": {},
   "outputs": [],
   "source": []
  },
  {
   "cell_type": "code",
   "execution_count": null,
   "id": "c3bb057a",
   "metadata": {},
   "outputs": [],
   "source": []
  },
  {
   "cell_type": "code",
   "execution_count": null,
   "id": "e9f279cd",
   "metadata": {},
   "outputs": [],
   "source": []
  },
  {
   "cell_type": "code",
   "execution_count": null,
   "id": "ea98caf6",
   "metadata": {},
   "outputs": [],
   "source": []
  },
  {
   "cell_type": "code",
   "execution_count": null,
   "id": "ebcbc738",
   "metadata": {},
   "outputs": [],
   "source": []
  },
  {
   "cell_type": "code",
   "execution_count": null,
   "id": "8e13a10e",
   "metadata": {},
   "outputs": [],
   "source": []
  },
  {
   "cell_type": "code",
   "execution_count": null,
   "id": "496cf05b",
   "metadata": {},
   "outputs": [],
   "source": []
  },
  {
   "cell_type": "code",
   "execution_count": null,
   "id": "e082ffb7",
   "metadata": {},
   "outputs": [],
   "source": []
  },
  {
   "cell_type": "code",
   "execution_count": null,
   "id": "4bb554af",
   "metadata": {},
   "outputs": [],
   "source": []
  },
  {
   "cell_type": "code",
   "execution_count": null,
   "id": "1d1366c4",
   "metadata": {},
   "outputs": [],
   "source": []
  },
  {
   "cell_type": "code",
   "execution_count": null,
   "id": "9686620d",
   "metadata": {},
   "outputs": [],
   "source": []
  },
  {
   "cell_type": "code",
   "execution_count": null,
   "id": "af52cfe2",
   "metadata": {},
   "outputs": [],
   "source": []
  },
  {
   "cell_type": "code",
   "execution_count": null,
   "id": "67660978",
   "metadata": {},
   "outputs": [],
   "source": []
  },
  {
   "cell_type": "code",
   "execution_count": null,
   "id": "5ad3ff63",
   "metadata": {},
   "outputs": [],
   "source": []
  },
  {
   "cell_type": "markdown",
   "id": "3f62a243",
   "metadata": {},
   "source": [
    "# Rock Island"
   ]
  },
  {
   "cell_type": "markdown",
   "id": "a5d671ba",
   "metadata": {},
   "source": [
    "## Feature Engineering"
   ]
  },
  {
   "cell_type": "code",
   "execution_count": 43,
   "id": "e0def316",
   "metadata": {},
   "outputs": [],
   "source": [
    "df_ri_lagged = df.copy()\n",
    "\n",
    "# Rock Island Headwater Elevation lag for last 2 minutes\n",
    "for lag in range(1, 3):\n",
    "    df_ri_lagged[f'Rock_Island_Headwater_Elevation_lag_{lag}'] = df['Rock_Island_Headwater_Elevation'].shift(lag)\n",
    "\n",
    "# Rocky Island Discharge lag for last 2 minutes\n",
    "for lag in range(1, 3):\n",
    "    df_ri_lagged[f'Rock_Island_Total_Discharge_lag_{lag}'] = df['Rock_Island_Total_Discharge'].shift(lag)\n",
    "\n",
    "# Wells Flow Impact = flows from last 15-30 minutes.\n",
    "for lag in range(15, 31):\n",
    "    df_ri_lagged[f'Wenatchee_Flow_lag_{lag}'] = df['Wenatchee_Flow'].shift(lag)\n",
    "\n",
    "# Rocky Reach Discharge Impact = Discharge lags from last 60 to 90 minutes\n",
    "for lag in range(60, 91):\n",
    "    df_ri_lagged[f'Rocky_Reach_Total_Discharge_lag_{lag}'] = df['Rocky_Reach_Total_Discharge'].shift(lag)"
   ]
  },
  {
   "cell_type": "code",
   "execution_count": 44,
   "id": "2610772a",
   "metadata": {},
   "outputs": [
    {
     "data": {
      "text/plain": [
       "(2629350, 53)"
      ]
     },
     "execution_count": 44,
     "metadata": {},
     "output_type": "execute_result"
    }
   ],
   "source": [
    "# List of columns to drop\n",
    "columns_to_drop = ['datetime_stamp', 'Wells_Total_Discharge', 'Rock_Island_Total_Discharge',\n",
    "                   'Chelan_Flow', 'Entiat_Flow', 'Rocky_Reach_Total_Discharge',\n",
    "                   'Wenatchee_Flow', 'Rocky_Reach_Headwater_Elevation']\n",
    "\n",
    "# Create the DataFrame df_ri by dropping the specified columns\n",
    "df_ri = df_ri_lagged.drop(columns=columns_to_drop).copy()\n",
    "\n",
    "# Drop rows with missing values\n",
    "df_ri.dropna(inplace=True)\n",
    "df_ri.shape"
   ]
  },
  {
   "cell_type": "code",
   "execution_count": 45,
   "id": "b01d388f",
   "metadata": {},
   "outputs": [
    {
     "name": "stdout",
     "output_type": "stream",
     "text": [
      "(2103270, 53)\n",
      "(525600, 53)\n"
     ]
    }
   ],
   "source": [
    "# Create a new dataframe with the filtered data for years before 2023\n",
    "df_before_2023 = df_ri[df_ri['datetime_utc'].dt.year < 2023]\n",
    "\n",
    "# Create a new dataframe with 2023 data \n",
    "df_2023 = df_ri[df_ri['datetime_utc'].dt.year == 2023]\n",
    "\n",
    "# Check the results\n",
    "print(df_before_2023.shape)\n",
    "print(df_2023.shape)"
   ]
  },
  {
   "cell_type": "code",
   "execution_count": 46,
   "id": "b15b5a85",
   "metadata": {},
   "outputs": [
    {
     "data": {
      "text/plain": [
       "Index(['Rock_Island_Headwater_Elevation',\n",
       "       'Rock_Island_Headwater_Elevation_lag_1',\n",
       "       'Rock_Island_Headwater_Elevation_lag_2',\n",
       "       'Rock_Island_Total_Discharge_lag_1',\n",
       "       'Rock_Island_Total_Discharge_lag_2', 'Wenatchee_Flow_lag_15',\n",
       "       'Wenatchee_Flow_lag_16', 'Wenatchee_Flow_lag_17',\n",
       "       'Wenatchee_Flow_lag_18', 'Wenatchee_Flow_lag_19',\n",
       "       'Wenatchee_Flow_lag_20', 'Wenatchee_Flow_lag_21',\n",
       "       'Wenatchee_Flow_lag_22', 'Wenatchee_Flow_lag_23',\n",
       "       'Wenatchee_Flow_lag_24', 'Wenatchee_Flow_lag_25',\n",
       "       'Wenatchee_Flow_lag_26', 'Wenatchee_Flow_lag_27',\n",
       "       'Wenatchee_Flow_lag_28', 'Wenatchee_Flow_lag_29',\n",
       "       'Wenatchee_Flow_lag_30', 'Rocky_Reach_Total_Discharge_lag_60',\n",
       "       'Rocky_Reach_Total_Discharge_lag_61',\n",
       "       'Rocky_Reach_Total_Discharge_lag_62',\n",
       "       'Rocky_Reach_Total_Discharge_lag_63',\n",
       "       'Rocky_Reach_Total_Discharge_lag_64',\n",
       "       'Rocky_Reach_Total_Discharge_lag_65',\n",
       "       'Rocky_Reach_Total_Discharge_lag_66',\n",
       "       'Rocky_Reach_Total_Discharge_lag_67',\n",
       "       'Rocky_Reach_Total_Discharge_lag_68',\n",
       "       'Rocky_Reach_Total_Discharge_lag_69',\n",
       "       'Rocky_Reach_Total_Discharge_lag_70',\n",
       "       'Rocky_Reach_Total_Discharge_lag_71',\n",
       "       'Rocky_Reach_Total_Discharge_lag_72',\n",
       "       'Rocky_Reach_Total_Discharge_lag_73',\n",
       "       'Rocky_Reach_Total_Discharge_lag_74',\n",
       "       'Rocky_Reach_Total_Discharge_lag_75',\n",
       "       'Rocky_Reach_Total_Discharge_lag_76',\n",
       "       'Rocky_Reach_Total_Discharge_lag_77',\n",
       "       'Rocky_Reach_Total_Discharge_lag_78',\n",
       "       'Rocky_Reach_Total_Discharge_lag_79',\n",
       "       'Rocky_Reach_Total_Discharge_lag_80',\n",
       "       'Rocky_Reach_Total_Discharge_lag_81',\n",
       "       'Rocky_Reach_Total_Discharge_lag_82',\n",
       "       'Rocky_Reach_Total_Discharge_lag_83',\n",
       "       'Rocky_Reach_Total_Discharge_lag_84',\n",
       "       'Rocky_Reach_Total_Discharge_lag_85',\n",
       "       'Rocky_Reach_Total_Discharge_lag_86',\n",
       "       'Rocky_Reach_Total_Discharge_lag_87',\n",
       "       'Rocky_Reach_Total_Discharge_lag_88',\n",
       "       'Rocky_Reach_Total_Discharge_lag_89',\n",
       "       'Rocky_Reach_Total_Discharge_lag_90'],\n",
       "      dtype='object')"
      ]
     },
     "execution_count": 46,
     "metadata": {},
     "output_type": "execute_result"
    }
   ],
   "source": [
    "data = df_before_2023.drop(columns=['datetime_utc']).copy()\n",
    "data.columns"
   ]
  },
  {
   "cell_type": "code",
   "execution_count": 47,
   "id": "dc9332dc",
   "metadata": {},
   "outputs": [
    {
     "data": {
      "text/plain": [
       "(2103270, 52)"
      ]
     },
     "execution_count": 47,
     "metadata": {},
     "output_type": "execute_result"
    }
   ],
   "source": [
    "data.shape"
   ]
  },
  {
   "cell_type": "markdown",
   "id": "fb3a043f",
   "metadata": {},
   "source": [
    "## Modeling"
   ]
  },
  {
   "cell_type": "code",
   "execution_count": 48,
   "id": "2f05b222",
   "metadata": {},
   "outputs": [],
   "source": [
    "# Separate features and target\n",
    "target = 'Rock_Island_Headwater_Elevation'\n",
    "X = data.drop(columns=[target]) \n",
    "y = data[target]  # Target"
   ]
  },
  {
   "cell_type": "raw",
   "id": "6ce46889",
   "metadata": {},
   "source": [
    "# Define a range of components to test\n",
    "component_range = range(5, 25)\n",
    "\n",
    "# Store the average cross-validation score for each number of components\n",
    "cv_scores = []\n",
    "\n",
    "# Set up cross-validation scheme\n",
    "cv = KFold(n_splits=5, shuffle=True, random_state=42)\n",
    "\n",
    "# Perform grid search\n",
    "for n_components in component_range:\n",
    "    # Set up PCA with the current number of components\n",
    "    pca = PCA(n_components=n_components)\n",
    "    \n",
    "    # Transform X accordingly\n",
    "    X_pca = pca.fit_transform(X)\n",
    "    \n",
    "    # Set up the regression model\n",
    "    model = LinearRegression()\n",
    "    \n",
    "    # Perform cross-validation and store the average score\n",
    "    scores = cross_val_score(model, X_pca, y, cv=cv, scoring='r2')\n",
    "    cv_scores.append(np.mean(scores))\n",
    "\n",
    "\n",
    "# Plot the scores\n",
    "plt.figure(figsize=(10, 6))\n",
    "plt.plot(component_range, cv_scores, marker='o', linestyle='--')\n",
    "plt.xlabel('Number of PCA Components')\n",
    "plt.ylabel('Average R2 Score')\n",
    "plt.title('PCA Components vs R2 Score')\n",
    "plt.grid(True)\n",
    "plt.show()"
   ]
  },
  {
   "cell_type": "markdown",
   "id": "b38cee85",
   "metadata": {},
   "source": [
    "**Optimal Components-22**"
   ]
  },
  {
   "cell_type": "code",
   "execution_count": 49,
   "id": "8a31ff0e",
   "metadata": {},
   "outputs": [
    {
     "name": "stdout",
     "output_type": "stream",
     "text": [
      "Mean Squared Error for Rocky Reach Dam: 0.0008596506941184527\n",
      "R-Squared for Rocky Reach Dam: 0.9948039889254207\n"
     ]
    }
   ],
   "source": [
    "pca = PCA(n_components=22)\n",
    "X_pca = pca.fit_transform(X)\n",
    "\n",
    "# Splitting the data into train and test sets\n",
    "X_train, X_test, y_train, y_test = train_test_split(X_pca, y, test_size=0.3, shuffle=False)\n",
    "\n",
    "# Model training with Linear Regression\n",
    "model = LinearRegression()\n",
    "model.fit(X_train, y_train)\n",
    "\n",
    "# Predictions and evaluation\n",
    "y_pred = model.predict(X_test)\n",
    "print(\"Mean Squared Error for Rocky Reach Dam:\", mean_squared_error(y_test, y_pred))\n",
    "print(\"R-Squared for Rocky Reach Dam:\", r2_score(y_test, y_pred))"
   ]
  },
  {
   "cell_type": "markdown",
   "id": "f4aedbbc",
   "metadata": {},
   "source": [
    "## Model Evaluation"
   ]
  },
  {
   "cell_type": "code",
   "execution_count": 50,
   "id": "8ca21f8a",
   "metadata": {},
   "outputs": [
    {
     "data": {
      "text/plain": [
       "(525600, 52)"
      ]
     },
     "execution_count": 50,
     "metadata": {},
     "output_type": "execute_result"
    }
   ],
   "source": [
    "data_2023 = df_2023.drop(columns=['datetime_utc']).copy()\n",
    "data_2023.shape"
   ]
  },
  {
   "cell_type": "code",
   "execution_count": 51,
   "id": "f0f9d61b",
   "metadata": {},
   "outputs": [],
   "source": [
    "target = 'Rock_Island_Headwater_Elevation'\n",
    "X_eval = data_2023.drop(columns=[target]) \n",
    "y_eval = data_2023[target]  # Target"
   ]
  },
  {
   "cell_type": "code",
   "execution_count": 52,
   "id": "65374138",
   "metadata": {},
   "outputs": [
    {
     "name": "stdout",
     "output_type": "stream",
     "text": [
      "Mean Squared Error for Rocky Reach Dam: 0.0008193723009927348\n",
      "R-Squared for Rocky Reach Dam: 0.9963870489807473\n"
     ]
    }
   ],
   "source": [
    "X_eval_pca_corrected = pca.transform(X_eval)\n",
    "\n",
    "y_pred = model.predict(X_eval_pca_corrected)\n",
    "print(\"Mean Squared Error for Rocky Reach Dam:\", mean_squared_error(y_eval, y_pred))\n",
    "print(\"R-Squared for Rocky Reach Dam:\", r2_score(y_eval, y_pred))"
   ]
  },
  {
   "cell_type": "code",
   "execution_count": 53,
   "id": "3f1174e0",
   "metadata": {},
   "outputs": [
    {
     "name": "stdout",
     "output_type": "stream",
     "text": [
      "10 Most Influential Features in 22 Components PCA for Rock Island\n",
      "Rocky_Reach_Total_Discharge_lag_60    12\n",
      "Rocky_Reach_Total_Discharge_lag_90    11\n",
      "Rocky_Reach_Total_Discharge_lag_71     9\n",
      "Rocky_Reach_Total_Discharge_lag_79     8\n",
      "Rocky_Reach_Total_Discharge_lag_75     8\n",
      "Rocky_Reach_Total_Discharge_lag_74     7\n",
      "Rocky_Reach_Total_Discharge_lag_64     7\n",
      "Rocky_Reach_Total_Discharge_lag_68     7\n",
      "Rocky_Reach_Total_Discharge_lag_67     7\n",
      "Rocky_Reach_Total_Discharge_lag_70     7\n",
      "dtype: int64\n"
     ]
    }
   ],
   "source": [
    "# Features from the data\n",
    "feature_names = X.columns\n",
    "\n",
    "# Components given by pca\n",
    "components = pca.components_\n",
    "\n",
    "# Function to get top features for each component\n",
    "def get_top_features_for_component(component, num_features):\n",
    "    sorted_feature_indices = np.argsort(np.abs(component))[::-1][:num_features]\n",
    "    return feature_names[sorted_feature_indices]\n",
    "\n",
    "# Getting top 10 features for each component\n",
    "num_top_features = 10 \n",
    "top_features_per_component = {}\n",
    "\n",
    "for i, component in enumerate(components):\n",
    "    top_features = get_top_features_for_component(component, num_top_features)\n",
    "    top_features_per_component[f\"Component {i+1}\"] = top_features\n",
    "\n",
    "# Counting how often each feature appears in the top lists\n",
    "feature_counts = pd.Series(np.concatenate(list(top_features_per_component.values()))).value_counts()\n",
    "\n",
    "# Displaying the most frequently appearing features\n",
    "print(\"10 Most Influential Features in 22 Components PCA for Rock Island\")\n",
    "print(feature_counts.head(10))"
   ]
  },
  {
   "cell_type": "code",
   "execution_count": null,
   "id": "b864d7dc",
   "metadata": {},
   "outputs": [],
   "source": []
  },
  {
   "cell_type": "code",
   "execution_count": null,
   "id": "a32d42bd",
   "metadata": {},
   "outputs": [],
   "source": []
  }
 ],
 "metadata": {
  "kernelspec": {
   "display_name": "Python 3 (ipykernel)",
   "language": "python",
   "name": "python3"
  },
  "language_info": {
   "codemirror_mode": {
    "name": "ipython",
    "version": 3
   },
   "file_extension": ".py",
   "mimetype": "text/x-python",
   "name": "python",
   "nbconvert_exporter": "python",
   "pygments_lexer": "ipython3",
   "version": "3.9.12"
  }
 },
 "nbformat": 4,
 "nbformat_minor": 5
}
